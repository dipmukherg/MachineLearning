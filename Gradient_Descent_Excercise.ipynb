{
 "cells": [
  {
   "cell_type": "markdown",
   "metadata": {},
   "source": [
    "### Objective:\n",
    "- To write gradient descent function from scratch\n",
    "- To check its efficiency with Boston House Price dataset inbuilt in sklearn\n",
    "- To compare this model with sklearn linear regression model and SGDRegressor"
   ]
  },
  {
   "cell_type": "code",
   "execution_count": 1,
   "metadata": {},
   "outputs": [],
   "source": [
    "import pandas as pd\n",
    "from sklearn import datasets\n",
    "from scipy.spatial.distance import cosine\n",
    "import numpy as np\n",
    "import matplotlib.pyplot as plt"
   ]
  },
  {
   "cell_type": "code",
   "execution_count": 2,
   "metadata": {},
   "outputs": [],
   "source": [
    "data = datasets.load_boston()"
   ]
  },
  {
   "cell_type": "code",
   "execution_count": 3,
   "metadata": {},
   "outputs": [],
   "source": [
    "df = pd.DataFrame(data.data,columns=['CRIM', 'ZN', 'INDUS', 'CHAS', 'NOX', 'RM', 'AGE', 'DIS', 'RAD',\n",
    "        'TAX', 'PTRATIO', 'B', 'LSTAT'])"
   ]
  },
  {
   "cell_type": "code",
   "execution_count": 4,
   "metadata": {},
   "outputs": [],
   "source": [
    "df['target']=data.target"
   ]
  },
  {
   "cell_type": "code",
   "execution_count": 5,
   "metadata": {},
   "outputs": [
    {
     "data": {
      "text/html": [
       "<div>\n",
       "<style scoped>\n",
       "    .dataframe tbody tr th:only-of-type {\n",
       "        vertical-align: middle;\n",
       "    }\n",
       "\n",
       "    .dataframe tbody tr th {\n",
       "        vertical-align: top;\n",
       "    }\n",
       "\n",
       "    .dataframe thead th {\n",
       "        text-align: right;\n",
       "    }\n",
       "</style>\n",
       "<table border=\"1\" class=\"dataframe\">\n",
       "  <thead>\n",
       "    <tr style=\"text-align: right;\">\n",
       "      <th></th>\n",
       "      <th>CRIM</th>\n",
       "      <th>ZN</th>\n",
       "      <th>INDUS</th>\n",
       "      <th>CHAS</th>\n",
       "      <th>NOX</th>\n",
       "      <th>RM</th>\n",
       "      <th>AGE</th>\n",
       "      <th>DIS</th>\n",
       "      <th>RAD</th>\n",
       "      <th>TAX</th>\n",
       "      <th>PTRATIO</th>\n",
       "      <th>B</th>\n",
       "      <th>LSTAT</th>\n",
       "      <th>target</th>\n",
       "    </tr>\n",
       "  </thead>\n",
       "  <tbody>\n",
       "    <tr>\n",
       "      <th>0</th>\n",
       "      <td>0.00632</td>\n",
       "      <td>18.0</td>\n",
       "      <td>2.31</td>\n",
       "      <td>0.0</td>\n",
       "      <td>0.538</td>\n",
       "      <td>6.575</td>\n",
       "      <td>65.2</td>\n",
       "      <td>4.0900</td>\n",
       "      <td>1.0</td>\n",
       "      <td>296.0</td>\n",
       "      <td>15.3</td>\n",
       "      <td>396.90</td>\n",
       "      <td>4.98</td>\n",
       "      <td>24.0</td>\n",
       "    </tr>\n",
       "    <tr>\n",
       "      <th>1</th>\n",
       "      <td>0.02731</td>\n",
       "      <td>0.0</td>\n",
       "      <td>7.07</td>\n",
       "      <td>0.0</td>\n",
       "      <td>0.469</td>\n",
       "      <td>6.421</td>\n",
       "      <td>78.9</td>\n",
       "      <td>4.9671</td>\n",
       "      <td>2.0</td>\n",
       "      <td>242.0</td>\n",
       "      <td>17.8</td>\n",
       "      <td>396.90</td>\n",
       "      <td>9.14</td>\n",
       "      <td>21.6</td>\n",
       "    </tr>\n",
       "    <tr>\n",
       "      <th>2</th>\n",
       "      <td>0.02729</td>\n",
       "      <td>0.0</td>\n",
       "      <td>7.07</td>\n",
       "      <td>0.0</td>\n",
       "      <td>0.469</td>\n",
       "      <td>7.185</td>\n",
       "      <td>61.1</td>\n",
       "      <td>4.9671</td>\n",
       "      <td>2.0</td>\n",
       "      <td>242.0</td>\n",
       "      <td>17.8</td>\n",
       "      <td>392.83</td>\n",
       "      <td>4.03</td>\n",
       "      <td>34.7</td>\n",
       "    </tr>\n",
       "    <tr>\n",
       "      <th>3</th>\n",
       "      <td>0.03237</td>\n",
       "      <td>0.0</td>\n",
       "      <td>2.18</td>\n",
       "      <td>0.0</td>\n",
       "      <td>0.458</td>\n",
       "      <td>6.998</td>\n",
       "      <td>45.8</td>\n",
       "      <td>6.0622</td>\n",
       "      <td>3.0</td>\n",
       "      <td>222.0</td>\n",
       "      <td>18.7</td>\n",
       "      <td>394.63</td>\n",
       "      <td>2.94</td>\n",
       "      <td>33.4</td>\n",
       "    </tr>\n",
       "    <tr>\n",
       "      <th>4</th>\n",
       "      <td>0.06905</td>\n",
       "      <td>0.0</td>\n",
       "      <td>2.18</td>\n",
       "      <td>0.0</td>\n",
       "      <td>0.458</td>\n",
       "      <td>7.147</td>\n",
       "      <td>54.2</td>\n",
       "      <td>6.0622</td>\n",
       "      <td>3.0</td>\n",
       "      <td>222.0</td>\n",
       "      <td>18.7</td>\n",
       "      <td>396.90</td>\n",
       "      <td>5.33</td>\n",
       "      <td>36.2</td>\n",
       "    </tr>\n",
       "  </tbody>\n",
       "</table>\n",
       "</div>"
      ],
      "text/plain": [
       "      CRIM    ZN  INDUS  CHAS    NOX     RM   AGE     DIS  RAD    TAX  \\\n",
       "0  0.00632  18.0   2.31   0.0  0.538  6.575  65.2  4.0900  1.0  296.0   \n",
       "1  0.02731   0.0   7.07   0.0  0.469  6.421  78.9  4.9671  2.0  242.0   \n",
       "2  0.02729   0.0   7.07   0.0  0.469  7.185  61.1  4.9671  2.0  242.0   \n",
       "3  0.03237   0.0   2.18   0.0  0.458  6.998  45.8  6.0622  3.0  222.0   \n",
       "4  0.06905   0.0   2.18   0.0  0.458  7.147  54.2  6.0622  3.0  222.0   \n",
       "\n",
       "   PTRATIO       B  LSTAT  target  \n",
       "0     15.3  396.90   4.98    24.0  \n",
       "1     17.8  396.90   9.14    21.6  \n",
       "2     17.8  392.83   4.03    34.7  \n",
       "3     18.7  394.63   2.94    33.4  \n",
       "4     18.7  396.90   5.33    36.2  "
      ]
     },
     "execution_count": 5,
     "metadata": {},
     "output_type": "execute_result"
    }
   ],
   "source": [
    "df.head(5)"
   ]
  },
  {
   "cell_type": "code",
   "execution_count": 6,
   "metadata": {},
   "outputs": [
    {
     "data": {
      "text/html": [
       "<div>\n",
       "<style scoped>\n",
       "    .dataframe tbody tr th:only-of-type {\n",
       "        vertical-align: middle;\n",
       "    }\n",
       "\n",
       "    .dataframe tbody tr th {\n",
       "        vertical-align: top;\n",
       "    }\n",
       "\n",
       "    .dataframe thead th {\n",
       "        text-align: right;\n",
       "    }\n",
       "</style>\n",
       "<table border=\"1\" class=\"dataframe\">\n",
       "  <thead>\n",
       "    <tr style=\"text-align: right;\">\n",
       "      <th></th>\n",
       "      <th>CRIM</th>\n",
       "      <th>ZN</th>\n",
       "      <th>INDUS</th>\n",
       "      <th>CHAS</th>\n",
       "      <th>NOX</th>\n",
       "      <th>RM</th>\n",
       "      <th>AGE</th>\n",
       "      <th>DIS</th>\n",
       "      <th>RAD</th>\n",
       "      <th>TAX</th>\n",
       "      <th>PTRATIO</th>\n",
       "      <th>B</th>\n",
       "      <th>LSTAT</th>\n",
       "      <th>target</th>\n",
       "    </tr>\n",
       "  </thead>\n",
       "  <tbody>\n",
       "  </tbody>\n",
       "</table>\n",
       "</div>"
      ],
      "text/plain": [
       "Empty DataFrame\n",
       "Columns: [CRIM, ZN, INDUS, CHAS, NOX, RM, AGE, DIS, RAD, TAX, PTRATIO, B, LSTAT, target]\n",
       "Index: []"
      ]
     },
     "execution_count": 6,
     "metadata": {},
     "output_type": "execute_result"
    }
   ],
   "source": [
    "df[df.isnull().any(axis=1)]"
   ]
  },
  {
   "cell_type": "code",
   "execution_count": null,
   "metadata": {},
   "outputs": [],
   "source": []
  },
  {
   "cell_type": "markdown",
   "metadata": {},
   "source": [
    "#### Functions: derivative and grad for scalar intercept term and vector term respectively"
   ]
  },
  {
   "cell_type": "code",
   "execution_count": 7,
   "metadata": {},
   "outputs": [],
   "source": [
    "def derivative(X,y,W,W0):\n",
    "    sum1 = 0.0\n",
    "    \n",
    "    '''\n",
    "    for i in range(X.shape[1]):\n",
    "        sum1 = sum1 + (y[i]-np.dot(W,X[i])-W0)\n",
    "        #print(sum1)\n",
    "        \n",
    "    '''\n",
    "    \n",
    "    sum1 = (np.asscalar(np.sum(((y-np.matmul(X,W.T)))-W0)))\n",
    "    \n",
    "    sum1 = -2*sum1/(float(X.shape[0]))\n",
    "  \n",
    "    return sum1\n",
    "\n",
    "def grad(X,y,W,W0):\n",
    "    #sum1=(np.matmul(X.T,(y.reshape(y.shape[0],1)-np.matmul(X,W.T)-W0)))/(float(X.shape[0]))\n",
    "    \n",
    "    sum1 = np.matmul(X.T,(((y-np.matmul(X,W.T)))-W0))\n",
    "    \n",
    "    '''\n",
    "    sum1 = np.zeros((W.shape[0],))\n",
    "    for j in range(sum1.shape[0]):\n",
    "        for i in range(X.shape[0]):\n",
    "            sum1[j] = sum1[j] + X[i][j]*(y[i]-np.dot(W,X[i])-W0)\n",
    "            #print(sum1[j])\n",
    "        #(np.asscalar(np.sum((y-np.matmul(X,W.T)))-W0))\n",
    "        sum1[j] = -2*sum1[j]/(float(X.shape[0]))\n",
    "    '''\n",
    "    \n",
    "    sum1 = -2*sum1/(float(X.shape[0]))\n",
    "    \n",
    "    return sum1\n"
   ]
  },
  {
   "cell_type": "markdown",
   "metadata": {},
   "source": [
    "#### Function: gradient descent"
   ]
  },
  {
   "cell_type": "code",
   "execution_count": 8,
   "metadata": {},
   "outputs": [],
   "source": [
    "def grad_descent(X,y,W,W0,r):\n",
    "    \n",
    "    W=(W-r*(grad(X,y,W,W0)))\n",
    "    W0=W0-r*(derivative(X,y,W,W0))    \n",
    "    return W,W0\n",
    "         "
   ]
  },
  {
   "cell_type": "code",
   "execution_count": null,
   "metadata": {},
   "outputs": [],
   "source": []
  },
  {
   "cell_type": "markdown",
   "metadata": {},
   "source": [
    "#### Fetching X data and target data"
   ]
  },
  {
   "cell_type": "code",
   "execution_count": 9,
   "metadata": {},
   "outputs": [],
   "source": [
    "X=df.iloc[:,:-1].values\n",
    "y=df.iloc[:,-1].values"
   ]
  },
  {
   "cell_type": "code",
   "execution_count": null,
   "metadata": {},
   "outputs": [],
   "source": []
  },
  {
   "cell_type": "markdown",
   "metadata": {},
   "source": [
    "#### Column Standardization"
   ]
  },
  {
   "cell_type": "code",
   "execution_count": 10,
   "metadata": {},
   "outputs": [],
   "source": [
    "from sklearn.preprocessing import StandardScaler"
   ]
  },
  {
   "cell_type": "code",
   "execution_count": 11,
   "metadata": {},
   "outputs": [],
   "source": [
    "colstd1=StandardScaler()"
   ]
  },
  {
   "cell_type": "code",
   "execution_count": 12,
   "metadata": {},
   "outputs": [],
   "source": [
    "X=colstd1.fit_transform(X)"
   ]
  },
  {
   "cell_type": "markdown",
   "metadata": {},
   "source": [
    "#### As loss function of gradient descent is convex, we can choose any W and W0 and start. Here we have choosen [0,0,0,0...,0] for W and 0.0 for W0"
   ]
  },
  {
   "cell_type": "code",
   "execution_count": 13,
   "metadata": {},
   "outputs": [],
   "source": [
    "W=np.zeros(shape=(X.shape[1],))"
   ]
  },
  {
   "cell_type": "code",
   "execution_count": 14,
   "metadata": {},
   "outputs": [],
   "source": [
    "W0=0.0"
   ]
  },
  {
   "cell_type": "code",
   "execution_count": 15,
   "metadata": {},
   "outputs": [],
   "source": [
    "Xy=np.hstack((X,y.reshape(y.shape[0],1)))"
   ]
  },
  {
   "cell_type": "code",
   "execution_count": 16,
   "metadata": {},
   "outputs": [],
   "source": [
    "from sklearn.metrics import r2_score"
   ]
  },
  {
   "cell_type": "code",
   "execution_count": 17,
   "metadata": {},
   "outputs": [],
   "source": [
    "from sklearn.metrics import mean_squared_error"
   ]
  },
  {
   "cell_type": "markdown",
   "metadata": {},
   "source": [
    "#### Obtaininng Predicted y values for X_test values"
   ]
  },
  {
   "cell_type": "code",
   "execution_count": 19,
   "metadata": {},
   "outputs": [],
   "source": [
    "from sklearn.utils import resample"
   ]
  },
  {
   "cell_type": "code",
   "execution_count": 53,
   "metadata": {},
   "outputs": [
    {
     "name": "stdout",
     "output_type": "stream",
     "text": [
      "mse: 22.017310423779268\n",
      "cod 0.7391918244269133\n"
     ]
    }
   ],
   "source": [
    "r0=0.01\n",
    "for j in range(1,6000):\n",
    "    Xy_sgd=resample(Xy,n_samples=200)\n",
    "    X_sgd=Xy_sgd[:,:-1]\n",
    "    y_sgd=Xy_sgd[:,-1]\n",
    "    r=r0/pow(j,0.5)\n",
    "    W,W0=grad_descent(X_sgd,y_sgd,W,W0,r)\n",
    "    #sum1 = 0.0\n",
    "    #for i in range(0,X_sgd.shape[0]):\n",
    "    #    sum1 = sum1 + (pow((y_sgd[i]-np.matmul(W,X_sgd[i].reshape(X_sgd.shape[1],1))-W01),2))/float(2*X_sgd.shape[0]\n",
    "    #g.append(sum1)\n",
    "y_pred=[]\n",
    "for i in range(0,X.shape[0]):\n",
    "    y_pred.append(np.dot(W,X[i])+W0)\n",
    "    # Please observe added W0 while getting y_pred. W0 is the intercept term\n",
    "mse = mean_squared_error(y,y_pred)\n",
    "cod = r2_score(y,y_pred)\n",
    "print('mse:',mse)\n",
    "print('cod',cod)"
   ]
  },
  {
   "cell_type": "code",
   "execution_count": 54,
   "metadata": {},
   "outputs": [],
   "source": [
    "w_str=str(W)\n",
    "    "
   ]
  },
  {
   "cell_type": "code",
   "execution_count": 55,
   "metadata": {},
   "outputs": [
    {
     "data": {
      "text/plain": [
       "'[-0.82848576  0.89728921 -0.17230825  0.71793885 -1.84956463  2.77498349\\n -0.09508969 -3.00161625  1.81237503 -1.16319408 -2.02335225  0.86204385\\n -3.70481101]'"
      ]
     },
     "execution_count": 55,
     "metadata": {},
     "output_type": "execute_result"
    }
   ],
   "source": [
    "w_str"
   ]
  },
  {
   "cell_type": "markdown",
   "metadata": {},
   "source": [
    "#### Mean Squared Error is 22.01 and R2_Score is 0.73"
   ]
  },
  {
   "cell_type": "code",
   "execution_count": null,
   "metadata": {},
   "outputs": [],
   "source": []
  },
  {
   "cell_type": "markdown",
   "metadata": {},
   "source": [
    "#### Sklearn LinearRegression"
   ]
  },
  {
   "cell_type": "code",
   "execution_count": 56,
   "metadata": {},
   "outputs": [],
   "source": [
    "from sklearn.linear_model import LinearRegression"
   ]
  },
  {
   "cell_type": "code",
   "execution_count": 57,
   "metadata": {},
   "outputs": [],
   "source": [
    "LR=LinearRegression()"
   ]
  },
  {
   "cell_type": "code",
   "execution_count": 58,
   "metadata": {},
   "outputs": [
    {
     "data": {
      "text/plain": [
       "LinearRegression(copy_X=True, fit_intercept=True, n_jobs=1, normalize=False)"
      ]
     },
     "execution_count": 58,
     "metadata": {},
     "output_type": "execute_result"
    }
   ],
   "source": [
    "LR.fit(X,y)"
   ]
  },
  {
   "cell_type": "code",
   "execution_count": 59,
   "metadata": {},
   "outputs": [
    {
     "data": {
      "text/plain": [
       "22.532806324110677"
      ]
     },
     "execution_count": 59,
     "metadata": {},
     "output_type": "execute_result"
    }
   ],
   "source": [
    "LR.intercept_"
   ]
  },
  {
   "cell_type": "code",
   "execution_count": 60,
   "metadata": {},
   "outputs": [
    {
     "data": {
      "text/plain": [
       "array([-0.92041113,  1.08098058,  0.14296712,  0.68220346, -2.06009246,\n",
       "        2.67064141,  0.02112063, -3.10444805,  2.65878654, -2.07589814,\n",
       "       -2.06215593,  0.85664044, -3.74867982])"
      ]
     },
     "execution_count": 60,
     "metadata": {},
     "output_type": "execute_result"
    }
   ],
   "source": [
    "LR.coef_"
   ]
  },
  {
   "cell_type": "code",
   "execution_count": 61,
   "metadata": {},
   "outputs": [],
   "source": [
    "LR_str=str(LR.coef_)"
   ]
  },
  {
   "cell_type": "code",
   "execution_count": 62,
   "metadata": {},
   "outputs": [],
   "source": [
    "y_pred_lr = LR.predict(X)"
   ]
  },
  {
   "cell_type": "code",
   "execution_count": 63,
   "metadata": {},
   "outputs": [],
   "source": [
    "mse_lr = mean_squared_error(y,y_pred_lr)"
   ]
  },
  {
   "cell_type": "code",
   "execution_count": 64,
   "metadata": {},
   "outputs": [],
   "source": [
    "cod_lr = r2_score(y,y_pred_lr)"
   ]
  },
  {
   "cell_type": "code",
   "execution_count": 65,
   "metadata": {},
   "outputs": [
    {
     "name": "stdout",
     "output_type": "stream",
     "text": [
      "mse_lr: 21.897779217687496\n",
      "cod_lr: 0.7406077428649428\n"
     ]
    }
   ],
   "source": [
    "print('mse_lr:',mse_lr)\n",
    "print('cod_lr:',cod_lr)"
   ]
  },
  {
   "cell_type": "markdown",
   "metadata": {},
   "source": [
    "#### Sklearn linear regression model  Mean Squared Error 21.89 R2_Score: 0.74"
   ]
  },
  {
   "cell_type": "code",
   "execution_count": null,
   "metadata": {},
   "outputs": [],
   "source": []
  },
  {
   "cell_type": "markdown",
   "metadata": {},
   "source": [
    "#### Sklearn SGD"
   ]
  },
  {
   "cell_type": "code",
   "execution_count": 66,
   "metadata": {},
   "outputs": [],
   "source": [
    "from sklearn.linear_model import SGDRegressor"
   ]
  },
  {
   "cell_type": "code",
   "execution_count": 67,
   "metadata": {},
   "outputs": [],
   "source": [
    "clf=SGDRegressor()"
   ]
  },
  {
   "cell_type": "code",
   "execution_count": 68,
   "metadata": {},
   "outputs": [
    {
     "name": "stderr",
     "output_type": "stream",
     "text": [
      "C:\\Users\\Dipayan\\Anaconda3\\lib\\site-packages\\sklearn\\linear_model\\stochastic_gradient.py:128: FutureWarning: max_iter and tol parameters have been added in <class 'sklearn.linear_model.stochastic_gradient.SGDRegressor'> in 0.19. If both are left unset, they default to max_iter=5 and tol=None. If tol is not None, max_iter defaults to max_iter=1000. From 0.21, default max_iter will be 1000, and default tol will be 1e-3.\n",
      "  \"and default tol will be 1e-3.\" % type(self), FutureWarning)\n"
     ]
    },
    {
     "data": {
      "text/plain": [
       "SGDRegressor(alpha=0.0001, average=False, epsilon=0.1, eta0=0.01,\n",
       "       fit_intercept=True, l1_ratio=0.15, learning_rate='invscaling',\n",
       "       loss='squared_loss', max_iter=None, n_iter=None, penalty='l2',\n",
       "       power_t=0.25, random_state=None, shuffle=True, tol=None, verbose=0,\n",
       "       warm_start=False)"
      ]
     },
     "execution_count": 68,
     "metadata": {},
     "output_type": "execute_result"
    }
   ],
   "source": [
    "clf.fit(X,y)"
   ]
  },
  {
   "cell_type": "code",
   "execution_count": 69,
   "metadata": {},
   "outputs": [
    {
     "data": {
      "text/plain": [
       "array([22.38580155])"
      ]
     },
     "execution_count": 69,
     "metadata": {},
     "output_type": "execute_result"
    }
   ],
   "source": [
    "clf.intercept_"
   ]
  },
  {
   "cell_type": "code",
   "execution_count": null,
   "metadata": {},
   "outputs": [],
   "source": []
  },
  {
   "cell_type": "code",
   "execution_count": 70,
   "metadata": {},
   "outputs": [
    {
     "data": {
      "text/plain": [
       "array([-0.64572802,  0.62800485, -0.33579684,  0.80170437, -0.95255307,\n",
       "        3.10778281, -0.11924756, -2.10934206,  0.86364203, -0.59783335,\n",
       "       -1.86780838,  0.90667486, -3.6220571 ])"
      ]
     },
     "execution_count": 70,
     "metadata": {},
     "output_type": "execute_result"
    }
   ],
   "source": [
    "clf.coef_"
   ]
  },
  {
   "cell_type": "code",
   "execution_count": 71,
   "metadata": {},
   "outputs": [],
   "source": [
    "y_pred_sgd=clf.predict(X)"
   ]
  },
  {
   "cell_type": "code",
   "execution_count": 72,
   "metadata": {},
   "outputs": [],
   "source": [
    "mse_sgd = mean_squared_error(y_pred_sgd,y)"
   ]
  },
  {
   "cell_type": "code",
   "execution_count": 73,
   "metadata": {},
   "outputs": [],
   "source": [
    "cod_sgd = r2_score(y_pred_sgd,y)"
   ]
  },
  {
   "cell_type": "code",
   "execution_count": 74,
   "metadata": {},
   "outputs": [],
   "source": [
    "clf_str=str(clf.coef_)"
   ]
  },
  {
   "cell_type": "code",
   "execution_count": 75,
   "metadata": {},
   "outputs": [
    {
     "name": "stdout",
     "output_type": "stream",
     "text": [
      "cod_sgd: 0.6337636231102712\n",
      "mse_sgd: 22.748816280234998\n"
     ]
    }
   ],
   "source": [
    "print('cod_sgd:',cod_sgd)\n",
    "print('mse_sgd:',mse_sgd)"
   ]
  },
  {
   "cell_type": "markdown",
   "metadata": {},
   "source": [
    "#### SGDRegressor  R2_Score 0.63 Mean Squared Error 22.74"
   ]
  },
  {
   "cell_type": "code",
   "execution_count": null,
   "metadata": {},
   "outputs": [],
   "source": []
  },
  {
   "cell_type": "markdown",
   "metadata": {},
   "source": [
    "#### Comparing Coefficient of our SGD with sklearn SGD"
   ]
  },
  {
   "cell_type": "code",
   "execution_count": 76,
   "metadata": {},
   "outputs": [
    {
     "name": "stdout",
     "output_type": "stream",
     "text": [
      "========================================================================================================================\n",
      "\n",
      "\n",
      "Coefficient vector of our sgd:\n",
      "\n",
      "[-0.82848576  0.89728921 -0.17230825  0.71793885 -1.84956463  2.77498349\n",
      " -0.09508969 -3.00161625  1.81237503 -1.16319408 -2.02335225  0.86204385\n",
      " -3.70481101]\n",
      "\n",
      "\n",
      "========================================================================================================================\n"
     ]
    }
   ],
   "source": [
    "print(\"=\"*120)\n",
    "print('\\n')\n",
    "print('Coefficient vector of our sgd:\\n\\n'+w_str)\n",
    "print('\\n')\n",
    "print(\"=\"*120)"
   ]
  },
  {
   "cell_type": "code",
   "execution_count": 77,
   "metadata": {},
   "outputs": [
    {
     "name": "stdout",
     "output_type": "stream",
     "text": [
      "========================================================================================================================\n",
      "\n",
      "\n",
      "Coefficient vector of sklearn sgd:\n",
      "\n",
      "[-0.64572802  0.62800485 -0.33579684  0.80170437 -0.95255307  3.10778281\n",
      " -0.11924756 -2.10934206  0.86364203 -0.59783335 -1.86780838  0.90667486\n",
      " -3.6220571 ]\n",
      "\n",
      "\n",
      "========================================================================================================================\n"
     ]
    }
   ],
   "source": [
    "print(\"=\"*120)\n",
    "print('\\n')\n",
    "print('Coefficient vector of sklearn sgd:\\n\\n'+clf_str)\n",
    "print('\\n')\n",
    "print(\"=\"*120)"
   ]
  },
  {
   "cell_type": "code",
   "execution_count": 78,
   "metadata": {},
   "outputs": [
    {
     "data": {
      "text/plain": [
       "array([0.18275774, 0.26928436, 0.16348859, 0.08376553, 0.89701156,\n",
       "       0.33279933, 0.02415788, 0.89227419, 0.948733  , 0.56536073,\n",
       "       0.15554387, 0.04463102, 0.08275392])"
      ]
     },
     "execution_count": 78,
     "metadata": {},
     "output_type": "execute_result"
    }
   ],
   "source": [
    "Coeff_Diff = W-clf.coef_\n",
    "np.absolute(Coeff_Diff)"
   ]
  },
  {
   "cell_type": "code",
   "execution_count": 79,
   "metadata": {},
   "outputs": [
    {
     "name": "stdout",
     "output_type": "stream",
     "text": [
      "Maximum absolute difference between the coefficient vector of our SGD and Sklearn SGD is  0.9487330005284766\n"
     ]
    }
   ],
   "source": [
    "print('Maximum absolute difference between the coefficient vector of our SGD and Sklearn SGD is ',np.max(np.absolute(Coeff_Diff)))"
   ]
  },
  {
   "cell_type": "code",
   "execution_count": 80,
   "metadata": {},
   "outputs": [
    {
     "name": "stdout",
     "output_type": "stream",
     "text": [
      "Average absolute difference between the coefficient vector of our SGD and Sklearn SGD is  0.3571201315277298\n"
     ]
    }
   ],
   "source": [
    "print('Average absolute difference between the coefficient vector of our SGD and Sklearn SGD is ',np.average(np.absolute(Coeff_Diff)))"
   ]
  },
  {
   "cell_type": "code",
   "execution_count": 81,
   "metadata": {},
   "outputs": [
    {
     "data": {
      "image/png": "[encoded data removed]",
      "text/plain": [
       "<Figure size 432x288 with 1 Axes>"
      ]
     },
     "metadata": {},
     "output_type": "display_data"
    }
   ],
   "source": [
    "plt.scatter(W.T,clf.coef_)\n",
    "plt.title('Our SGD Vs Sklearn SGD')\n",
    "plt.xlabel('Our model coefficients')\n",
    "plt.ylabel('SGD coefficients')\n",
    "plt.show()"
   ]
  },
  {
   "cell_type": "code",
   "execution_count": 82,
   "metadata": {},
   "outputs": [
    {
     "data": {
      "image/png": "[encoded data removed]",
      "text/plain": [
       "<Figure size 432x288 with 1 Axes>"
      ]
     },
     "metadata": {},
     "output_type": "display_data"
    }
   ],
   "source": [
    "plt.scatter(range(1,14),Coeff_Diff.T)\n",
    "plt.xlabel('Coefficient number')\n",
    "plt.xticks(range(14))\n",
    "plt.ylabel('Coefficient Differences')\n",
    "plt.title('Coefficient Difference Between Our Model and SGD model')\n",
    "plt.show()"
   ]
  },
  {
   "cell_type": "markdown",
   "metadata": {},
   "source": [
    "##### Our model and sklearn SGD do not differ much in terms of coefficient vector"
   ]
  },
  {
   "cell_type": "markdown",
   "metadata": {},
   "source": [
    "#### Comparing Intercept term of our SGD with sklearn SGD"
   ]
  },
  {
   "cell_type": "code",
   "execution_count": 83,
   "metadata": {},
   "outputs": [
    {
     "name": "stdout",
     "output_type": "stream",
     "text": [
      "=================================================================\n",
      "Our model intercept term:  22.527795414604125\n",
      "SGD intercept term:  22.385801548497565\n",
      "Difference between two models' intercept terms: 0.14199386610656006\n",
      "=================================================================\n"
     ]
    }
   ],
   "source": [
    "print('='*65)\n",
    "print('Our model intercept term: ',W0)\n",
    "print('SGD intercept term: ',clf.intercept_[0])\n",
    "print(\"Difference between two models' intercept terms:\",np.absolute(clf.intercept_[0]-W0))\n",
    "print('='*65)"
   ]
  },
  {
   "cell_type": "markdown",
   "metadata": {},
   "source": [
    "##### Intercept terms difference is not much"
   ]
  },
  {
   "cell_type": "code",
   "execution_count": null,
   "metadata": {},
   "outputs": [],
   "source": []
  },
  {
   "cell_type": "markdown",
   "metadata": {},
   "source": [
    "#### Scatter plots of  prediction of both manual and sklearn sgd"
   ]
  },
  {
   "cell_type": "code",
   "execution_count": 88,
   "metadata": {},
   "outputs": [
    {
     "data": {
      "image/png": "[encoded data removed]",
      "text/plain": [
       "<Figure size 1440x576 with 2 Axes>"
      ]
     },
     "metadata": {},
     "output_type": "display_data"
    }
   ],
   "source": [
    "ax=plt.figure(figsize=(20,8))\n",
    "ax1=plt.subplot(121)\n",
    "ax1.set_title('Prediction of Manual SGD')\n",
    "plt.scatter([i for i in range(X.shape[0])],y_pred,color='black',marker='+')\n",
    "ax1.set_xlabel('House Indices')\n",
    "ax1.set_ylabel('Predicted House Price')\n",
    "ax2=plt.subplot(122)\n",
    "ax2.set_title('Prediction of Sklearn SGD')\n",
    "plt.scatter([i for i in range(X.shape[0])],y_pred,color='b',marker='*')\n",
    "ax2.set_xlabel('House Indices')\n",
    "ax2.set_ylabel('Predicted House Price')\n",
    "plt.show()"
   ]
  },
  {
   "cell_type": "code",
   "execution_count": 89,
   "metadata": {},
   "outputs": [],
   "source": [
    "list1=[['Own Model',W0,w_str,cod,mse],['Sklearn Linear Regression',LR.intercept_,LR_str,cod_lr,mse_lr],['Sklearn SGDRegressor',clf.intercept_,clf_str,cod_sgd,mse_sgd]]\n",
    "colmn=['Model','Intercept','Coefficient','R2_Score','MSE']\n",
    "df1=pd.DataFrame(list1,columns=colmn)"
   ]
  },
  {
   "cell_type": "markdown",
   "metadata": {},
   "source": [
    "Comparison with Sklearn Linear Regression Model and Sklearn SGDRegressor"
   ]
  },
  {
   "cell_type": "markdown",
   "metadata": {},
   "source": [
    "#### Summary\n",
    "- First the boston house price Data was loaded in a pandas dataframe\n",
    "- Gradient descent function was defined\n",
    "- Optimum coefficient vector and intercept were calculated with the help of defined function\n",
    "- MSE and R2_Score was calculated\n",
    "- Then the model was compared with Sklearn linear regression and Sklearn SGDRegressor\n",
    "- Coefficient vector of the model was compared with sklearn SGD\n",
    "- Intercept terms are compared\n",
    "- Scatter plot for predicted y values in all the 3 models have been plotted"
   ]
  },
  {
   "cell_type": "code",
   "execution_count": 90,
   "metadata": {},
   "outputs": [
    {
     "name": "stdout",
     "output_type": "stream",
     "text": [
      "Table of Comparision between the 3 models: \n"
     ]
    },
    {
     "data": {
      "text/html": [
       "<div>\n",
       "<style scoped>\n",
       "    .dataframe tbody tr th:only-of-type {\n",
       "        vertical-align: middle;\n",
       "    }\n",
       "\n",
       "    .dataframe tbody tr th {\n",
       "        vertical-align: top;\n",
       "    }\n",
       "\n",
       "    .dataframe thead th {\n",
       "        text-align: right;\n",
       "    }\n",
       "</style>\n",
       "<table border=\"1\" class=\"dataframe\">\n",
       "  <thead>\n",
       "    <tr style=\"text-align: right;\">\n",
       "      <th></th>\n",
       "      <th>Model</th>\n",
       "      <th>Intercept</th>\n",
       "      <th>Coefficient</th>\n",
       "      <th>R2_Score</th>\n",
       "      <th>MSE</th>\n",
       "    </tr>\n",
       "  </thead>\n",
       "  <tbody>\n",
       "    <tr>\n",
       "      <th>0</th>\n",
       "      <td>Own Model</td>\n",
       "      <td>22.5278</td>\n",
       "      <td>[-0.82848576  0.89728921 -0.17230825  0.717938...</td>\n",
       "      <td>0.739192</td>\n",
       "      <td>22.017310</td>\n",
       "    </tr>\n",
       "    <tr>\n",
       "      <th>1</th>\n",
       "      <td>Sklearn Linear Regression</td>\n",
       "      <td>22.5328</td>\n",
       "      <td>[-0.92041113  1.08098058  0.14296712  0.682203...</td>\n",
       "      <td>0.740608</td>\n",
       "      <td>21.897779</td>\n",
       "    </tr>\n",
       "    <tr>\n",
       "      <th>2</th>\n",
       "      <td>Sklearn SGDRegressor</td>\n",
       "      <td>[22.385801548497565]</td>\n",
       "      <td>[-0.64572802  0.62800485 -0.33579684  0.801704...</td>\n",
       "      <td>0.633764</td>\n",
       "      <td>22.748816</td>\n",
       "    </tr>\n",
       "  </tbody>\n",
       "</table>\n",
       "</div>"
      ],
      "text/plain": [
       "                       Model             Intercept  \\\n",
       "0                  Own Model               22.5278   \n",
       "1  Sklearn Linear Regression               22.5328   \n",
       "2       Sklearn SGDRegressor  [22.385801548497565]   \n",
       "\n",
       "                                         Coefficient  R2_Score        MSE  \n",
       "0  [-0.82848576  0.89728921 -0.17230825  0.717938...  0.739192  22.017310  \n",
       "1  [-0.92041113  1.08098058  0.14296712  0.682203...  0.740608  21.897779  \n",
       "2  [-0.64572802  0.62800485 -0.33579684  0.801704...  0.633764  22.748816  "
      ]
     },
     "execution_count": 90,
     "metadata": {},
     "output_type": "execute_result"
    }
   ],
   "source": [
    "print('Table of Comparision between the 3 models: ')\n",
    "df1"
   ]
  },
  {
   "cell_type": "code",
   "execution_count": null,
   "metadata": {},
   "outputs": [],
   "source": []
  }
 ],
 "metadata": {
  "kernelspec": {
   "display_name": "Python 3",
   "language": "python",
   "name": "python3"
  },
  "language_info": {
   "codemirror_mode": {
    "name": "ipython",
    "version": 3
   },
   "file_extension": ".py",
   "mimetype": "text/x-python",
   "name": "python",
   "nbconvert_exporter": "python",
   "pygments_lexer": "ipython3",
   "version": "3.6.4"
  }
 },
 "nbformat": 4,
 "nbformat_minor": 2
}
