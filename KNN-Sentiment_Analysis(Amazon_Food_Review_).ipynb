{
 "cells": 
  {
   "cell_type": "code",
   "execution_count": null,
   "metadata": {},
   "outputs": [],
   "source": []
  },
  {
   "cell_type": "code",
   "execution_count": null,
   "metadata": {},
   "outputs": [],
   "source": []
  },
  {
   "cell_type": "markdown",
   "metadata": {},
   "source": [
    "### Working Dataset is Amazon Food Review Dataset. \n",
    "####     Features are username, product id, review text, score etc.\n",
    "####     The objective of this excercise is to classify review text into positive or negative class using _KNN-Algorithm_.\n",
    "####     Scores lesser than 3 are considered negative. Scores greater than 3 are considered positive"
   ]
  },
  {
   "cell_type": "code",
   "execution_count": 1,
   "metadata": {},
   "outputs": [],
   "source": [
    "import pandas as pd\n",
    "import numpy as np\n",
    "import matplotlib.pyplot as plt\n",
    "import seaborn as sns\n",
    "import sqlite3"
   ]
  },
  {
   "cell_type": "code",
   "execution_count": 2,
   "metadata": {},
   "outputs": [],
   "source": [
    "con = sqlite3.connect('database.sqlite')"
   ]
  },
  {
   "cell_type": "code",
   "execution_count": 3,
   "metadata": {},
   "outputs": [],
   "source": [
    "filtered_data = pd.read_sql_query(\"\"\"\n",
    "SELECT * \n",
    "FROM Reviews\n",
    "WHERE Score!=3\"\"\",con)"
   ]
  },
  {
   "cell_type": "markdown",
   "metadata": {},
   "source": [
    "#### Overview of the dataset"
   ]
  },
  {
   "cell_type": "code",
   "execution_count": 5,
   "metadata": {},
   "outputs": [
    {
     "data": {
      "text/html": [
       "<div>\n",
       "<style scoped>\n",
       "    .dataframe tbody tr th:only-of-type {\n",
       "        vertical-align: middle;\n",
       "    }\n",
       "\n",
       "    .dataframe tbody tr th {\n",
       "        vertical-align: top;\n",
       "    }\n",
       "\n",
       "    .dataframe thead th {\n",
       "        text-align: right;\n",
       "    }\n",
       "</style>\n",
       "<table border=\"1\" class=\"dataframe\">\n",
       "  <thead>\n",
       "    <tr style=\"text-align: right;\">\n",
       "      <th></th>\n",
       "      <th>Id</th>\n",
       "      <th>ProductId</th>\n",
       "      <th>UserId</th>\n",
       "      <th>ProfileName</th>\n",
       "      <th>HelpfulnessNumerator</th>\n",
       "      <th>HelpfulnessDenominator</th>\n",
       "      <th>Score</th>\n",
       "      <th>Time</th>\n",
       "      <th>Summary</th>\n",
       "      <th>Text</th>\n",
       "    </tr>\n",
       "  </thead>\n",
       "  <tbody>\n",
       "    <tr>\n",
       "      <th>0</th>\n",
       "      <td>1</td>\n",
       "      <td>B001E4KFG0</td>\n",
       "      <td>A3SGXH7AUHU8GW</td>\n",
       "      <td>delmartian</td>\n",
       "      <td>1</td>\n",
       "      <td>1</td>\n",
       "      <td>5</td>\n",
       "      <td>1303862400</td>\n",
       "      <td>Good Quality Dog Food</td>\n",
       "      <td>I have bought several of the Vitality canned d...</td>\n",
       "    </tr>\n",
       "    <tr>\n",
       "      <th>1</th>\n",
       "      <td>2</td>\n",
       "      <td>B00813GRG4</td>\n",
       "      <td>A1D87F6ZCVE5NK</td>\n",
       "      <td>dll pa</td>\n",
       "      <td>0</td>\n",
       "      <td>0</td>\n",
       "      <td>1</td>\n",
       "      <td>1346976000</td>\n",
       "      <td>Not as Advertised</td>\n",
       "      <td>Product arrived labeled as Jumbo Salted Peanut...</td>\n",
       "    </tr>\n",
       "    <tr>\n",
       "      <th>2</th>\n",
       "      <td>3</td>\n",
       "      <td>B000LQOCH0</td>\n",
       "      <td>ABXLMWJIXXAIN</td>\n",
       "      <td>Natalia Corres \"Natalia Corres\"</td>\n",
       "      <td>1</td>\n",
       "      <td>1</td>\n",
       "      <td>4</td>\n",
       "      <td>1219017600</td>\n",
       "      <td>\"Delight\" says it all</td>\n",
       "      <td>This is a confection that has been around a fe...</td>\n",
       "    </tr>\n",
       "    <tr>\n",
       "      <th>3</th>\n",
       "      <td>4</td>\n",
       "      <td>B000UA0QIQ</td>\n",
       "      <td>A395BORC6FGVXV</td>\n",
       "      <td>Karl</td>\n",
       "      <td>3</td>\n",
       "      <td>3</td>\n",
       "      <td>2</td>\n",
       "      <td>1307923200</td>\n",
       "      <td>Cough Medicine</td>\n",
       "      <td>If you are looking for the secret ingredient i...</td>\n",
       "    </tr>\n",
       "    <tr>\n",
       "      <th>4</th>\n",
       "      <td>5</td>\n",
       "      <td>B006K2ZZ7K</td>\n",
       "      <td>A1UQRSCLF8GW1T</td>\n",
       "      <td>Michael D. Bigham \"M. Wassir\"</td>\n",
       "      <td>0</td>\n",
       "      <td>0</td>\n",
       "      <td>5</td>\n",
       "      <td>1350777600</td>\n",
       "      <td>Great taffy</td>\n",
       "      <td>Great taffy at a great price.  There was a wid...</td>\n",
       "    </tr>\n",
       "  </tbody>\n",
       "</table>\n",
       "</div>"
      ],
      "text/plain": [
       "   Id   ProductId          UserId                      ProfileName  \\\n",
       "0   1  B001E4KFG0  A3SGXH7AUHU8GW                       delmartian   \n",
       "1   2  B00813GRG4  A1D87F6ZCVE5NK                           dll pa   \n",
       "2   3  B000LQOCH0   ABXLMWJIXXAIN  Natalia Corres \"Natalia Corres\"   \n",
       "3   4  B000UA0QIQ  A395BORC6FGVXV                             Karl   \n",
       "4   5  B006K2ZZ7K  A1UQRSCLF8GW1T    Michael D. Bigham \"M. Wassir\"   \n",
       "\n",
       "   HelpfulnessNumerator  HelpfulnessDenominator  Score        Time  \\\n",
       "0                     1                       1      5  1303862400   \n",
       "1                     0                       0      1  1346976000   \n",
       "2                     1                       1      4  1219017600   \n",
       "3                     3                       3      2  1307923200   \n",
       "4                     0                       0      5  1350777600   \n",
       "\n",
       "                 Summary                                               Text  \n",
       "0  Good Quality Dog Food  I have bought several of the Vitality canned d...  \n",
       "1      Not as Advertised  Product arrived labeled as Jumbo Salted Peanut...  \n",
       "2  \"Delight\" says it all  This is a confection that has been around a fe...  \n",
       "3         Cough Medicine  If you are looking for the secret ingredient i...  \n",
       "4            Great taffy  Great taffy at a great price.  There was a wid...  "
      ]
     },
     "execution_count": 5,
     "metadata": {},
     "output_type": "execute_result"
    }
   ],
   "source": [
    "filtered_data.head(5)"
   ]
  },
  {
   "cell_type": "code",
   "execution_count": null,
   "metadata": {},
   "outputs": [],
   "source": []
  },
  {
   "cell_type": "markdown",
   "metadata": {},
   "source": [
    "#### Entries having score 3 are discarded being considered as neutral reviews"
   ]
  },
  {
   "cell_type": "code",
   "execution_count": 4,
   "metadata": {},
   "outputs": [],
   "source": [
    "actual_score = filtered_data['Score']"
   ]
  },
  {
   "cell_type": "code",
   "execution_count": 113,
   "metadata": {},
   "outputs": [],
   "source": [
    "def partition(x):\n",
    "    if x < 3:\n",
    "        return 'negative'\n",
    "    return 'positive'\n"
   ]
  },
  {
   "cell_type": "code",
   "execution_count": 114,
   "metadata": {},
   "outputs": [],
   "source": [
    "filtered_data['Score']=filtered_data['Score'].map(partition)"
   ]
  },
  {
   "cell_type": "code",
   "execution_count": 115,
   "metadata": {},
   "outputs": [],
   "source": [
    "sorted_data = filtered_data.sort_values(\"Time\",axis=0,ascending=True)"
   ]
  },
  {
   "cell_type": "code",
   "execution_count": 116,
   "metadata": {},
   "outputs": [],
   "source": [
    "final = filtered_data.drop_duplicates(subset={'UserId','Time','ProfileName','Text'},keep='first',inplace=False)"
   ]
  },
  {
   "cell_type": "markdown",
   "metadata": {},
   "source": [
    "#### Duplicate datas have been discarded"
   ]
  },
  {
   "cell_type": "code",
   "execution_count": 117,
   "metadata": {},
   "outputs": [],
   "source": [
    "final = final[final.HelpfulnessNumerator<=final.HelpfulnessDenominator]"
   ]
  },
  {
   "cell_type": "code",
   "execution_count": 118,
   "metadata": {},
   "outputs": [],
   "source": [
    "from sklearn.feature_extraction.text import CountVectorizer\n",
    "from sklearn.feature_extraction.text import TfidfVectorizer\n",
    "import nltk"
   ]
  },
  {
   "cell_type": "code",
   "execution_count": null,
   "metadata": {},
   "outputs": [],
   "source": []
  },
  {
   "cell_type": "code",
   "execution_count": 119,
   "metadata": {},
   "outputs": [],
   "source": [
    "from nltk.corpus import stopwords\n",
    "stop = set(stopwords.words('english'))\n"
   ]
  },
  {
   "cell_type": "code",
   "execution_count": 120,
   "metadata": {},
   "outputs": [],
   "source": [
    "stop.remove('not')"
   ]
  },
  {
   "cell_type": "code",
   "execution_count": 121,
   "metadata": {},
   "outputs": [],
   "source": [
    "snb = nltk.stem.SnowballStemmer('english')"
   ]
  },
  {
   "cell_type": "code",
   "execution_count": 122,
   "metadata": {},
   "outputs": [],
   "source": [
    "import re"
   ]
  },
  {
   "cell_type": "code",
   "execution_count": 123,
   "metadata": {},
   "outputs": [],
   "source": [
    "def cleanhtml(sentence):\n",
    "    cleanr = re.compile('<.*?>')\n",
    "    cleantxt = re.sub(cleanr,' ',sentence)\n",
    "    return cleantxt\n",
    "def cleanpunc(sentence):\n",
    "    cleaned = re.sub(r'[?|!|\\|\\'|\"|#]',r' ',sentence)\n",
    "    cleaned = re.sub(r'[.|,|)|(|\\|/]',r' ',cleaned)\n",
    "    return cleaned                 "
   ]
  },
  {
   "cell_type": "code",
   "execution_count": null,
   "metadata": {},
   "outputs": [],
   "source": []
  },
  {
   "cell_type": "code",
   "execution_count": 124,
   "metadata": {},
   "outputs": [],
   "source": [
    "i=0\n",
    "str1=''\n",
    "final_string = []\n",
    "all_positive_words = []\n",
    "all_negative_words = []\n",
    "s = ''\n",
    "for sent in final['Text'].values:\n",
    "    filtered_sentence = []\n",
    "    sent = cleanhtml(sent)\n",
    "    for w in sent.split(\" \"):\n",
    "        for cleaned_words in cleanpunc(w).split():\n",
    "            if((cleaned_words.isalpha())&(len(cleaned_words)>2)):\n",
    "                if(cleaned_words.lower() not in stop):\n",
    "                    s=snb.stem(cleaned_words.lower())\n",
    "                    filtered_sentence.append(s)\n",
    "                    if (final['Score'].values)[i]=='positive':\n",
    "                        all_positive_words.append(s)\n",
    "                    if (final['Score'].values)[i]=='negative':\n",
    "                        all_negative_words.append(s)\n",
    "                else:\n",
    "                    continue\n",
    "        else:\n",
    "            continue\n",
    "    str1 = \" \".join(filtered_sentence)\n",
    "    final_string.append(str1)\n",
    "    i+=1\n",
    "    \n",
    "    "
   ]
  },
  {
   "cell_type": "markdown",
   "metadata": {},
   "source": [
    "#### In above code snippet data cleansing has been done. Following things are included in that\n",
    "- Stop Words removal, html tags removal, punctuation marks removal\n",
    "- Stemming\n",
    "- Converting everything to lowercase\n",
    "- Lemmatization"
   ]
  },
  {
   "cell_type": "code",
   "execution_count": 125,
   "metadata": {},
   "outputs": [],
   "source": [
    "final_string = pd.DataFrame(final_string)"
   ]
  },
  {
   "cell_type": "code",
   "execution_count": 126,
   "metadata": {},
   "outputs": [],
   "source": [
    "final_string['Time']=final['Time']"
   ]
  },
  {
   "cell_type": "code",
   "execution_count": 127,
   "metadata": {},
   "outputs": [],
   "source": [
    "final_string['Score']=final['Score']"
   ]
  },
  {
   "cell_type": "code",
   "execution_count": 128,
   "metadata": {},
   "outputs": [
    {
     "data": {
      "text/plain": [
       "positive    223331\n",
       "negative     41934\n",
       "Name: Score, dtype: int64"
      ]
     },
     "execution_count": 128,
     "metadata": {},
     "output_type": "execute_result"
    }
   ],
   "source": [
    "final_string['Score'].value_counts()"
   ]
  },
  {
   "cell_type": "code",
   "execution_count": 129,
   "metadata": {},
   "outputs": [],
   "source": [
    "from sklearn.utils import resample"
   ]
  },
  {
   "cell_type": "code",
   "execution_count": 132,
   "metadata": {},
   "outputs": [
    {
     "data": {
      "text/plain": [
       "negative    1000\n",
       "positive    1000\n",
       "Name: Score, dtype: int64"
      ]
     },
     "execution_count": 132,
     "metadata": {},
     "output_type": "execute_result"
    }
   ],
   "source": [
    "df1 = pd.DataFrame(final_string[final_string['Score']=='positive'])\n",
    "df2 = pd.DataFrame(final_string[final_string['Score']=='negative'])\n",
    "\n",
    "\n",
    "\n",
    "from sklearn.utils import resample\n",
    "\n",
    "s1 = resample(df1,n_samples=1000)\n",
    "s2 = resample(df2,n_samples=1000)\n",
    "\n",
    "sampled = pd.concat([s1,s2],ignore_index=True)\n",
    "\n",
    "sampled['Score'].value_counts()"
   ]
  },
  {
   "cell_type": "markdown",
   "metadata": {},
   "source": [
    "#### We are taking sample of 2000 entries from the whole dataset because of Memory Constraint"
   ]
  },
  {
   "cell_type": "code",
   "execution_count": 133,
   "metadata": {},
   "outputs": [
    {
     "data": {
      "text/plain": [
       "negative    1000\n",
       "positive    1000\n",
       "Name: Score, dtype: int64"
      ]
     },
     "execution_count": 133,
     "metadata": {},
     "output_type": "execute_result"
    }
   ],
   "source": [
    "sampled['Score'].value_counts()"
   ]
  },
  {
   "cell_type": "code",
   "execution_count": null,
   "metadata": {},
   "outputs": [],
   "source": []
  },
  {
   "cell_type": "code",
   "execution_count": 134,
   "metadata": {},
   "outputs": [],
   "source": [
    "sampled.sort_values(\"Time\",axis=0,ascending=True,inplace=True)"
   ]
  },
  {
   "cell_type": "code",
   "execution_count": 135,
   "metadata": {},
   "outputs": [
    {
     "data": {
      "text/plain": [
       "(2000, 3)"
      ]
     },
     "execution_count": 135,
     "metadata": {},
     "output_type": "execute_result"
    }
   ],
   "source": [
    "sampled.shape"
   ]
  },
  {
   "cell_type": "code",
   "execution_count": null,
   "metadata": {},
   "outputs": [],
   "source": []
  },
  {
   "cell_type": "markdown",
   "metadata": {},
   "source": [
    "### Bag of Words approach"
   ]
  },
  {
   "cell_type": "code",
   "execution_count": null,
   "metadata": {},
   "outputs": [],
   "source": []
  },
  {
   "cell_type": "code",
   "execution_count": 136,
   "metadata": {},
   "outputs": [],
   "source": [
    "count_vect = CountVectorizer(ngram_range=(1,2))\n",
    "final_counts = count_vect.fit_transform(sampled[0])"
   ]
  },
  {
   "cell_type": "markdown",
   "metadata": {},
   "source": [
    "#### Obtained the Bag of Words"
   ]
  },
  {
   "cell_type": "code",
   "execution_count": 137,
   "metadata": {},
   "outputs": [
    {
     "data": {
      "text/plain": [
       "<2000x62738 sparse matrix of type '<class 'numpy.int64'>'\n",
       "\twith 134485 stored elements in Compressed Sparse Row format>"
      ]
     },
     "execution_count": 137,
     "metadata": {},
     "output_type": "execute_result"
    }
   ],
   "source": [
    "final_counts"
   ]
  },
  {
   "cell_type": "code",
   "execution_count": null,
   "metadata": {},
   "outputs": [],
   "source": []
  },
  {
   "cell_type": "code",
   "execution_count": 138,
   "metadata": {},
   "outputs": [],
   "source": [
    "from sklearn.metrics import accuracy_score"
   ]
  },
  {
   "cell_type": "code",
   "execution_count": 139,
   "metadata": {},
   "outputs": [],
   "source": [
    "from sklearn.neighbors import KNeighborsClassifier"
   ]
  },
  {
   "cell_type": "code",
   "execution_count": 140,
   "metadata": {},
   "outputs": [],
   "source": [
    "X1=final_counts[0:1600,:]\n",
    "y1=sampled.iloc[0:1600,2].values\n",
    "X_test=final_counts[1600:2000,:]\n",
    "y_test=sampled.iloc[1600:2000,2].values"
   ]
  },
  {
   "cell_type": "markdown",
   "metadata": {},
   "source": [
    "#### Here We did Time Based Splitting. in test set 20% data is present."
   ]
  },
  {
   "cell_type": "code",
   "execution_count": 149,
   "metadata": {},
   "outputs": [
    {
     "name": "stdout",
     "output_type": "stream",
     "text": [
      "Accuracy Score for k=1 is 49.375\n",
      "Accuracy Score for k=2 is 50.625\n",
      "Accuracy Score for k=3 is 50.9375\n",
      "Accuracy Score for k=4 is 55.00000000000001\n",
      "Accuracy Score for k=5 is 52.1875\n",
      "Accuracy Score for k=6 is 50.9375\n",
      "Accuracy Score for k=7 is 51.24999999999999\n",
      "Accuracy Score for k=8 is 52.5\n",
      "Accuracy Score for k=9 is 51.5625\n",
      "Accuracy Score for k=10 is 53.43750000000001\n",
      "Accuracy Score for k=11 is 50.9375\n",
      "Accuracy Score for k=12 is 50.625\n",
      "Accuracy Score for k=13 is 50.0\n",
      "Accuracy Score for k=14 is 51.5625\n",
      "Accuracy Score for k=15 is 50.625\n",
      "Accuracy Score for k=16 is 51.87500000000001\n",
      "Accuracy Score for k=17 is 51.5625\n",
      "Accuracy Score for k=18 is 52.81249999999999\n",
      "Accuracy Score for k=19 is 55.00000000000001\n",
      "Accuracy Score for k=20 is 52.81249999999999\n",
      "Accuracy Score for k=21 is 54.6875\n",
      "Accuracy Score for k=22 is 50.9375\n",
      "Accuracy Score for k=23 is 53.125\n",
      "Accuracy Score for k=24 is 51.87500000000001\n",
      "Accuracy Score for k=25 is 53.75\n",
      "Accuracy Score for k=26 is 50.31250000000001\n",
      "Accuracy Score for k=27 is 52.81249999999999\n",
      "Accuracy Score for k=28 is 53.75\n",
      "Accuracy Score for k=29 is 53.125\n",
      "Accuracy Score for k=30 is 53.75\n",
      "Accuracy Score for k=31 is 53.43750000000001\n",
      "Accuracy Score for k=32 is 53.125\n",
      "Accuracy Score for k=33 is 51.24999999999999\n",
      "Accuracy Score for k=34 is 52.1875\n",
      "Accuracy Score for k=35 is 52.81249999999999\n",
      "Accuracy Score for k=36 is 53.75\n",
      "Accuracy Score for k=37 is 52.1875\n",
      "Accuracy Score for k=38 is 52.1875\n",
      "Accuracy Score for k=39 is 52.81249999999999\n",
      "Accuracy Score for k=40 is 50.31250000000001\n",
      "Accuracy Score for k=41 is 50.9375\n",
      "Accuracy Score for k=42 is 52.5\n",
      "Accuracy Score for k=43 is 49.375\n",
      "Accuracy Score for k=44 is 49.375\n",
      "Accuracy Score for k=45 is 50.9375\n",
      "Accuracy Score for k=46 is 49.0625\n",
      "Accuracy Score for k=47 is 51.24999999999999\n",
      "Accuracy Score for k=48 is 50.31250000000001\n",
      "Accuracy Score for k=49 is 48.75\n",
      "Accuracy Score for k=50 is 50.0\n",
      "Accuracy Score for k=51 is 50.0\n",
      "Accuracy Score for k=52 is 52.1875\n",
      "Accuracy Score for k=53 is 50.31250000000001\n",
      "Accuracy Score for k=54 is 51.24999999999999\n",
      "Accuracy Score for k=55 is 48.75\n",
      "Accuracy Score for k=56 is 49.0625\n",
      "Accuracy Score for k=57 is 47.8125\n",
      "Accuracy Score for k=58 is 50.625\n",
      "Accuracy Score for k=59 is 49.375\n",
      "Accuracy Score for k=60 is 49.6875\n",
      "Accuracy Score for k=61 is 46.5625\n",
      "Accuracy Score for k=62 is 47.8125\n",
      "Accuracy Score for k=63 is 45.9375\n",
      "Accuracy Score for k=64 is 46.875\n",
      "Accuracy Score for k=65 is 45.625\n",
      "Accuracy Score for k=66 is 45.625\n",
      "Accuracy Score for k=67 is 48.125\n",
      "Accuracy Score for k=68 is 49.6875\n",
      "Accuracy Score for k=69 is 47.1875\n",
      "Accuracy Score for k=70 is 49.6875\n",
      "Accuracy Score for k=71 is 48.125\n",
      "Accuracy Score for k=72 is 48.75\n",
      "Accuracy Score for k=73 is 47.5\n",
      "Accuracy Score for k=74 is 49.6875\n",
      "Accuracy Score for k=75 is 45.9375\n",
      "Accuracy Score for k=76 is 45.625\n",
      "Accuracy Score for k=77 is 47.8125\n",
      "Accuracy Score for k=78 is 48.125\n",
      "Accuracy Score for k=79 is 46.5625\n",
      "Accuracy Score for k=80 is 48.125\n",
      "Accuracy Score for k=81 is 47.1875\n",
      "Accuracy Score for k=82 is 47.1875\n",
      "Accuracy Score for k=83 is 47.1875\n",
      "Accuracy Score for k=84 is 48.75\n",
      "Accuracy Score for k=85 is 48.125\n",
      "Accuracy Score for k=86 is 47.5\n",
      "Accuracy Score for k=87 is 46.5625\n",
      "Accuracy Score for k=88 is 45.9375\n",
      "Accuracy Score for k=89 is 45.9375\n",
      "Accuracy Score for k=90 is 45.625\n",
      "Accuracy Score for k=91 is 45.3125\n",
      "Accuracy Score for k=92 is 46.5625\n",
      "Accuracy Score for k=93 is 45.0\n",
      "Accuracy Score for k=94 is 44.0625\n",
      "Accuracy Score for k=95 is 44.375\n",
      "Accuracy Score for k=96 is 44.0625\n",
      "Accuracy Score for k=97 is 45.625\n",
      "Accuracy Score for k=98 is 45.625\n",
      "Accuracy Score for k=99 is 45.3125\n",
      "Accuracy Score for k=100 is 46.25\n",
      "k value for maximum accuracy is 4 with accuracy 55.00000000000001\n"
     ]
    }
   ],
   "source": [
    "accuracy=[]\n",
    "for k in range(1,101):\n",
    "    X_train=final_counts[0:1280,:]\n",
    "    y_train=sampled.iloc[0:1280,2].values\n",
    "    X_cv=final_counts[1280:1600,:]\n",
    "    y_cv=sampled.iloc[1280:1600,2].values\n",
    "    neigh = KNeighborsClassifier(n_neighbors=k)\n",
    "    neigh.fit(X_train,y_train)\n",
    "    pred = neigh.predict(X_cv)\n",
    "    score = accuracy_score(y_cv,pred,normalize=True)*float(100)\n",
    "    print('Accuracy Score for k={} is {}'.format(k,score))\n",
    "    accuracy.append(score)\n",
    "print('k value for maximum accuracy is {} with accuracy {}'.format(np.argmax(np.array(accuracy))+1,max(accuracy)))"
   ]
  },
  {
   "cell_type": "code",
   "execution_count": 151,
   "metadata": {},
   "outputs": [
    {
     "data": {
      "image/png": "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\n",
      "text/plain": [
       "<matplotlib.figure.Figure at 0x1ac47875a58>"
      ]
     },
     "metadata": {},
     "output_type": "display_data"
    }
   ],
   "source": [
    "plt.plot(np.arange(1,101),accuracy)\n",
    "plt.title('K Vs Accuracy')\n",
    "plt.xlabel('K values')\n",
    "plt.ylabel('Accuracy Values')\n",
    "plt.show()"
   ]
  },
  {
   "cell_type": "markdown",
   "metadata": {},
   "source": [
    "#### From 1 fold Cross Validation with normal approach we got optimum k value 4. But this will overfit the data. So we selected k=19 with accuracy 55"
   ]
  },
  {
   "cell_type": "code",
   "execution_count": null,
   "metadata": {},
   "outputs": [],
   "source": []
  },
  {
   "cell_type": "code",
   "execution_count": 152,
   "metadata": {},
   "outputs": [
    {
     "name": "stdout",
     "output_type": "stream",
     "text": [
      "Accuracy Score for the 20% test datapoints is 52.25\n"
     ]
    }
   ],
   "source": [
    "neigh = KNeighborsClassifier(n_neighbors=19)\n",
    "neigh.fit(X1,y1)\n",
    "pred = neigh.predict(X_test)\n",
    "score = accuracy_score(pred,y_test,normalize=True)\n",
    "print('Accuracy Score for the 20% test datapoints is {}'.format(score*float(100)))"
   ]
  },
  {
   "cell_type": "markdown",
   "metadata": {},
   "source": [
    "#### Obtained accuracy score is 52.25"
   ]
  },
  {
   "cell_type": "code",
   "execution_count": null,
   "metadata": {},
   "outputs": [],
   "source": []
  },
  {
   "cell_type": "code",
   "execution_count": 153,
   "metadata": {},
   "outputs": [
    {
     "name": "stdout",
     "output_type": "stream",
     "text": [
      "k value for maximum accuracy is 62 with accuracy 55.625\n"
     ]
    }
   ],
   "source": [
    "accuracy=[]\n",
    "for k in range(1,101):\n",
    "    score_total=0\n",
    "    for i in range(0,10):\n",
    "        \n",
    "        X_train=final_counts[0:160*(i+1),:]\n",
    "        y_train=sampled.iloc[0:160*(i+1),2].values\n",
    "        X_cv=final_counts[160*(i+1):160*(i+2),:]\n",
    "        y_cv=sampled.iloc[160*(i+1):160*(i+2),2].values\n",
    "        #Here we splitted the data in Train and Cross Validation set\n",
    "        neigh = KNeighborsClassifier(n_neighbors=k)\n",
    "        neigh.fit(X_train,y_train)\n",
    "        pred = neigh.predict(X_cv)\n",
    "        score_total = (score_avg + accuracy_score(y_cv,pred,normalize=True)*float(100))\n",
    "    #print(float(score_total)/10)\n",
    "    accuracy.append(float(score_total)/10)\n",
    "print('k value for maximum accuracy is {} with accuracy {}'.format(np.argmax(np.array(accuracy))+1,max(accuracy)))"
   ]
  },
  {
   "cell_type": "code",
   "execution_count": 154,
   "metadata": {},
   "outputs": [
    {
     "data": {
      "image/png": "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\n",
      "text/plain": [
       "<matplotlib.figure.Figure at 0x1ac48e49ef0>"
      ]
     },
     "metadata": {},
     "output_type": "display_data"
    }
   ],
   "source": [
    "plt.plot(np.arange(1,101),accuracy)\n",
    "plt.title('K Vs Accuracy')\n",
    "plt.xlabel('K values')\n",
    "plt.ylabel('Accuracy Values')\n",
    "plt.show()"
   ]
  },
  {
   "cell_type": "markdown",
   "metadata": {},
   "source": [
    "#### From 10 fold Cross Validation with normal approach we got optimum k value 62 with accuracy 55.625"
   ]
  },
  {
   "cell_type": "code",
   "execution_count": 155,
   "metadata": {},
   "outputs": [
    {
     "name": "stdout",
     "output_type": "stream",
     "text": [
      "Accuracy Score for the 20% test datapoints is 52.75\n"
     ]
    }
   ],
   "source": [
    "neigh = KNeighborsClassifier(n_neighbors=62)\n",
    "neigh.fit(X1,y1)\n",
    "pred = neigh.predict(X_test)\n",
    "score = accuracy_score(pred,y_test,normalize=True)\n",
    "print('Accuracy Score for the 20% test datapoints is {}'.format(score*float(100)))"
   ]
  },
  {
   "cell_type": "code",
   "execution_count": null,
   "metadata": {},
   "outputs": [],
   "source": [
    "#### With kd tree"
   ]
  },
  {
   "cell_type": "code",
   "execution_count": 157,
   "metadata": {},
   "outputs": [
    {
     "name": "stderr",
     "output_type": "stream",
     "text": [
      "C:\\Users\\Dipayan\\Anaconda3\\lib\\site-packages\\sklearn\\neighbors\\base.py:212: UserWarning: cannot use tree with sparse input: using brute force\n",
      "  warnings.warn(\"cannot use tree with sparse input: \"\n"
     ]
    },
    {
     "name": "stdout",
     "output_type": "stream",
     "text": [
      "k value for maximum accuracy is 4 with accuracy 55.00000000000001\n"
     ]
    }
   ],
   "source": [
    "accuracy=[]\n",
    "for k in range(1,101):\n",
    "    X_train=final_counts[0:1280,:]\n",
    "    y_train=sampled.iloc[0:1280,2].values\n",
    "    X_cv=final_counts[1280:1600,:]\n",
    "    y_cv=sampled.iloc[1280:1600,2].values\n",
    "    neigh = KNeighborsClassifier(n_neighbors=k,algorithm='kd_tree')\n",
    "    neigh.fit(X_train,y_train)\n",
    "    pred = neigh.predict(X_cv)\n",
    "    score = accuracy_score(y_cv,pred,normalize=True)*float(100)\n",
    "    \n",
    "    accuracy.append(score)\n",
    "print('k value for maximum accuracy is {} with accuracy {}'.format(np.argmax(np.array(accuracy))+1,max(accuracy)))"
   ]
  },
  {
   "cell_type": "code",
   "execution_count": 158,
   "metadata": {},
   "outputs": [
    {
     "name": "stdout",
     "output_type": "stream",
     "text": [
      "Accuracy Score for the 20% test datapoints is 52.25\n"
     ]
    }
   ],
   "source": [
    "neigh = KNeighborsClassifier(n_neighbors=19)\n",
    "neigh.fit(X1,y1)\n",
    "pred = neigh.predict(X_test)\n",
    "score = accuracy_score(pred,y_test,normalize=True)\n",
    "print('Accuracy Score for the 20% test datapoints is {}'.format(score*float(100)))"
   ]
  },
  {
   "cell_type": "code",
   "execution_count": 159,
   "metadata": {},
   "outputs": [
    {
     "name": "stdout",
     "output_type": "stream",
     "text": [
      "k value for maximum accuracy is 62 with accuracy 55.625\n"
     ]
    }
   ],
   "source": [
    "accuracy=[]\n",
    "for k in range(1,101):\n",
    "    score_total=0\n",
    "    for i in range(0,10):\n",
    "        \n",
    "        X_train=final_counts[0:160*(i+1),:]\n",
    "        y_train=sampled.iloc[0:160*(i+1),2].values\n",
    "        X_cv=final_counts[160*(i+1):160*(i+2),:]\n",
    "        y_cv=sampled.iloc[160*(i+1):160*(i+2),2].values\n",
    "        #Here we splitted the data in Train and Cross Validation set\n",
    "        neigh = KNeighborsClassifier(n_neighbors=k)\n",
    "        neigh.fit(X_train,y_train)\n",
    "        pred = neigh.predict(X_cv)\n",
    "        score_total = (score_avg + accuracy_score(y_cv,pred,normalize=True)*float(100))\n",
    "    #print(float(score_total)/10)\n",
    "    accuracy.append(float(score_total)/10)\n",
    "print('k value for maximum accuracy is {} with accuracy {}'.format(np.argmax(np.array(accuracy))+1,max(accuracy)))"
   ]
  },
  {
   "cell_type": "code",
   "execution_count": 160,
   "metadata": {},
   "outputs": [
    {
     "name": "stdout",
     "output_type": "stream",
     "text": [
      "Accuracy Score for the 20% test datapoints is 52.75\n"
     ]
    },
    {
     "name": "stderr",
     "output_type": "stream",
     "text": [
      "C:\\Users\\Dipayan\\Anaconda3\\lib\\site-packages\\sklearn\\neighbors\\base.py:212: UserWarning: cannot use tree with sparse input: using brute force\n",
      "  warnings.warn(\"cannot use tree with sparse input: \"\n"
     ]
    }
   ],
   "source": [
    "neigh = KNeighborsClassifier(n_neighbors=62,algorithm='kd_tree')\n",
    "neigh.fit(X1,y1)\n",
    "pred = neigh.predict(X_test)\n",
    "score = accuracy_score(pred,y_test,normalize=True)\n",
    "print('Accuracy Score for the 20% test datapoints is {}'.format(score*float(100)))"
   ]
  },
  {
   "cell_type": "code",
   "execution_count": null,
   "metadata": {},
   "outputs": [],
   "source": []
  },
  {
   "cell_type": "markdown",
   "metadata": {},
   "source": [
    "### Tf_idf Approach"
   ]
  },
  {
   "cell_type": "code",
   "execution_count": null,
   "metadata": {},
   "outputs": [],
   "source": []
  },
  {
   "cell_type": "code",
   "execution_count": 161,
   "metadata": {},
   "outputs": [],
   "source": [
    "tfidf_vect = TfidfVectorizer(ngram_range=(1,2))\n",
    "final_tfidf = tfidf_vect.fit_transform(sampled[0])"
   ]
  },
  {
   "cell_type": "markdown",
   "metadata": {},
   "source": [
    "#### Tfidf vector has been obtained"
   ]
  },
  {
   "cell_type": "code",
   "execution_count": 162,
   "metadata": {},
   "outputs": [
    {
     "data": {
      "text/plain": [
       "<2000x62738 sparse matrix of type '<class 'numpy.float64'>'\n",
       "\twith 134485 stored elements in Compressed Sparse Row format>"
      ]
     },
     "execution_count": 162,
     "metadata": {},
     "output_type": "execute_result"
    }
   ],
   "source": [
    "final_tfidf"
   ]
  },
  {
   "cell_type": "code",
   "execution_count": null,
   "metadata": {},
   "outputs": [],
   "source": []
  },
  {
   "cell_type": "code",
   "execution_count": 163,
   "metadata": {},
   "outputs": [],
   "source": [
    "X1=final_tfidf[0:1600,:]\n",
    "y1=sampled.iloc[0:1600,2].values\n",
    "X_test=final_tfidf[1600:2000,:]\n",
    "y_test=sampled.iloc[1600:2000,2].values"
   ]
  },
  {
   "cell_type": "code",
   "execution_count": 164,
   "metadata": {},
   "outputs": [
    {
     "name": "stdout",
     "output_type": "stream",
     "text": [
      "Accuracy Score for k=1 is 51.5625\n",
      "Accuracy Score for k=2 is 52.5\n",
      "Accuracy Score for k=3 is 52.81249999999999\n",
      "Accuracy Score for k=4 is 50.31250000000001\n",
      "Accuracy Score for k=5 is 51.24999999999999\n",
      "Accuracy Score for k=6 is 51.24999999999999\n",
      "Accuracy Score for k=7 is 53.43750000000001\n",
      "Accuracy Score for k=8 is 51.87500000000001\n",
      "Accuracy Score for k=9 is 53.75\n",
      "Accuracy Score for k=10 is 49.375\n",
      "Accuracy Score for k=11 is 54.6875\n",
      "Accuracy Score for k=12 is 51.5625\n",
      "Accuracy Score for k=13 is 53.43750000000001\n",
      "Accuracy Score for k=14 is 53.43750000000001\n",
      "Accuracy Score for k=15 is 54.6875\n",
      "Accuracy Score for k=16 is 51.5625\n",
      "Accuracy Score for k=17 is 54.0625\n",
      "Accuracy Score for k=18 is 52.81249999999999\n",
      "Accuracy Score for k=19 is 55.00000000000001\n",
      "Accuracy Score for k=20 is 53.43750000000001\n",
      "Accuracy Score for k=21 is 53.43750000000001\n",
      "Accuracy Score for k=22 is 52.81249999999999\n",
      "Accuracy Score for k=23 is 52.81249999999999\n",
      "Accuracy Score for k=24 is 51.5625\n",
      "Accuracy Score for k=25 is 52.81249999999999\n",
      "Accuracy Score for k=26 is 52.5\n",
      "Accuracy Score for k=27 is 52.5\n",
      "Accuracy Score for k=28 is 51.24999999999999\n",
      "Accuracy Score for k=29 is 52.1875\n",
      "Accuracy Score for k=30 is 50.625\n",
      "Accuracy Score for k=31 is 49.6875\n",
      "Accuracy Score for k=32 is 48.75\n",
      "Accuracy Score for k=33 is 51.24999999999999\n",
      "Accuracy Score for k=34 is 50.31250000000001\n",
      "Accuracy Score for k=35 is 52.5\n",
      "Accuracy Score for k=36 is 50.0\n",
      "Accuracy Score for k=37 is 52.5\n",
      "Accuracy Score for k=38 is 49.6875\n",
      "Accuracy Score for k=39 is 51.5625\n",
      "Accuracy Score for k=40 is 49.6875\n",
      "Accuracy Score for k=41 is 50.625\n",
      "Accuracy Score for k=42 is 51.5625\n",
      "Accuracy Score for k=43 is 53.125\n",
      "Accuracy Score for k=44 is 52.1875\n",
      "Accuracy Score for k=45 is 51.5625\n",
      "Accuracy Score for k=46 is 51.5625\n",
      "Accuracy Score for k=47 is 51.87500000000001\n",
      "Accuracy Score for k=48 is 52.5\n",
      "Accuracy Score for k=49 is 53.125\n",
      "Accuracy Score for k=50 is 53.43750000000001\n",
      "Accuracy Score for k=51 is 53.125\n",
      "Accuracy Score for k=52 is 53.75\n",
      "Accuracy Score for k=53 is 53.75\n",
      "Accuracy Score for k=54 is 54.37499999999999\n",
      "Accuracy Score for k=55 is 54.37499999999999\n",
      "Accuracy Score for k=56 is 55.00000000000001\n",
      "Accuracy Score for k=57 is 52.5\n",
      "Accuracy Score for k=58 is 51.5625\n",
      "Accuracy Score for k=59 is 52.81249999999999\n",
      "Accuracy Score for k=60 is 53.43750000000001\n",
      "Accuracy Score for k=61 is 52.5\n",
      "Accuracy Score for k=62 is 52.1875\n",
      "Accuracy Score for k=63 is 52.1875\n",
      "Accuracy Score for k=64 is 52.81249999999999\n",
      "Accuracy Score for k=65 is 52.1875\n",
      "Accuracy Score for k=66 is 51.5625\n",
      "Accuracy Score for k=67 is 52.1875\n",
      "Accuracy Score for k=68 is 53.125\n",
      "Accuracy Score for k=69 is 51.87500000000001\n",
      "Accuracy Score for k=70 is 53.125\n",
      "Accuracy Score for k=71 is 53.125\n",
      "Accuracy Score for k=72 is 54.37499999999999\n",
      "Accuracy Score for k=73 is 55.00000000000001\n",
      "Accuracy Score for k=74 is 54.0625\n",
      "Accuracy Score for k=75 is 53.75\n",
      "Accuracy Score for k=76 is 54.6875\n",
      "Accuracy Score for k=77 is 53.43750000000001\n",
      "Accuracy Score for k=78 is 55.00000000000001\n",
      "Accuracy Score for k=79 is 53.43750000000001\n",
      "Accuracy Score for k=80 is 55.93749999999999\n",
      "Accuracy Score for k=81 is 55.00000000000001\n",
      "Accuracy Score for k=82 is 55.3125\n",
      "Accuracy Score for k=83 is 53.75\n",
      "Accuracy Score for k=84 is 54.37499999999999\n",
      "Accuracy Score for k=85 is 53.75\n",
      "Accuracy Score for k=86 is 52.81249999999999\n",
      "Accuracy Score for k=87 is 52.1875\n",
      "Accuracy Score for k=88 is 54.0625\n",
      "Accuracy Score for k=89 is 54.6875\n",
      "Accuracy Score for k=90 is 55.00000000000001\n",
      "Accuracy Score for k=91 is 54.6875\n",
      "Accuracy Score for k=92 is 54.6875\n",
      "Accuracy Score for k=93 is 55.3125\n",
      "Accuracy Score for k=94 is 54.0625\n",
      "Accuracy Score for k=95 is 53.75\n",
      "Accuracy Score for k=96 is 53.75\n",
      "Accuracy Score for k=97 is 52.1875\n",
      "Accuracy Score for k=98 is 54.0625\n",
      "Accuracy Score for k=99 is 53.43750000000001\n",
      "Accuracy Score for k=100 is 54.0625\n",
      "k value for maximum accuracy is 80 with accuracy 55.93749999999999\n"
     ]
    }
   ],
   "source": [
    "accuracy=[]\n",
    "for k in range(1,101):\n",
    "    X_train=final_tfidf[0:1280,:]\n",
    "    y_train=sampled.iloc[0:1280,2].values\n",
    "    X_cv=final_tfidf[1280:1600,:]\n",
    "    y_cv=sampled.iloc[1280:1600,2].values\n",
    "    neigh = KNeighborsClassifier(n_neighbors=k)\n",
    "    neigh.fit(X_train,y_train)\n",
    "    pred = neigh.predict(X_cv)\n",
    "    score = accuracy_score(y_cv,pred,normalize=True)*float(100)\n",
    "    print('Accuracy Score for k={} is {}'.format(k,score))\n",
    "    accuracy.append(score)\n",
    "print('k value for maximum accuracy is {} with accuracy {}'.format(np.argmax(np.array(accuracy))+1,max(accuracy)))"
   ]
  },
  {
   "cell_type": "code",
   "execution_count": 165,
   "metadata": {},
   "outputs": [
    {
     "data": {
      "image/png": "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\n",
      "text/plain": [
       "<matplotlib.figure.Figure at 0x1ac7f649160>"
      ]
     },
     "metadata": {},
     "output_type": "display_data"
    }
   ],
   "source": [
    "plt.plot(np.arange(1,101),accuracy)\n",
    "plt.title('K Vs Accuracy')\n",
    "plt.xlabel('K values')\n",
    "plt.ylabel('Accuracy Values')\n",
    "plt.show()"
   ]
  },
  {
   "cell_type": "markdown",
   "metadata": {},
   "source": [
    "#### From 1 fold cross validation with normal approach optimum k value is 80 with accuracy 55.9"
   ]
  },
  {
   "cell_type": "code",
   "execution_count": 166,
   "metadata": {
    "scrolled": true
   },
   "outputs": [
    {
     "name": "stdout",
     "output_type": "stream",
     "text": [
      "Accuracy Score for the 20% test datapoints is 53.5\n"
     ]
    }
   ],
   "source": [
    "neigh = KNeighborsClassifier(n_neighbors=80)\n",
    "neigh.fit(X1,y1)\n",
    "pred = neigh.predict(X_test)\n",
    "score = accuracy_score(pred,y_test,normalize=True)\n",
    "print('Accuracy Score for the 20% test datapoints is {}'.format(score*float(100)))"
   ]
  },
  {
   "cell_type": "markdown",
   "metadata": {},
   "source": [
    "#### Acuracy on test set 53.5%"
   ]
  },
  {
   "cell_type": "code",
   "execution_count": null,
   "metadata": {},
   "outputs": [],
   "source": []
  },
  {
   "cell_type": "code",
   "execution_count": null,
   "metadata": {},
   "outputs": [],
   "source": []
  },
  {
   "cell_type": "code",
   "execution_count": 167,
   "metadata": {},
   "outputs": [
    {
     "name": "stdout",
     "output_type": "stream",
     "text": [
      "k value for maximum accuracy is 75 with accuracy 55.375\n"
     ]
    }
   ],
   "source": [
    "accuracy=[]\n",
    "for k in range(1,101):\n",
    "    score_total=0\n",
    "    for i in range(0,10):\n",
    "        \n",
    "        X_train=final_tfidf[0:160*(i+1),:]\n",
    "        y_train=sampled.iloc[0:160*(i+1),2].values\n",
    "        X_cv=final_tfidf[160*(i+1):160*(i+2),:]\n",
    "        y_cv=sampled.iloc[160*(i+1):160*(i+2),2].values\n",
    "        #Here we splitted the data in Train and Cross Validation set\n",
    "        neigh = KNeighborsClassifier(n_neighbors=k)\n",
    "        neigh.fit(X_train,y_train)\n",
    "        pred = neigh.predict(X_cv)\n",
    "        score_total = (score_avg + accuracy_score(y_cv,pred,normalize=True)*float(100))\n",
    "    #print(float(score_total)/10)\n",
    "    accuracy.append(float(score_total)/10)\n",
    "print('k value for maximum accuracy is {} with accuracy {}'.format(np.argmax(np.array(accuracy))+1,max(accuracy)))"
   ]
  },
  {
   "cell_type": "code",
   "execution_count": 168,
   "metadata": {},
   "outputs": [
    {
     "data": {
      "image/png": "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\n",
      "text/plain": [
       "<matplotlib.figure.Figure at 0x1ac49be8898>"
      ]
     },
     "metadata": {},
     "output_type": "display_data"
    }
   ],
   "source": [
    "plt.plot(np.arange(1,101),accuracy)\n",
    "plt.title('K Vs Accuracy')\n",
    "plt.xlabel('K values')\n",
    "plt.ylabel('Accuracy Values')\n",
    "plt.show()"
   ]
  },
  {
   "cell_type": "markdown",
   "metadata": {},
   "source": [
    "#### From 10 fold Cross Validation with normal approach we got optimum k value as 75 with accuracy 55.375"
   ]
  },
  {
   "cell_type": "markdown",
   "metadata": {},
   "source": []
  },
  {
   "cell_type": "code",
   "execution_count": 169,
   "metadata": {},
   "outputs": [
    {
     "name": "stdout",
     "output_type": "stream",
     "text": [
      "Accuracy Score for the 20% test datapoints is 55.75\n"
     ]
    }
   ],
   "source": [
    "neigh = KNeighborsClassifier(n_neighbors=75)\n",
    "neigh.fit(X1,y1)\n",
    "pred = neigh.predict(X_test)\n",
    "score = accuracy_score(pred,y_test,normalize=True)\n",
    "print('Accuracy Score for the 20% test datapoints is {}'.format(score*float(100)))"
   ]
  },
  {
   "cell_type": "markdown",
   "metadata": {},
   "source": [
    "#### Accuracy on test set 55.75"
   ]
  },
  {
   "cell_type": "code",
   "execution_count": 170,
   "metadata": {},
   "outputs": [
    {
     "name": "stderr",
     "output_type": "stream",
     "text": [
      "C:\\Users\\Dipayan\\Anaconda3\\lib\\site-packages\\sklearn\\neighbors\\base.py:212: UserWarning: cannot use tree with sparse input: using brute force\n",
      "  warnings.warn(\"cannot use tree with sparse input: \"\n"
     ]
    },
    {
     "name": "stdout",
     "output_type": "stream",
     "text": [
      "Accuracy Score for k=1 is 51.5625\n",
      "Accuracy Score for k=2 is 52.5\n",
      "Accuracy Score for k=3 is 52.81249999999999\n",
      "Accuracy Score for k=4 is 50.31250000000001\n",
      "Accuracy Score for k=5 is 51.24999999999999\n",
      "Accuracy Score for k=6 is 51.24999999999999\n",
      "Accuracy Score for k=7 is 53.43750000000001\n",
      "Accuracy Score for k=8 is 51.87500000000001\n",
      "Accuracy Score for k=9 is 53.75\n",
      "Accuracy Score for k=10 is 49.375\n",
      "Accuracy Score for k=11 is 54.6875\n",
      "Accuracy Score for k=12 is 51.5625\n",
      "Accuracy Score for k=13 is 53.43750000000001\n",
      "Accuracy Score for k=14 is 53.43750000000001\n",
      "Accuracy Score for k=15 is 54.6875\n",
      "Accuracy Score for k=16 is 51.5625\n",
      "Accuracy Score for k=17 is 54.0625\n",
      "Accuracy Score for k=18 is 52.81249999999999\n",
      "Accuracy Score for k=19 is 55.00000000000001\n",
      "Accuracy Score for k=20 is 53.43750000000001\n",
      "Accuracy Score for k=21 is 53.43750000000001\n",
      "Accuracy Score for k=22 is 52.81249999999999\n",
      "Accuracy Score for k=23 is 52.81249999999999\n",
      "Accuracy Score for k=24 is 51.5625\n",
      "Accuracy Score for k=25 is 52.81249999999999\n",
      "Accuracy Score for k=26 is 52.5\n",
      "Accuracy Score for k=27 is 52.5\n",
      "Accuracy Score for k=28 is 51.24999999999999\n",
      "Accuracy Score for k=29 is 52.1875\n",
      "Accuracy Score for k=30 is 50.625\n",
      "Accuracy Score for k=31 is 49.6875\n",
      "Accuracy Score for k=32 is 48.75\n",
      "Accuracy Score for k=33 is 51.24999999999999\n",
      "Accuracy Score for k=34 is 50.31250000000001\n",
      "Accuracy Score for k=35 is 52.5\n",
      "Accuracy Score for k=36 is 50.0\n",
      "Accuracy Score for k=37 is 52.5\n",
      "Accuracy Score for k=38 is 49.6875\n",
      "Accuracy Score for k=39 is 51.5625\n",
      "Accuracy Score for k=40 is 49.6875\n",
      "Accuracy Score for k=41 is 50.625\n",
      "Accuracy Score for k=42 is 51.5625\n",
      "Accuracy Score for k=43 is 53.125\n",
      "Accuracy Score for k=44 is 52.1875\n",
      "Accuracy Score for k=45 is 51.5625\n",
      "Accuracy Score for k=46 is 51.5625\n",
      "Accuracy Score for k=47 is 51.87500000000001\n",
      "Accuracy Score for k=48 is 52.5\n",
      "Accuracy Score for k=49 is 53.125\n",
      "Accuracy Score for k=50 is 53.43750000000001\n",
      "Accuracy Score for k=51 is 53.125\n",
      "Accuracy Score for k=52 is 53.75\n",
      "Accuracy Score for k=53 is 53.75\n",
      "Accuracy Score for k=54 is 54.37499999999999\n",
      "Accuracy Score for k=55 is 54.37499999999999\n",
      "Accuracy Score for k=56 is 55.00000000000001\n",
      "Accuracy Score for k=57 is 52.5\n",
      "Accuracy Score for k=58 is 51.5625\n",
      "Accuracy Score for k=59 is 52.81249999999999\n",
      "Accuracy Score for k=60 is 53.43750000000001\n",
      "Accuracy Score for k=61 is 52.5\n",
      "Accuracy Score for k=62 is 52.1875\n",
      "Accuracy Score for k=63 is 52.1875\n",
      "Accuracy Score for k=64 is 52.81249999999999\n",
      "Accuracy Score for k=65 is 52.1875\n",
      "Accuracy Score for k=66 is 51.5625\n",
      "Accuracy Score for k=67 is 52.1875\n",
      "Accuracy Score for k=68 is 53.125\n",
      "Accuracy Score for k=69 is 51.87500000000001\n",
      "Accuracy Score for k=70 is 53.125\n",
      "Accuracy Score for k=71 is 53.125\n",
      "Accuracy Score for k=72 is 54.37499999999999\n",
      "Accuracy Score for k=73 is 55.00000000000001\n",
      "Accuracy Score for k=74 is 54.0625\n",
      "Accuracy Score for k=75 is 53.75\n",
      "Accuracy Score for k=76 is 54.6875\n",
      "Accuracy Score for k=77 is 53.43750000000001\n",
      "Accuracy Score for k=78 is 55.00000000000001\n",
      "Accuracy Score for k=79 is 53.43750000000001\n",
      "Accuracy Score for k=80 is 55.93749999999999\n",
      "Accuracy Score for k=81 is 55.00000000000001\n",
      "Accuracy Score for k=82 is 55.3125\n",
      "Accuracy Score for k=83 is 53.75\n",
      "Accuracy Score for k=84 is 54.37499999999999\n",
      "Accuracy Score for k=85 is 53.75\n",
      "Accuracy Score for k=86 is 52.81249999999999\n",
      "Accuracy Score for k=87 is 52.1875\n",
      "Accuracy Score for k=88 is 54.0625\n",
      "Accuracy Score for k=89 is 54.6875\n",
      "Accuracy Score for k=90 is 55.00000000000001\n",
      "Accuracy Score for k=91 is 54.6875\n",
      "Accuracy Score for k=92 is 54.6875\n",
      "Accuracy Score for k=93 is 55.3125\n",
      "Accuracy Score for k=94 is 54.0625\n",
      "Accuracy Score for k=95 is 53.75\n",
      "Accuracy Score for k=96 is 53.75\n",
      "Accuracy Score for k=97 is 52.1875\n",
      "Accuracy Score for k=98 is 54.0625\n",
      "Accuracy Score for k=99 is 53.43750000000001\n",
      "Accuracy Score for k=100 is 54.0625\n",
      "k value for maximum accuracy is 80 with accuracy 55.93749999999999\n"
     ]
    }
   ],
   "source": [
    "# In kd tree approach\n",
    "accuracy=[]\n",
    "for k in range(1,101):\n",
    "    X_train=final_tfidf[0:1280,:]\n",
    "    y_train=sampled.iloc[0:1280,2].values\n",
    "    X_cv=final_tfidf[1280:1600,:]\n",
    "    y_cv=sampled.iloc[1280:1600,2].values\n",
    "    neigh = KNeighborsClassifier(n_neighbors=k,algorithm='kd_tree')\n",
    "    neigh.fit(X_train,y_train)\n",
    "    pred = neigh.predict(X_cv)\n",
    "    score = accuracy_score(y_cv,pred,normalize=True)*float(100)\n",
    "    print('Accuracy Score for k={} is {}'.format(k,score))\n",
    "    accuracy.append(score)\n",
    "print('k value for maximum accuracy is {} with accuracy {}'.format(np.argmax(np.array(accuracy))+1,max(accuracy)))"
   ]
  },
  {
   "cell_type": "code",
   "execution_count": 78,
   "metadata": {},
   "outputs": [
    {
     "name": "stderr",
     "output_type": "stream",
     "text": [
      "C:\\Users\\Dipayan\\Anaconda3\\lib\\site-packages\\sklearn\\neighbors\\base.py:212: UserWarning: cannot use tree with sparse input: using brute force\n",
      "  warnings.warn(\"cannot use tree with sparse input: \"\n"
     ]
    },
    {
     "name": "stdout",
     "output_type": "stream",
     "text": [
      "k value for maximum accuracy is 61 with accuracy 53.125\n"
     ]
    }
   ],
   "source": [
    "accuracy=[]\n",
    "for k in range(1,101):\n",
    "    \n",
    "    for i in range(0,10):\n",
    "        score=0\n",
    "        X_train=final_tfidf[0:160*(i+1),:]\n",
    "        y_train=sampled.iloc[0:160*(i+1),2].values\n",
    "        X_cv=final_tfidf[160*(i+1):160*(i+2),:]\n",
    "        y_cv=sampled.iloc[160*(i+1):160*(i+2),2].values\n",
    "        #Here we splitted the data in Train and Cross Validation set\n",
    "        neigh = KNeighborsClassifier(n_neighbors=k,algorithm='kd_tree')\n",
    "        neigh.fit(X_train,y_train)\n",
    "        pred = neigh.predict(X_cv)\n",
    "        score = (score + accuracy_score(y_cv,pred,normalize=True)*float(100))\n",
    "    accuracy.append(score)\n",
    "print('k value for maximum accuracy is {} with accuracy {}'.format(np.argmax(np.array(accuracy))+1,max(accuracy)))"
   ]
  },
  {
   "cell_type": "code",
   "execution_count": 171,
   "metadata": {},
   "outputs": [
    {
     "name": "stdout",
     "output_type": "stream",
     "text": [
      "Accuracy Score for the 20% test datapoints is 57.49999999999999\n"
     ]
    }
   ],
   "source": [
    "neigh = KNeighborsClassifier(n_neighbors=61)\n",
    "neigh.fit(X1,y1)\n",
    "pred = neigh.predict(X_test)\n",
    "score = accuracy_score(pred,y_test,normalize=True)\n",
    "print('Accuracy Score for the 20% test datapoints is {}'.format(score*float(100)))"
   ]
  },
  {
   "cell_type": "code",
   "execution_count": 172,
   "metadata": {},
   "outputs": [
    {
     "name": "stderr",
     "output_type": "stream",
     "text": [
      "C:\\Users\\Dipayan\\Anaconda3\\lib\\site-packages\\sklearn\\neighbors\\base.py:212: UserWarning: cannot use tree with sparse input: using brute force\n",
      "  warnings.warn(\"cannot use tree with sparse input: \"\n"
     ]
    },
    {
     "name": "stdout",
     "output_type": "stream",
     "text": [
      "k value for maximum accuracy is 75 with accuracy 55.375\n"
     ]
    }
   ],
   "source": [
    "accuracy=[]\n",
    "for k in range(1,101):\n",
    "    score_total=0\n",
    "    for i in range(0,10):\n",
    "        \n",
    "        X_train=final_tfidf[0:160*(i+1),:]\n",
    "        y_train=sampled.iloc[0:160*(i+1),2].values\n",
    "        X_cv=final_tfidf[160*(i+1):160*(i+2),:]\n",
    "        y_cv=sampled.iloc[160*(i+1):160*(i+2),2].values\n",
    "        #Here we splitted the data in Train and Cross Validation set\n",
    "        neigh = KNeighborsClassifier(n_neighbors=k,algorithm='kd_tree')\n",
    "        neigh.fit(X_train,y_train)\n",
    "        pred = neigh.predict(X_cv)\n",
    "        score_total = (score_avg + accuracy_score(y_cv,pred,normalize=True)*float(100))\n",
    "    #print(float(score_total)/10)\n",
    "    accuracy.append(float(score_total)/10)\n",
    "print('k value for maximum accuracy is {} with accuracy {}'.format(np.argmax(np.array(accuracy))+1,max(accuracy)))"
   ]
  },
  {
   "cell_type": "code",
   "execution_count": 173,
   "metadata": {},
   "outputs": [
    {
     "name": "stdout",
     "output_type": "stream",
     "text": [
      "Accuracy Score for the 20% test datapoints is 55.75\n"
     ]
    },
    {
     "name": "stderr",
     "output_type": "stream",
     "text": [
      "C:\\Users\\Dipayan\\Anaconda3\\lib\\site-packages\\sklearn\\neighbors\\base.py:212: UserWarning: cannot use tree with sparse input: using brute force\n",
      "  warnings.warn(\"cannot use tree with sparse input: \"\n"
     ]
    }
   ],
   "source": [
    "neigh = KNeighborsClassifier(n_neighbors=75,algorithm='kd_tree')\n",
    "neigh.fit(X1,y1)\n",
    "pred = neigh.predict(X_test)\n",
    "score = accuracy_score(pred,y_test,normalize=True)\n",
    "print('Accuracy Score for the 20% test datapoints is {}'.format(score*float(100)))"
   ]
  },
  {
   "cell_type": "code",
   "execution_count": null,
   "metadata": {},
   "outputs": [],
   "source": []
  },
  {
   "cell_type": "code",
   "execution_count": null,
   "metadata": {},
   "outputs": [],
   "source": []
  },
  {
   "cell_type": "code",
   "execution_count": null,
   "metadata": {},
   "outputs": [],
   "source": []
  },
  {
   "cell_type": "markdown",
   "metadata": {},
   "source": [
    "### Word2Vec Approach"
   ]
  },
  {
   "cell_type": "code",
   "execution_count": 174,
   "metadata": {},
   "outputs": [],
   "source": [
    "import gensim\n"
   ]
  },
  {
   "cell_type": "code",
   "execution_count": 175,
   "metadata": {},
   "outputs": [],
   "source": [
    "list_of_sent = []\n",
    "for sent in sampled[0]:\n",
    "    filtered_sentance=[]\n",
    "    for w in sent.split():\n",
    "        filtered_sentance.append(w)\n",
    "    list_of_sent.append(filtered_sentance)"
   ]
  },
  {
   "cell_type": "code",
   "execution_count": 176,
   "metadata": {},
   "outputs": [
    {
     "data": {
      "text/plain": [
       "['make',\n",
       " 'delici',\n",
       " 'browni',\n",
       " 'easi',\n",
       " 'mix',\n",
       " 'bake',\n",
       " 'made',\n",
       " 'mini',\n",
       " 'browni',\n",
       " 'muffin',\n",
       " 'bake',\n",
       " 'minut',\n",
       " 'turn',\n",
       " 'perfect',\n",
       " 'soft',\n",
       " 'moist',\n",
       " 'chewey',\n",
       " 'chocolatey',\n",
       " 'realli',\n",
       " 'good']"
      ]
     },
     "execution_count": 176,
     "metadata": {},
     "output_type": "execute_result"
    }
   ],
   "source": [
    "list_of_sent[0]"
   ]
  },
  {
   "cell_type": "code",
   "execution_count": 177,
   "metadata": {},
   "outputs": [],
   "source": [
    "W2V=gensim.models.Word2Vec(list_of_sent,min_count=5,size=50,workers=4)"
   ]
  },
  {
   "cell_type": "markdown",
   "metadata": {},
   "source": [
    "#### Vectors corresponding to each word has been obtained"
   ]
  },
  {
   "cell_type": "code",
   "execution_count": 178,
   "metadata": {},
   "outputs": [],
   "source": [
    "sent_vectors = []\n",
    "for sent in list_of_sent:\n",
    "    sent_vec = np.zeros(50)\n",
    "    cnt_words = 0\n",
    "    for word in sent:\n",
    "        try:\n",
    "            vec = W2V.wv[word]\n",
    "            sent_vec += vec\n",
    "            cnt_words += 1\n",
    "        except:\n",
    "            pass\n",
    "    sent_vec /= cnt_words\n",
    "    sent_vectors.append(sent_vec)"
   ]
  },
  {
   "cell_type": "markdown",
   "metadata": {},
   "source": [
    "#### Sentence vectors by average Word2Vec has been obtained"
   ]
  },
  {
   "cell_type": "code",
   "execution_count": 179,
   "metadata": {},
   "outputs": [
    {
     "data": {
      "text/plain": [
       "2000"
      ]
     },
     "execution_count": 179,
     "metadata": {},
     "output_type": "execute_result"
    }
   ],
   "source": [
    "len(sent_vectors)"
   ]
  },
  {
   "cell_type": "code",
   "execution_count": 180,
   "metadata": {},
   "outputs": [],
   "source": [
    "X1=sent_vectors[0:1600][:]\n",
    "y1=sampled.iloc[0:1600,2].values\n",
    "X_test=sent_vectors[1600:2000][:]\n",
    "y_test=sampled.iloc[1600:2000,2].values"
   ]
  },
  {
   "cell_type": "code",
   "execution_count": 184,
   "metadata": {},
   "outputs": [
    {
     "name": "stdout",
     "output_type": "stream",
     "text": [
      "k value for maximum accuracy is 12 with accuracy 55.93749999999999\n"
     ]
    }
   ],
   "source": [
    "accuracy=[]\n",
    "for k in range(1,101):\n",
    "    X_train=sent_vectors[0:1280][:]\n",
    "    y_train=sampled.iloc[0:1280,2].values\n",
    "    X_cv=sent_vectors[1280:1600][:]\n",
    "    y_cv=sampled.iloc[1280:1600,2].values\n",
    "    neigh = KNeighborsClassifier(n_neighbors=k)\n",
    "    neigh.fit(X_train,y_train)\n",
    "    pred = neigh.predict(X_cv)\n",
    "    score = accuracy_score(y_cv,pred,normalize=True)*float(100)\n",
    "    \n",
    "    accuracy.append(score)\n",
    "print('k value for maximum accuracy is {} with accuracy {}'.format(np.argmax(np.array(accuracy))+1,max(accuracy)))"
   ]
  },
  {
   "cell_type": "code",
   "execution_count": 185,
   "metadata": {
    "scrolled": true
   },
   "outputs": [
    {
     "data": {
      "image/png": "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\n",
      "text/plain": [
       "<matplotlib.figure.Figure at 0x1ac4f1ae7b8>"
      ]
     },
     "metadata": {},
     "output_type": "display_data"
    }
   ],
   "source": [
    "plt.plot(np.arange(1,101),accuracy)\n",
    "plt.title('K Vs Accuracy')\n",
    "plt.xlabel('K values')\n",
    "plt.ylabel('Accuracy Values')\n",
    "plt.show()"
   ]
  },
  {
   "cell_type": "markdown",
   "metadata": {},
   "source": [
    "#### From 1 fold cross validation optimum k value obtained is 12 with accuracy 55.93"
   ]
  },
  {
   "cell_type": "code",
   "execution_count": 186,
   "metadata": {},
   "outputs": [
    {
     "name": "stdout",
     "output_type": "stream",
     "text": [
      "Accuracy Score for the 20% test datapoints is 55.75\n"
     ]
    }
   ],
   "source": [
    "neigh = KNeighborsClassifier(n_neighbors=12)\n",
    "neigh.fit(X1,y1)\n",
    "pred = neigh.predict(X_test)\n",
    "score = accuracy_score(pred,y_test,normalize=True)\n",
    "print('Accuracy Score for the 20% test datapoints is {}'.format(score*float(100)))"
   ]
  },
  {
   "cell_type": "markdown",
   "metadata": {},
   "source": [
    "#### Accuracy achieved is 55.75"
   ]
  },
  {
   "cell_type": "code",
   "execution_count": 187,
   "metadata": {},
   "outputs": [
    {
     "name": "stdout",
     "output_type": "stream",
     "text": [
      "k value for maximum accuracy is 43 with accuracy 55.375\n"
     ]
    }
   ],
   "source": [
    "accuracy=[]\n",
    "for k in range(1,101):\n",
    "    score_total=0\n",
    "    for i in range(0,10):\n",
    "        \n",
    "        X_train=sent_vectors[0:160*(i+1)][:]\n",
    "        y_train=sampled.iloc[0:160*(i+1),2].values\n",
    "        X_cv=sent_vectors[160*(i+1):160*(i+2)][:]\n",
    "        y_cv=sampled.iloc[160*(i+1):160*(i+2),2].values\n",
    "        neigh = KNeighborsClassifier(n_neighbors=k)\n",
    "        neigh.fit(X_train,y_train)\n",
    "        pred = neigh.predict(X_cv)\n",
    "        score_total = (score_avg + accuracy_score(y_cv,pred,normalize=True)*float(100))\n",
    "    \n",
    "    accuracy.append(float(score_total)/10)\n",
    "print('k value for maximum accuracy is {} with accuracy {}'.format(np.argmax(np.array(accuracy))+1,max(accuracy)))\n",
    "    "
   ]
  },
  {
   "cell_type": "code",
   "execution_count": 188,
   "metadata": {},
   "outputs": [
    {
     "data": {
      "image/png": "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\n",
      "text/plain": [
       "<matplotlib.figure.Figure at 0x1ac4c07e5c0>"
      ]
     },
     "metadata": {},
     "output_type": "display_data"
    }
   ],
   "source": [
    "plt.plot(np.arange(1,101),accuracy)\n",
    "plt.title('K Vs Accuracy')\n",
    "plt.xlabel('K values')\n",
    "plt.ylabel('Accuracy Values')\n",
    "plt.show()"
   ]
  },
  {
   "cell_type": "markdown",
   "metadata": {},
   "source": [
    "#### From 10 fold cross validation optimum k value achieved is 43 with accuracy 55.375"
   ]
  },
  {
   "cell_type": "code",
   "execution_count": 189,
   "metadata": {
    "scrolled": true
   },
   "outputs": [
    {
     "name": "stdout",
     "output_type": "stream",
     "text": [
      "Accuracy Score for the 20% test datapoints is 48.25\n"
     ]
    }
   ],
   "source": [
    "neigh = KNeighborsClassifier(n_neighbors=43)\n",
    "neigh.fit(X1,y1)\n",
    "pred = neigh.predict(X_test)\n",
    "score = accuracy_score(pred,y_test,normalize=True)\n",
    "print('Accuracy Score for the 20% test datapoints is {}'.format(score*float(100)))"
   ]
  },
  {
   "cell_type": "code",
   "execution_count": null,
   "metadata": {},
   "outputs": [],
   "source": []
  },
  {
   "cell_type": "code",
   "execution_count": null,
   "metadata": {},
   "outputs": [],
   "source": []
  },
  {
   "cell_type": "markdown",
   "metadata": {},
   "source": [
    "#### Tf-idf wighted W2V"
   ]
  },
  {
   "cell_type": "code",
   "execution_count": 190,
   "metadata": {},
   "outputs": [],
   "source": [
    "tfidf_vect = TfidfVectorizer()\n",
    "final_tfidf = tfidf_vect.fit_transform(sampled[0])"
   ]
  },
  {
   "cell_type": "code",
   "execution_count": 191,
   "metadata": {},
   "outputs": [],
   "source": [
    "tfidf_feat=tfidf_vect.get_feature_names()"
   ]
  },
  {
   "cell_type": "code",
   "execution_count": 192,
   "metadata": {},
   "outputs": [],
   "source": [
    "tfidf_sent_vectors = []\n",
    "\n",
    "i=0\n",
    "for sent in list_of_sent: # for each review/sentence\n",
    "    sent_vec = np.zeros(50) # as word vectors are of zero length\n",
    "    weight_sum =0; # num of words with a valid vector in the sentence/review\n",
    "    for word in sent: # for each word in a review/sentence\n",
    "        try:\n",
    "            vec = W2V.wv[word]\n",
    "            # obtain the tf_idfidf of a word in a sentence/review\n",
    "            tf_idf = final_tfidf[i, tfidf_feat.index(word)]\n",
    "            sent_vec += (vec * tf_idf)\n",
    "            weight_sum += tf_idf\n",
    "        except:\n",
    "            pass\n",
    "    sent_vec /= weight_sum\n",
    "    tfidf_sent_vectors.append(sent_vec)\n",
    "    i += 1"
   ]
  },
  {
   "cell_type": "markdown",
   "metadata": {},
   "source": [
    "#### Tfidf weighted sentence vectors have been obtained"
   ]
  },
  {
   "cell_type": "code",
   "execution_count": 193,
   "metadata": {},
   "outputs": [],
   "source": [
    "X1=tfidf_sent_vectors[0:1600][:]\n",
    "y1=sampled.iloc[0:1600,2].values\n",
    "X_test=tfidf_sent_vectors[1600:2000][:]\n",
    "y_test=sampled.iloc[1600:2000,2].values"
   ]
  },
  {
   "cell_type": "code",
   "execution_count": 194,
   "metadata": {},
   "outputs": [
    {
     "name": "stdout",
     "output_type": "stream",
     "text": [
      "k value for maximum accuracy is 28 with accuracy 54.875\n"
     ]
    }
   ],
   "source": [
    "accuracy=[]\n",
    "for k in range(1,101):\n",
    "    score_total=0\n",
    "    for i in range(0,10):\n",
    "        \n",
    "        X_train=tfidf_sent_vectors[0:160*(i+1)][:]\n",
    "        y_train=sampled.iloc[0:160*(i+1),2].values\n",
    "        X_cv=tfidf_sent_vectors[160*(i+1):160*(i+2)][:]\n",
    "        y_cv=sampled.iloc[160*(i+1):160*(i+2),2].values\n",
    "        neigh = KNeighborsClassifier(n_neighbors=k)\n",
    "        neigh.fit(X_train,y_train)\n",
    "        pred = neigh.predict(X_cv)\n",
    "        score_total = (score_avg + accuracy_score(y_cv,pred,normalize=True)*float(100))\n",
    "    \n",
    "    accuracy.append(float(score_total)/10)\n",
    "print('k value for maximum accuracy is {} with accuracy {}'.format(np.argmax(np.array(accuracy))+1,max(accuracy)))\n",
    "    "
   ]
  },
  {
   "cell_type": "code",
   "execution_count": 195,
   "metadata": {},
   "outputs": [
    {
     "data": {
      "image/png": "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\n",
      "text/plain": [
       "<matplotlib.figure.Figure at 0x1ac6b002ac8>"
      ]
     },
     "metadata": {},
     "output_type": "display_data"
    }
   ],
   "source": [
    "plt.plot(np.arange(1,101),accuracy)\n",
    "plt.title('K Vs Accuracy')\n",
    "plt.xlabel('K values')\n",
    "plt.ylabel('Accuracy Values')\n",
    "plt.show()"
   ]
  },
  {
   "cell_type": "markdown",
   "metadata": {},
   "source": [
    "#### From 1 fold cross validation obtained k value is 28"
   ]
  },
  {
   "cell_type": "code",
   "execution_count": 196,
   "metadata": {},
   "outputs": [
    {
     "name": "stdout",
     "output_type": "stream",
     "text": [
      "Accuracy Score for the 20% test datapoints is 47.75\n"
     ]
    }
   ],
   "source": [
    "neigh = KNeighborsClassifier(n_neighbors=28)\n",
    "neigh.fit(X1,y1)\n",
    "pred = neigh.predict(X_test)\n",
    "score = accuracy_score(pred,y_test,normalize=True)\n",
    "print('Accuracy Score for the 20% test datapoints is {}'.format(score*float(100)))"
   ]
  },
  {
   "cell_type": "code",
   "execution_count": 198,
   "metadata": {},
   "outputs": [
    {
     "name": "stdout",
     "output_type": "stream",
     "text": [
      "k value for maximum accuracy is 28 with accuracy 54.875\n"
     ]
    }
   ],
   "source": [
    "accuracy=[]\n",
    "for k in range(1,101):\n",
    "    score_total=0\n",
    "    for i in range(0,10):\n",
    "        \n",
    "        X_train=tfidf_sent_vectors[0:160*(i+1)][:]\n",
    "        y_train=sampled.iloc[0:160*(i+1),2].values\n",
    "        X_cv=tfidf_sent_vectors[160*(i+1):160*(i+2)][:]\n",
    "        y_cv=sampled.iloc[160*(i+1):160*(i+2),2].values\n",
    "        neigh = KNeighborsClassifier(n_neighbors=k,algorithm='kd_tree')\n",
    "        neigh.fit(X_train,y_train)\n",
    "        pred = neigh.predict(X_cv)\n",
    "        score_total = (score_avg + accuracy_score(y_cv,pred,normalize=True)*float(100))\n",
    "    \n",
    "    accuracy.append(float(score_total)/10)\n",
    "print('k value for maximum accuracy is {} with accuracy {}'.format(np.argmax(np.array(accuracy))+1,max(accuracy)))\n",
    "    "
   ]
  },
  {
   "cell_type": "code",
   "execution_count": 199,
   "metadata": {},
   "outputs": [
    {
     "data": {
      "image/png": "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\n",
      "text/plain": [
       "<matplotlib.figure.Figure at 0x1ac6e582f28>"
      ]
     },
     "metadata": {},
     "output_type": "display_data"
    }
   ],
   "source": [
    "plt.plot(np.arange(1,101),accuracy)\n",
    "plt.title('K Vs Accuracy')\n",
    "plt.xlabel('K values')\n",
    "plt.ylabel('Accuracy Values')\n",
    "plt.show()"
   ]
  },
  {
   "cell_type": "markdown",
   "metadata": {},
   "source": [
    "#### From 10 fold Cross Validation we got optimum k value as 28"
   ]
  },
  {
   "cell_type": "code",
   "execution_count": 200,
   "metadata": {},
   "outputs": [
    {
     "name": "stdout",
     "output_type": "stream",
     "text": [
      "Accuracy Score for the 20% test datapoints is 47.75\n"
     ]
    }
   ],
   "source": [
    "neigh = KNeighborsClassifier(n_neighbors=28,algorithm='kd_tree')\n",
    "neigh.fit(X1,y1)\n",
    "pred = neigh.predict(X_test)\n",
    "score = accuracy_score(pred,y_test,normalize=True)\n",
    "print('Accuracy Score for the 20% test datapoints is {}'.format(score*float(100)))"
   ]
  },
  {
   "cell_type": "code",
   "execution_count": null,
   "metadata": {},
   "outputs": [],
   "source": []
  },
  {
   "cell_type": "code",
   "execution_count": null,
   "metadata": {},
   "outputs": [],
   "source": []
  }
 ],
 "metadata": {
  "kernelspec": {
   "display_name": "Python 3",
   "language": "python",
   "name": "python3"
  },
  "language_info": {
   "codemirror_mode": {
    "name": "ipython",
    "version": 3
   },
   "file_extension": ".py",
   "mimetype": "text/x-python",
   "name": "python",
   "nbconvert_exporter": "python",
   "pygments_lexer": "ipython3",
   "version": "3.6.4"
  }
 },
 "nbformat": 4,
 "nbformat_minor": 2
}
