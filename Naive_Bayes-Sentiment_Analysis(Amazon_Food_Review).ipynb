{
 "cells": [
  {
   "cell_type": "markdown",
   "metadata": {},
   "source": [
    "### Working Dataset is Amazon Food Review Dataset. \n",
    "####     Features are username, product id, review text, score etc.\n"
   ]
  },
  {
   "cell_type": "markdown",
   "metadata": {},
   "source": [
    "### Objective of this excercise\n",
    "- Applying Naive Bayes on Text feature of the dataset and be able to differentiate the review text into positive or negative class\n",
    "- Obtaining smoothing factor alpha by cross validation\n",
    "- Getting the feature importance(here the significant words for each class)\n",
    "- Getting different performance measure metric"
   ]
  },
  {
   "cell_type": "code",
   "execution_count": null,
   "metadata": {},
   "outputs": [],
   "source": []
  },
  {
   "cell_type": "markdown",
   "metadata": {},
   "source": [
    "#### Loading the libraries"
   ]
  },
  {
   "cell_type": "code",
   "execution_count": 1,
   "metadata": {},
   "outputs": [],
   "source": [
    "import pandas as pd\n",
    "import numpy as np\n",
    "import matplotlib.pyplot as plt\n",
    "import seaborn as sns\n",
    "import sqlite3\n",
    "import sklearn"
   ]
  },
  {
   "cell_type": "code",
   "execution_count": null,
   "metadata": {},
   "outputs": [],
   "source": []
  },
  {
   "cell_type": "markdown",
   "metadata": {},
   "source": [
    "#### 1. Loading Data"
   ]
  },
  {
   "cell_type": "code",
   "execution_count": 2,
   "metadata": {},
   "outputs": [],
   "source": [
    "con = sqlite3.connect('database.sqlite')\n",
    "\n",
    "filtered_data = pd.read_sql_query(\"\"\"\n",
    "SELECT * \n",
    "FROM Reviews\n",
    "WHERE Score!=3\"\"\",con)\n",
    "\n",
    "#### Entries having score 3 are discarded being considered as neutral reviews\n"
   ]
  },
  {
   "cell_type": "code",
   "execution_count": 3,
   "metadata": {},
   "outputs": [],
   "source": [
    "actual_score = filtered_data['Score']"
   ]
  },
  {
   "cell_type": "code",
   "execution_count": 4,
   "metadata": {},
   "outputs": [],
   "source": [
    "def partition(x):\n",
    "    if x < 3:\n",
    "        return 'negative'\n",
    "    return 'positive'"
   ]
  },
  {
   "cell_type": "code",
   "execution_count": 5,
   "metadata": {},
   "outputs": [],
   "source": [
    "filtered_data['Score']=filtered_data['Score'].map(partition)"
   ]
  },
  {
   "cell_type": "markdown",
   "metadata": {},
   "source": [
    "#### 2. Sorting data based on time"
   ]
  },
  {
   "cell_type": "code",
   "execution_count": 6,
   "metadata": {},
   "outputs": [],
   "source": [
    "sorted_data = filtered_data.sort_values(\"Time\",axis=0,ascending=True)"
   ]
  },
  {
   "cell_type": "code",
   "execution_count": 7,
   "metadata": {},
   "outputs": [],
   "source": [
    "final = filtered_data.drop_duplicates(subset={'UserId','Time','ProfileName','Text'},keep='first',inplace=False)\n",
    "\n",
    "#### Duplicate datas have been discarded\n"
   ]
  },
  {
   "cell_type": "code",
   "execution_count": 8,
   "metadata": {},
   "outputs": [],
   "source": [
    "final = final[final.HelpfulnessNumerator<=final.HelpfulnessDenominator]"
   ]
  },
  {
   "cell_type": "code",
   "execution_count": null,
   "metadata": {},
   "outputs": [],
   "source": []
  },
  {
   "cell_type": "markdown",
   "metadata": {},
   "source": [
    "#### 3. Data Cleaning and Preprocessing"
   ]
  },
  {
   "cell_type": "code",
   "execution_count": 9,
   "metadata": {},
   "outputs": [],
   "source": [
    "from sklearn.feature_extraction.text import CountVectorizer\n",
    "from sklearn.feature_extraction.text import TfidfVectorizer\n",
    "import nltk"
   ]
  },
  {
   "cell_type": "code",
   "execution_count": 10,
   "metadata": {},
   "outputs": [],
   "source": [
    "from nltk.corpus import stopwords\n",
    "stop = set(stopwords.words('english'))"
   ]
  },
  {
   "cell_type": "code",
   "execution_count": 11,
   "metadata": {},
   "outputs": [],
   "source": [
    "stop.remove('not')"
   ]
  },
  {
   "cell_type": "code",
   "execution_count": 12,
   "metadata": {},
   "outputs": [],
   "source": [
    "snb = nltk.stem.SnowballStemmer('english')"
   ]
  },
  {
   "cell_type": "code",
   "execution_count": 13,
   "metadata": {},
   "outputs": [],
   "source": [
    "import re\n"
   ]
  },
  {
   "cell_type": "code",
   "execution_count": 14,
   "metadata": {},
   "outputs": [],
   "source": [
    "def cleanhtml(sentence):\n",
    "    cleanr = re.compile('<.*?>')\n",
    "    cleantxt = re.sub(cleanr,' ',sentence)\n",
    "    return cleantxt\n",
    "def cleanpunc(sentence):\n",
    "    cleaned = re.sub(r'[?|!|\\|\\'|\"|#]',r' ',sentence)\n",
    "    cleaned = re.sub(r'[.|,|)|(|\\|/]',r' ',cleaned)\n",
    "    return cleaned                 \n"
   ]
  },
  {
   "cell_type": "code",
   "execution_count": 15,
   "metadata": {},
   "outputs": [],
   "source": [
    "i=0\n",
    "str1=''\n",
    "final_string = []\n",
    "all_positive_words = []\n",
    "all_negative_words = []\n",
    "s = ''\n",
    "for sent in final['Text'].values:\n",
    "    filtered_sentence = []\n",
    "    sent = cleanhtml(sent)\n",
    "    for w in sent.split(\" \"):\n",
    "        for cleaned_words in cleanpunc(w).split():\n",
    "            if((cleaned_words.isalpha())&(len(cleaned_words)>2)):\n",
    "                if(cleaned_words.lower() not in stop):\n",
    "                    s=cleaned_words.lower()\n",
    "                    filtered_sentence.append(s)\n",
    "                    if (final['Score'].values)[i]=='positive':\n",
    "                        all_positive_words.append(s)\n",
    "                    if (final['Score'].values)[i]=='negative':\n",
    "                        all_negative_words.append(s)\n",
    "                else:\n",
    "                    continue\n",
    "        else:\n",
    "            continue\n",
    "    str1 = \" \".join(filtered_sentence)\n",
    "    final_string.append(str1)\n",
    "    i+=1"
   ]
  },
  {
   "cell_type": "markdown",
   "metadata": {},
   "source": [
    "#### In above code snippet data cleansing has been done. Following things are included in that\n",
    "- Stop Words removal, html tags removal, punctuation marks removal\n",
    "- Converting everything to lowercase\n",
    "- Lemmatization"
   ]
  },
  {
   "cell_type": "code",
   "execution_count": 16,
   "metadata": {},
   "outputs": [],
   "source": [
    "final_df = pd.DataFrame(final_string)\n",
    "\n",
    "final_df['Time']=final['Time']\n",
    "\n",
    "final_df['Score']=final['Score']"
   ]
  },
  {
   "cell_type": "code",
   "execution_count": 17,
   "metadata": {},
   "outputs": [],
   "source": [
    "final_df.dropna(axis=0,inplace=True)"
   ]
  },
  {
   "cell_type": "code",
   "execution_count": 18,
   "metadata": {},
   "outputs": [],
   "source": [
    "final_df['Score']=final_df['Score'].map({'positive':1,'negative':-1})"
   ]
  },
  {
   "cell_type": "code",
   "execution_count": 19,
   "metadata": {},
   "outputs": [
    {
     "data": {
      "text/plain": [
       "(265265, 3)"
      ]
     },
     "execution_count": 19,
     "metadata": {},
     "output_type": "execute_result"
    }
   ],
   "source": [
    "final_df.shape"
   ]
  },
  {
   "cell_type": "code",
   "execution_count": null,
   "metadata": {},
   "outputs": [],
   "source": []
  },
  {
   "cell_type": "code",
   "execution_count": 20,
   "metadata": {},
   "outputs": [
    {
     "data": {
      "text/html": [
       "<div>\n",
       "<style scoped>\n",
       "    .dataframe tbody tr th:only-of-type {\n",
       "        vertical-align: middle;\n",
       "    }\n",
       "\n",
       "    .dataframe tbody tr th {\n",
       "        vertical-align: top;\n",
       "    }\n",
       "\n",
       "    .dataframe thead th {\n",
       "        text-align: right;\n",
       "    }\n",
       "</style>\n",
       "<table border=\"1\" class=\"dataframe\">\n",
       "  <thead>\n",
       "    <tr style=\"text-align: right;\">\n",
       "      <th></th>\n",
       "      <th>0</th>\n",
       "      <th>Time</th>\n",
       "      <th>Score</th>\n",
       "    </tr>\n",
       "  </thead>\n",
       "  <tbody>\n",
       "    <tr>\n",
       "      <th>0</th>\n",
       "      <td>bought several vitality canned dog food produc...</td>\n",
       "      <td>1.303862e+09</td>\n",
       "      <td>1</td>\n",
       "    </tr>\n",
       "    <tr>\n",
       "      <th>1</th>\n",
       "      <td>product arrived labeled jumbo salted peanuts p...</td>\n",
       "      <td>1.346976e+09</td>\n",
       "      <td>-1</td>\n",
       "    </tr>\n",
       "    <tr>\n",
       "      <th>2</th>\n",
       "      <td>confection around centuries light pillowy citr...</td>\n",
       "      <td>1.219018e+09</td>\n",
       "      <td>1</td>\n",
       "    </tr>\n",
       "    <tr>\n",
       "      <th>3</th>\n",
       "      <td>looking secret ingredient robitussin believe f...</td>\n",
       "      <td>1.307923e+09</td>\n",
       "      <td>-1</td>\n",
       "    </tr>\n",
       "    <tr>\n",
       "      <th>4</th>\n",
       "      <td>great taffy great price wide assortment yummy ...</td>\n",
       "      <td>1.350778e+09</td>\n",
       "      <td>1</td>\n",
       "    </tr>\n",
       "  </tbody>\n",
       "</table>\n",
       "</div>"
      ],
      "text/plain": [
       "                                                   0          Time  Score\n",
       "0  bought several vitality canned dog food produc...  1.303862e+09      1\n",
       "1  product arrived labeled jumbo salted peanuts p...  1.346976e+09     -1\n",
       "2  confection around centuries light pillowy citr...  1.219018e+09      1\n",
       "3  looking secret ingredient robitussin believe f...  1.307923e+09     -1\n",
       "4  great taffy great price wide assortment yummy ...  1.350778e+09      1"
      ]
     },
     "execution_count": 20,
     "metadata": {},
     "output_type": "execute_result"
    }
   ],
   "source": [
    "final_df.head(5)"
   ]
  },
  {
   "cell_type": "code",
   "execution_count": null,
   "metadata": {},
   "outputs": [],
   "source": []
  },
  {
   "cell_type": "code",
   "execution_count": 21,
   "metadata": {},
   "outputs": [],
   "source": [
    "X=final_df[0].values"
   ]
  },
  {
   "cell_type": "code",
   "execution_count": 22,
   "metadata": {},
   "outputs": [],
   "source": [
    "y=final_df[\"Score\"].values"
   ]
  },
  {
   "cell_type": "code",
   "execution_count": null,
   "metadata": {},
   "outputs": [],
   "source": []
  },
  {
   "cell_type": "markdown",
   "metadata": {},
   "source": [
    "#### 4. Splitting dataset into train test set based on time "
   ]
  },
  {
   "cell_type": "code",
   "execution_count": 23,
   "metadata": {},
   "outputs": [],
   "source": [
    "X_1=X[0:212212]\n",
    "y_1=y[0:212212]\n",
    "X_test=X[212212:265265]\n",
    "y_test=y[212212:265265]"
   ]
  },
  {
   "cell_type": "markdown",
   "metadata": {},
   "source": []
  },
  {
   "cell_type": "markdown",
   "metadata": {},
   "source": [
    "#### 5.1 Building Count Vectorizer with training data"
   ]
  },
  {
   "cell_type": "code",
   "execution_count": 24,
   "metadata": {},
   "outputs": [],
   "source": [
    "count_vect = CountVectorizer()\n",
    "final_counts_X1 = count_vect.fit_transform(X_1)"
   ]
  },
  {
   "cell_type": "markdown",
   "metadata": {},
   "source": [
    "Obtained the Bag of Words "
   ]
  },
  {
   "cell_type": "code",
   "execution_count": null,
   "metadata": {},
   "outputs": [],
   "source": []
  },
  {
   "cell_type": "code",
   "execution_count": null,
   "metadata": {},
   "outputs": [],
   "source": []
  },
  {
   "cell_type": "code",
   "execution_count": 27,
   "metadata": {},
   "outputs": [],
   "source": [
    "from sklearn.metrics import accuracy_score\n",
    "from sklearn.naive_bayes import BernoulliNB\n"
   ]
  },
  {
   "cell_type": "markdown",
   "metadata": {},
   "source": [
    "#### 5.2 Applying BernouliNB on that training data for cross validation"
   ]
  },
  {
   "cell_type": "code",
   "execution_count": 34,
   "metadata": {},
   "outputs": [
    {
     "name": "stdout",
     "output_type": "stream",
     "text": [
      "alpha value for maximum accuracy is 1e-05 with accuracy 79.10609523360743\n"
     ]
    }
   ],
   "source": [
    "accuracy=[]\n",
    "dict1 = {}\n",
    "for a in np.arange(pow(10,-5),pow(10,-2),0.00001):\n",
    "    X_train=final_counts_X1[0:169769,:]\n",
    "    y_train=y_1[0:169769]\n",
    "    X_cv=final_counts_X1[169769:212212,:]\n",
    "    y_cv=y_1[169769:212212]\n",
    "    neigh = BernoulliNB(alpha=a)\n",
    "    neigh.fit(X_train,y_train)\n",
    "    pred = neigh.predict(X_cv)\n",
    "    score = accuracy_score(y_cv,pred,normalize=True)*float(100)\n",
    "    #print('Accuracy Score for alpha={} is {}'.format(a,score))\n",
    "    accuracy.append(score)\n",
    "    dict1[score]=a\n",
    "print('alpha value for maximum accuracy is {} with accuracy {}'.format(dict1[max(accuracy)],max(accuracy)))"
   ]
  },
  {
   "cell_type": "code",
   "execution_count": 35,
   "metadata": {},
   "outputs": [
    {
     "data": {
      "image/png": "[encoded data removed]",
      "text/plain": [
       "<matplotlib.figure.Figure at 0x2bf720f1a20>"
      ]
     },
     "metadata": {},
     "output_type": "display_data"
    }
   ],
   "source": [
    "plt.plot(np.arange(pow(10,-5),pow(10,-2),0.00001),accuracy)\n",
    "plt.title('alpha Vs Accuracy')\n",
    "plt.xlabel('alpha values')\n",
    "plt.ylabel('Accuracy Values')\n",
    "plt.show()"
   ]
  },
  {
   "cell_type": "markdown",
   "metadata": {},
   "source": [
    " The optimal alpha obtained by single fold cross validation is 1e-05"
   ]
  },
  {
   "cell_type": "code",
   "execution_count": null,
   "metadata": {},
   "outputs": [],
   "source": []
  },
  {
   "cell_type": "code",
   "execution_count": null,
   "metadata": {},
   "outputs": [],
   "source": []
  },
  {
   "cell_type": "code",
   "execution_count": 52,
   "metadata": {},
   "outputs": [
    {
     "name": "stdout",
     "output_type": "stream",
     "text": [
      "alpha value for maximum accuracy is 1e-05 with accuracy 74.99811507469016\n"
     ]
    }
   ],
   "source": [
    "accuracy=[]\n",
    "dict1 = {}\n",
    "for a in np.arange(pow(10,-5),pow(10,-3),0.00001):\n",
    "    score_total=0.0\n",
    "    for i in range(0,10):\n",
    "        \n",
    "        X_train=final_counts[0:21221*(i+1),:]\n",
    "        y_train=y_1[0:21221*(i+1)]\n",
    "        X_cv=final_counts[21221*(i+1):21221*(i+2),:]\n",
    "        y_cv=y_1[21221*(i+1):21221*(i+2)]\n",
    "        #Here we splitted the data in Train and Cross Validation set\n",
    "        neigh = BernoulliNB(alpha=a)\n",
    "        neigh.fit(X_train,y_train)\n",
    "        pred = neigh.predict(X_cv)\n",
    "        score = sklearn.metrics.accuracy_score(y_cv,pred,normalize=True)*float(100)\n",
    "        score_total=score+score_total\n",
    "    accuracy.append(score_total/float(10))\n",
    "    score_avg=score_total/float(10)\n",
    "    dict1[score_avg]=a\n",
    "print('alpha value for maximum accuracy is {} with accuracy {}'.format(dict1[max(accuracy)],max(accuracy)))"
   ]
  },
  {
   "cell_type": "code",
   "execution_count": 53,
   "metadata": {},
   "outputs": [
    {
     "data": {
      "image/png": "[encoded data removed]",
      "text/plain": [
       "<matplotlib.figure.Figure at 0x1ec1e556390>"
      ]
     },
     "metadata": {},
     "output_type": "display_data"
    }
   ],
   "source": [
    "plt.plot(np.arange(pow(10,-5),pow(10,-3),0.00001),accuracy)\n",
    "plt.title('alpha Vs Accuracy')\n",
    "plt.xlabel('alpha values')\n",
    "plt.ylabel('Accuracy Values')\n",
    "plt.show()"
   ]
  },
  {
   "cell_type": "markdown",
   "metadata": {},
   "source": [
    " Optimum alpha with 10 fold cross validation is also 1e-05 "
   ]
  },
  {
   "cell_type": "code",
   "execution_count": null,
   "metadata": {},
   "outputs": [],
   "source": []
  },
  {
   "cell_type": "markdown",
   "metadata": {},
   "source": [
    "#### 5.3 Deriving Vectors for Test data"
   ]
  },
  {
   "cell_type": "code",
   "execution_count": 25,
   "metadata": {},
   "outputs": [],
   "source": [
    "final_counts_Xtest = count_vect.transform(X_test)"
   ]
  },
  {
   "cell_type": "code",
   "execution_count": null,
   "metadata": {},
   "outputs": [],
   "source": []
  },
  {
   "cell_type": "markdown",
   "metadata": {},
   "source": [
    "#### 5.4 Applying BernoulliNB with optimal 'alpha' value obtained from cross validation on train data to get the model"
   ]
  },
  {
   "cell_type": "code",
   "execution_count": 36,
   "metadata": {},
   "outputs": [
    {
     "data": {
      "text/plain": [
       "BernoulliNB(alpha=1e-05, binarize=0.0, class_prior=None, fit_prior=True)"
      ]
     },
     "execution_count": 36,
     "metadata": {},
     "output_type": "execute_result"
    }
   ],
   "source": [
    "neigh_optimal = BernoulliNB(alpha= 1e-05)\n",
    "neigh_optimal.fit(final_counts_X1,y_1)\n"
   ]
  },
  {
   "cell_type": "code",
   "execution_count": null,
   "metadata": {},
   "outputs": [],
   "source": []
  },
  {
   "cell_type": "markdown",
   "metadata": {},
   "source": [
    "#### 5.5 Getting importnt features for both positive and negative class"
   ]
  },
  {
   "cell_type": "code",
   "execution_count": 37,
   "metadata": {},
   "outputs": [
    {
     "name": "stdout",
     "output_type": "stream",
     "text": [
      "Imfortant features for negative class:  ['not' 'like' 'good' 'great' 'one' 'taste' 'product' 'love' 'flavor'\n",
      " 'would' 'get' 'really' 'much' 'amazon' 'time' 'also' 'use' 'best' 'buy'\n",
      " 'little' 'find' 'tried' 'even' 'make' 'price' 'coffee' 'well' 'try'\n",
      " 'better' 'food' 'eat' 'first' 'used' 'found' 'tea' 'bought' 'made' 'way'\n",
      " 'recommend' 'tastes' 'delicious' 'sweet' 'store' 'think' 'could' 'since'\n",
      " 'two' 'sugar' 'day' 'order' 'bag' 'still' 'water' 'give' 'many'\n",
      " 'favorite' 'never' 'nice' 'bit' 'know' 'drink' 'got' 'years' 'makes'\n",
      " 'box' 'every' 'want' 'chocolate' 'without' 'add' 'right' 'always' 'ever'\n",
      " 'lot' 'easy' 'perfect' 'stuff' 'something' 'mix' 'brand' 'different'\n",
      " 'loves' 'cup' 'say' 'enough' 'less' 'free' 'ordered' 'keep' 'need' 'put'\n",
      " 'back' 'dog' 'fresh' 'hot' 'flavors' 'quality' 'healthy' 'using' 'sure']\n"
     ]
    }
   ],
   "source": [
    "\n",
    "neg_class_prob_sorted = np.flip(neigh_optimal.feature_log_prob_[0,:].argsort(),axis=0)\n",
    "pos_class_prob_sorted = np.flip(neigh_optimal.feature_log_prob_[1, :].argsort(),axis=0)\n",
    "print('Imfortant features for negative class: ',np.take(count_vect.get_feature_names(), neg_class_prob_sorted[:100]))"
   ]
  },
  {
   "cell_type": "code",
   "execution_count": 38,
   "metadata": {
    "scrolled": true
   },
   "outputs": [
    {
     "name": "stdout",
     "output_type": "stream",
     "text": [
      "Important features for positive class:  ['not' 'like' 'good' 'great' 'one' 'taste' 'product' 'love' 'flavor'\n",
      " 'would' 'get' 'really' 'much' 'amazon' 'also' 'time' 'use' 'best' 'buy'\n",
      " 'little' 'find' 'tried' 'price' 'make' 'even' 'coffee' 'well' 'better'\n",
      " 'try' 'food' 'first' 'eat' 'found' 'used' 'tea' 'bought' 'made' 'way'\n",
      " 'recommend' 'delicious' 'store' 'tastes' 'since' 'sweet' 'think' 'two'\n",
      " 'could' 'sugar' 'order' 'bag' 'still' 'day' 'water' 'nice' 'know' 'many'\n",
      " 'favorite' 'never' 'got' 'give' 'bit' 'box' 'drink' 'makes' 'want'\n",
      " 'without' 'years' 'every' 'chocolate' 'always' 'right' 'something' 'ever'\n",
      " 'add' 'stuff' 'cup' 'free' 'lot' 'mix' 'perfect' 'say' 'easy' 'loves'\n",
      " 'back' 'brand' 'enough' 'fresh' 'ordered' 'keep' 'less' 'quality' 'dog'\n",
      " 'different' 'using' 'put' 'small' 'flavors' 'need' 'healthy' 'sure']\n"
     ]
    }
   ],
   "source": [
    "print('Important features for positive class: ',np.take(count_vect.get_feature_names(), pos_class_prob_sorted[:100]))"
   ]
  },
  {
   "cell_type": "markdown",
   "metadata": {},
   "source": [
    " Above we got most common words corresponding to each class\n",
    " But one thing to notice, a lot of words are common between these two classes. This means the text dataset has overlapping data"
   ]
  },
  {
   "cell_type": "code",
   "execution_count": null,
   "metadata": {},
   "outputs": [],
   "source": []
  },
  {
   "cell_type": "markdown",
   "metadata": {},
   "source": [
    "#### 5.6 Applying obtained model on test dataset to get accuracy metrices"
   ]
  },
  {
   "cell_type": "code",
   "execution_count": 39,
   "metadata": {},
   "outputs": [],
   "source": [
    "pred = neigh_optimal.predict(final_counts_Xtest)"
   ]
  },
  {
   "cell_type": "code",
   "execution_count": 40,
   "metadata": {},
   "outputs": [
    {
     "name": "stdout",
     "output_type": "stream",
     "text": [
      "The accuracy score of Naive Bayes on 20% test data is  81.90488756526493\n"
     ]
    }
   ],
   "source": [
    "accuracy_score = sklearn.metrics.accuracy_score(y_test,pred)\n",
    "print('The accuracy score of Naive Bayes on 20% test data is ',accuracy_score*float(100))"
   ]
  },
  {
   "cell_type": "markdown",
   "metadata": {},
   "source": [
    "#### Accuracy score is 81.904%"
   ]
  },
  {
   "cell_type": "code",
   "execution_count": 41,
   "metadata": {},
   "outputs": [
    {
     "data": {
      "text/plain": [
       "array([[  289,  8030],\n",
       "       [ 1570, 43164]], dtype=int64)"
      ]
     },
     "execution_count": 41,
     "metadata": {},
     "output_type": "execute_result"
    }
   ],
   "source": [
    "con_matrix = sklearn.metrics.confusion_matrix(y_test,pred,labels=[-1,1])\n",
    "con_matrix"
   ]
  },
  {
   "cell_type": "code",
   "execution_count": 42,
   "metadata": {},
   "outputs": [],
   "source": [
    "from seaborn import heatmap"
   ]
  },
  {
   "cell_type": "code",
   "execution_count": 43,
   "metadata": {},
   "outputs": [
    {
     "data": {
      "text/plain": [
       "[]"
      ]
     },
     "execution_count": 43,
     "metadata": {},
     "output_type": "execute_result"
    },
    {
     "data": {
      "image/png": "[encoded data removed]",
      "text/plain": [
       "<matplotlib.figure.Figure at 0x2bf013302b0>"
      ]
     },
     "metadata": {},
     "output_type": "display_data"
    }
   ],
   "source": [
    "df_cm = pd.DataFrame(con_matrix.T, index = ['negative','positive'],\n",
    "                  columns = ['negative','positive'])\n",
    "heatmap(df_cm,annot=True)\n",
    "plt.plot()"
   ]
  },
  {
   "cell_type": "markdown",
   "metadata": {},
   "source": [
    "#### Above is the confusion matrix"
   ]
  },
  {
   "cell_type": "code",
   "execution_count": null,
   "metadata": {},
   "outputs": [],
   "source": []
  },
  {
   "cell_type": "code",
   "execution_count": 44,
   "metadata": {},
   "outputs": [],
   "source": [
    "tn,fp,fn,tp = sklearn.metrics.confusion_matrix(y_test,pred,labels=[-1,1]).ravel()"
   ]
  },
  {
   "cell_type": "code",
   "execution_count": 45,
   "metadata": {},
   "outputs": [
    {
     "name": "stdout",
     "output_type": "stream",
     "text": [
      "The precision score of Naive Bayes on 20% test data is  84.31456811345079\n"
     ]
    }
   ],
   "source": [
    "prec_score = sklearn.metrics.precision_score(y_test,pred,labels=[-1,1],pos_label=1)\n",
    "print('The precision score of Naive Bayes on 20% test data is ',prec_score*float(100))"
   ]
  },
  {
   "cell_type": "markdown",
   "metadata": {},
   "source": [
    "#### Precision Score is 84.31%"
   ]
  },
  {
   "cell_type": "code",
   "execution_count": null,
   "metadata": {},
   "outputs": [],
   "source": []
  },
  {
   "cell_type": "code",
   "execution_count": 46,
   "metadata": {},
   "outputs": [
    {
     "name": "stdout",
     "output_type": "stream",
     "text": [
      "TPR is  0.9649036527026423\n",
      "FPR is  0.9652602476259166\n",
      "TNR is  0.03473975237408342\n",
      "FNR is  0.035096347297357715\n"
     ]
    }
   ],
   "source": [
    "print('TPR is ',float(tp/(tp+fn)))\n",
    "print('FPR is ',float(fp/(tn+fp)))\n",
    "print('TNR is ',float(tn/(tn+fp)))\n",
    "print('FNR is ',float(fn/(tp+fn)))"
   ]
  },
  {
   "cell_type": "code",
   "execution_count": 48,
   "metadata": {},
   "outputs": [
    {
     "data": {
      "text/plain": [
       "0.9649036527026423"
      ]
     },
     "execution_count": 48,
     "metadata": {},
     "output_type": "execute_result"
    }
   ],
   "source": [
    "recall_score = sklearn.metrics.recall_score(y_test,pred,pos_label=1)\n",
    "recall_score"
   ]
  },
  {
   "cell_type": "markdown",
   "metadata": {},
   "source": [
    "#### Recall Score 96.49% which is nothhing but TPR"
   ]
  },
  {
   "cell_type": "code",
   "execution_count": 49,
   "metadata": {},
   "outputs": [
    {
     "data": {
      "text/plain": [
       "0.8999249437077808"
      ]
     },
     "execution_count": 49,
     "metadata": {},
     "output_type": "execute_result"
    }
   ],
   "source": [
    "f1_score = sklearn.metrics.f1_score(y_test,pred,pos_label=1)\n",
    "f1_score"
   ]
  },
  {
   "cell_type": "markdown",
   "metadata": {},
   "source": [
    "#### F1 Score is 89.9%"
   ]
  },
  {
   "cell_type": "code",
   "execution_count": 50,
   "metadata": {},
   "outputs": [],
   "source": [
    "from sklearn import metrics"
   ]
  },
  {
   "cell_type": "code",
   "execution_count": null,
   "metadata": {},
   "outputs": [],
   "source": []
  },
  {
   "cell_type": "code",
   "execution_count": 51,
   "metadata": {},
   "outputs": [
    {
     "name": "stdout",
     "output_type": "stream",
     "text": [
      "Classification report for Naive Bayes on the selected ssample is\n",
      "\n",
      "              precision    recall  f1-score   support\n",
      "\n",
      "         -1       0.16      0.03      0.06      8319\n",
      "          1       0.84      0.96      0.90     44734\n",
      "\n",
      "avg / total       0.74      0.82      0.77     53053\n",
      "\n"
     ]
    }
   ],
   "source": [
    "print('Classification report for Naive Bayes on the selected ssample is\\n\\n',metrics.classification_report(y_test,pred))"
   ]
  },
  {
   "cell_type": "code",
   "execution_count": null,
   "metadata": {},
   "outputs": [],
   "source": []
  },
  {
   "cell_type": "markdown",
   "metadata": {},
   "source": [
    "#### 5.7 Applying MultinomialNB on train data"
   ]
  },
  {
   "cell_type": "code",
   "execution_count": 26,
   "metadata": {},
   "outputs": [],
   "source": [
    "from sklearn.naive_bayes import MultinomialNB"
   ]
  },
  {
   "cell_type": "code",
   "execution_count": 28,
   "metadata": {},
   "outputs": [
    {
     "name": "stdout",
     "output_type": "stream",
     "text": [
      "alpha value for maximum accuracy is 1e-05 with accuracy 78.37805998633462\n"
     ]
    }
   ],
   "source": [
    "accuracy=[]\n",
    "dict1 = {}\n",
    "for a in np.arange(pow(10,-5),pow(10,-2),0.00001):\n",
    "    X_train=final_counts_X1[0:169769,:]\n",
    "    y_train=y_1[0:169769]\n",
    "    X_cv=final_counts_X1[169769:212212,:]\n",
    "    y_cv=y_1[169769:212212]\n",
    "    neigh = MultinomialNB(alpha=a)\n",
    "    neigh.fit(X_train,y_train)\n",
    "    pred = neigh.predict(X_cv)\n",
    "    score = accuracy_score(y_cv,pred,normalize=True)*float(100)\n",
    "    #print('Accuracy Score for alpha={} is {}'.format(a,score))\n",
    "    accuracy.append(score)\n",
    "    dict1[score]=a\n",
    "print('alpha value for maximum accuracy is {} with accuracy {}'.format(dict1[max(accuracy)],max(accuracy)))"
   ]
  },
  {
   "cell_type": "code",
   "execution_count": null,
   "metadata": {},
   "outputs": [],
   "source": []
  },
  {
   "cell_type": "code",
   "execution_count": 30,
   "metadata": {},
   "outputs": [
    {
     "data": {
      "text/plain": [
       "MultinomialNB(alpha=1e-05, class_prior=None, fit_prior=True)"
      ]
     },
     "execution_count": 30,
     "metadata": {},
     "output_type": "execute_result"
    }
   ],
   "source": [
    "nb=MultinomialNB(alpha= 1e-05)\n",
    "nb.fit(final_counts_X1,y_1)"
   ]
  },
  {
   "cell_type": "markdown",
   "metadata": {},
   "source": [
    "#### 5.8 Getting feature importance for both positive and negative class"
   ]
  },
  {
   "cell_type": "code",
   "execution_count": 32,
   "metadata": {},
   "outputs": [
    {
     "name": "stdout",
     "output_type": "stream",
     "text": [
      "Imfortant features for negative class:  ['not' 'like' 'good' 'great' 'one' 'taste' 'product' 'coffee' 'flavor'\n",
      " 'tea' 'love' 'would' 'food' 'get' 'really' 'amazon' 'much' 'use' 'time'\n",
      " 'also' 'little' 'best' 'buy' 'even' 'tried' 'make' 'price' 'find' 'well'\n",
      " 'better' 'try' 'eat' 'chocolate' 'first' 'water' 'sugar' 'used' 'dog'\n",
      " 'found' 'bag' 'made' 'sweet' 'bought' 'drink' 'way' 'box' 'store' 'two'\n",
      " 'think' 'tastes' 'day' 'since' 'could' 'delicious' 'order' 'recommend'\n",
      " 'mix' 'still' 'cup' 'many' 'bit' 'give' 'nice' 'know' 'add' 'never'\n",
      " 'years' 'hot' 'got' 'favorite' 'want' 'free' 'every' 'brand' 'stuff'\n",
      " 'makes' 'milk' 'always' 'without' 'right' 'easy' 'lot' 'something' 'ever'\n",
      " 'perfect' 'different' 'enough' 'say' 'less' 'flavors' 'loves' 'oil'\n",
      " 'ordered' 'organic' 'sauce' 'healthy' 'quality' 'put' 'fresh' 'keep']\n"
     ]
    }
   ],
   "source": [
    "\n",
    "neg_class_prob = np.flip(nb.feature_log_prob_[0,:].argsort(),axis=0)\n",
    "pos_class_prob = np.flip(nb.feature_log_prob_[1, :].argsort(),axis=0)\n",
    "print('Imfortant features for negative class: ',np.take(count_vect.get_feature_names(), neg_class_prob[:100]))"
   ]
  },
  {
   "cell_type": "code",
   "execution_count": 33,
   "metadata": {
    "scrolled": true
   },
   "outputs": [
    {
     "name": "stdout",
     "output_type": "stream",
     "text": [
      "Important features for positive class:  ['not' 'like' 'good' 'great' 'one' 'taste' 'product' 'coffee' 'flavor'\n",
      " 'tea' 'love' 'would' 'food' 'get' 'really' 'amazon' 'use' 'much' 'also'\n",
      " 'time' 'little' 'best' 'make' 'buy' 'price' 'find' 'tried' 'even' 'well'\n",
      " 'better' 'try' 'chocolate' 'eat' 'water' 'first' 'sugar' 'used' 'dog'\n",
      " 'found' 'bag' 'made' 'drink' 'bought' 'sweet' 'box' 'way' 'two' 'store'\n",
      " 'think' 'tastes' 'since' 'delicious' 'cup' 'day' 'could' 'order'\n",
      " 'recommend' 'mix' 'still' 'nice' 'many' 'know' 'bit' 'got' 'add' 'free'\n",
      " 'give' 'never' 'favorite' 'hot' 'want' 'milk' 'stuff' 'years' 'makes'\n",
      " 'every' 'without' 'something' 'always' 'brand' 'right' 'lot' 'organic'\n",
      " 'ever' 'flavors' 'fresh' 'easy' 'perfect' 'quality' 'say' 'back' 'less'\n",
      " 'healthy' 'using' 'enough' 'loves' 'small' 'ordered' 'keep' 'put']\n"
     ]
    }
   ],
   "source": [
    "print('Important features for positive class: ',np.take(count_vect.get_feature_names(), pos_class_prob[:100]))"
   ]
  },
  {
   "cell_type": "markdown",
   "metadata": {},
   "source": [
    "Above we got most common words corresponding to each class\n",
    "But one thing to notice, a lot of words are common between these two classes. This means the text dataset has overlapping data"
   ]
  },
  {
   "cell_type": "markdown",
   "metadata": {},
   "source": [
    "#### 5.8 Applying model on test data to get permormance metrices"
   ]
  },
  {
   "cell_type": "code",
   "execution_count": 34,
   "metadata": {},
   "outputs": [],
   "source": [
    "pred = nb.predict(final_counts_Xtest)"
   ]
  },
  {
   "cell_type": "code",
   "execution_count": 35,
   "metadata": {},
   "outputs": [
    {
     "name": "stdout",
     "output_type": "stream",
     "text": [
      "The accuracy score of Naive Bayes on 20% test data is  81.02086592652631\n"
     ]
    }
   ],
   "source": [
    "accuracy_score = sklearn.metrics.accuracy_score(y_test,pred)\n",
    "print('The accuracy score of Naive Bayes on 20% test data is ',accuracy_score*float(100))"
   ]
  },
  {
   "cell_type": "markdown",
   "metadata": {},
   "source": [
    "#### Accuracy score is 81.020%"
   ]
  },
  {
   "cell_type": "code",
   "execution_count": 36,
   "metadata": {},
   "outputs": [
    {
     "data": {
      "text/plain": [
       "array([[  391,  7928],\n",
       "       [ 2141, 42593]], dtype=int64)"
      ]
     },
     "execution_count": 36,
     "metadata": {},
     "output_type": "execute_result"
    }
   ],
   "source": [
    "con_matrix = sklearn.metrics.confusion_matrix(y_test,pred,labels=[-1,1])\n",
    "con_matrix"
   ]
  },
  {
   "cell_type": "code",
   "execution_count": 37,
   "metadata": {},
   "outputs": [],
   "source": [
    "from seaborn import heatmap"
   ]
  },
  {
   "cell_type": "code",
   "execution_count": 38,
   "metadata": {},
   "outputs": [
    {
     "data": {
      "text/plain": [
       "[]"
      ]
     },
     "execution_count": 38,
     "metadata": {},
     "output_type": "execute_result"
    },
    {
     "data": {
      "image/png": "[encoded data removed]",
      "text/plain": [
       "<matplotlib.figure.Figure at 0x238d718eef0>"
      ]
     },
     "metadata": {},
     "output_type": "display_data"
    }
   ],
   "source": [
    "df_cm = pd.DataFrame(con_matrix.T, index = ['negative','positive'],\n",
    "                  columns = ['negative','positive'])\n",
    "heatmap(df_cm,annot=True)\n",
    "plt.plot()"
   ]
  },
  {
   "cell_type": "markdown",
   "metadata": {},
   "source": [
    "#### Above is the confusion matrix"
   ]
  },
  {
   "cell_type": "code",
   "execution_count": null,
   "metadata": {},
   "outputs": [],
   "source": []
  },
  {
   "cell_type": "code",
   "execution_count": 63,
   "metadata": {},
   "outputs": [],
   "source": [
    "tn,fp,fn,tp = sklearn.metrics.confusion_matrix(y_test,pred,labels=[-1,1]).ravel()"
   ]
  },
  {
   "cell_type": "code",
   "execution_count": 64,
   "metadata": {},
   "outputs": [
    {
     "name": "stdout",
     "output_type": "stream",
     "text": [
      "The precision score of Naive Bayes on 20% test data is  84.30751568654618\n"
     ]
    }
   ],
   "source": [
    "prec_score = sklearn.metrics.precision_score(y_test,pred,labels=[-1,1],pos_label=1)\n",
    "print('The precision score of Naive Bayes on 20% test data is ',prec_score*float(100))"
   ]
  },
  {
   "cell_type": "markdown",
   "metadata": {},
   "source": [
    "#### Precision Score is 84.30%"
   ]
  },
  {
   "cell_type": "code",
   "execution_count": null,
   "metadata": {},
   "outputs": [],
   "source": []
  },
  {
   "cell_type": "code",
   "execution_count": 65,
   "metadata": {},
   "outputs": [
    {
     "name": "stdout",
     "output_type": "stream",
     "text": [
      "TPR is  0.9521393123798453\n",
      "FPR is  0.9529991585527107\n",
      "TNR is  0.04700084144728934\n",
      "FNR is  0.04786068762015469\n"
     ]
    }
   ],
   "source": [
    "print('TPR is ',float(tp/(tp+fn)))\n",
    "print('FPR is ',float(fp/(tn+fp)))\n",
    "print('TNR is ',float(tn/(tn+fp)))\n",
    "print('FNR is ',float(fn/(tp+fn)))"
   ]
  },
  {
   "cell_type": "code",
   "execution_count": 66,
   "metadata": {},
   "outputs": [
    {
     "data": {
      "text/plain": [
       "0.9521393123798453"
      ]
     },
     "execution_count": 66,
     "metadata": {},
     "output_type": "execute_result"
    }
   ],
   "source": [
    "recall_score = sklearn.metrics.recall_score(y_test,pred,pos_label=1)\n",
    "recall_score"
   ]
  },
  {
   "cell_type": "markdown",
   "metadata": {},
   "source": [
    "#### Recall Score 95.21% which is nothhing but TPR"
   ]
  },
  {
   "cell_type": "code",
   "execution_count": 67,
   "metadata": {},
   "outputs": [
    {
     "data": {
      "text/plain": [
       "0.8942942627683587"
      ]
     },
     "execution_count": 67,
     "metadata": {},
     "output_type": "execute_result"
    }
   ],
   "source": [
    "f1_score = sklearn.metrics.f1_score(y_test,pred,pos_label=1)\n",
    "f1_score"
   ]
  },
  {
   "cell_type": "markdown",
   "metadata": {},
   "source": [
    "#### F1 Score is 89.4%"
   ]
  },
  {
   "cell_type": "code",
   "execution_count": 68,
   "metadata": {},
   "outputs": [],
   "source": [
    "from sklearn import metrics"
   ]
  },
  {
   "cell_type": "code",
   "execution_count": null,
   "metadata": {},
   "outputs": [],
   "source": []
  },
  {
   "cell_type": "code",
   "execution_count": 69,
   "metadata": {},
   "outputs": [
    {
     "name": "stdout",
     "output_type": "stream",
     "text": [
      "Classification report for Naive Bayes on the selected ssample is\n",
      "\n",
      "              precision    recall  f1-score   support\n",
      "\n",
      "         -1       0.15      0.05      0.07      8319\n",
      "          1       0.84      0.95      0.89     44734\n",
      "\n",
      "avg / total       0.74      0.81      0.77     53053\n",
      "\n"
     ]
    }
   ],
   "source": [
    "print('Classification report for Naive Bayes on the selected ssample is\\n\\n',metrics.classification_report(y_test,pred))"
   ]
  },
  {
   "cell_type": "code",
   "execution_count": null,
   "metadata": {},
   "outputs": [],
   "source": []
  },
  {
   "cell_type": "code",
   "execution_count": null,
   "metadata": {},
   "outputs": [],
   "source": []
  },
  {
   "cell_type": "markdown",
   "metadata": {},
   "source": [
    "#### 6.1 Building tfidf vectorizer with train data"
   ]
  },
  {
   "cell_type": "code",
   "execution_count": 39,
   "metadata": {},
   "outputs": [],
   "source": [
    "tfidf_vect=TfidfVectorizer()\n",
    "final_tfidf_X1=tfidf_vect.fit_transform(X_1)"
   ]
  },
  {
   "cell_type": "markdown",
   "metadata": {},
   "source": [
    "Tfidf Vectors created"
   ]
  },
  {
   "cell_type": "markdown",
   "metadata": {},
   "source": [
    "#### 6.2 Applying BernouliNB on train data"
   ]
  },
  {
   "cell_type": "code",
   "execution_count": 43,
   "metadata": {},
   "outputs": [
    {
     "name": "stdout",
     "output_type": "stream",
     "text": [
      "alpha value for maximum accuracy is 1e-05 with accuracy 79.10609523360743\n"
     ]
    }
   ],
   "source": [
    "accuracy=[]\n",
    "dict1 = {}\n",
    "for a in np.arange(pow(10,-5),pow(10,-2),0.00001):\n",
    "    X_train=final_tfidf[0:169769,:]\n",
    "    y_train=y_1[0:169769]\n",
    "    X_cv=final_tfidf[169769:212212,:]\n",
    "    y_cv=y_1[169769:212212]\n",
    "    neigh = BernoulliNB(alpha=a)\n",
    "    neigh.fit(X_train,y_train)\n",
    "    pred = neigh.predict(X_cv)\n",
    "    score = metrics.accuracy_score(y_cv,pred,normalize=True)*float(100)\n",
    "    #print('Accuracy Score for alpha={} is {}'.format(a,score))\n",
    "    accuracy.append(score)\n",
    "    dict1[score]=a\n",
    "print('alpha value for maximum accuracy is {} with accuracy {}'.format(dict1[max(accuracy)],max(accuracy)))"
   ]
  },
  {
   "cell_type": "code",
   "execution_count": 26,
   "metadata": {},
   "outputs": [
    {
     "data": {
      "image/png": "[encoded data removed]",
      "text/plain": [
       "<matplotlib.figure.Figure at 0x1e91fe52dd8>"
      ]
     },
     "metadata": {},
     "output_type": "display_data"
    }
   ],
   "source": [
    "plt.plot(np.arange(pow(10,-5),pow(10,-2),0.00001),accuracy)\n",
    "plt.title('alpha Vs Accuracy')\n",
    "plt.xlabel('alpha values')\n",
    "plt.ylabel('Accuracy Values')\n",
    "plt.show()"
   ]
  },
  {
   "cell_type": "markdown",
   "metadata": {},
   "source": [
    "#### The optimal alpha obtained by single fold cross validation is 1e-05"
   ]
  },
  {
   "cell_type": "code",
   "execution_count": null,
   "metadata": {},
   "outputs": [],
   "source": []
  },
  {
   "cell_type": "code",
   "execution_count": null,
   "metadata": {},
   "outputs": [],
   "source": []
  },
  {
   "cell_type": "code",
   "execution_count": 52,
   "metadata": {},
   "outputs": [
    {
     "name": "stdout",
     "output_type": "stream",
     "text": [
      "alpha value for maximum accuracy is 1e-05 with accuracy 74.99811507469016\n"
     ]
    }
   ],
   "source": [
    "accuracy=[]\n",
    "dict1 = {}\n",
    "for a in np.arange(pow(10,-5),pow(10,-3),0.00001):\n",
    "    score_total=0.0\n",
    "    for i in range(0,10):\n",
    "        \n",
    "        X_train=final_counts[0:21221*(i+1),:]\n",
    "        y_train=y_1[0:21221*(i+1)]\n",
    "        X_cv=final_counts[21221*(i+1):21221*(i+2),:]\n",
    "        y_cv=y_1[21221*(i+1):21221*(i+2)]\n",
    "        #Here we splitted the data in Train and Cross Validation set\n",
    "        neigh = BernoulliNB(alpha=a)\n",
    "        neigh.fit(X_train,y_train)\n",
    "        pred = neigh.predict(X_cv)\n",
    "        score = sklearn.metrics.accuracy_score(y_cv,pred,normalize=True)*float(100)\n",
    "        score_total=score+score_total\n",
    "    accuracy.append(score_total/float(10))\n",
    "    score_avg=score_total/float(10)\n",
    "    dict1[score_avg]=a\n",
    "print('alpha value for maximum accuracy is {} with accuracy {}'.format(dict1[max(accuracy)],max(accuracy)))"
   ]
  },
  {
   "cell_type": "code",
   "execution_count": 53,
   "metadata": {},
   "outputs": [
    {
     "data": {
      "image/png": "[encoded data removed]",
      "text/plain": [
       "<matplotlib.figure.Figure at 0x1ec1e556390>"
      ]
     },
     "metadata": {},
     "output_type": "display_data"
    }
   ],
   "source": [
    "plt.plot(np.arange(pow(10,-5),pow(10,-3),0.00001),accuracy)\n",
    "plt.title('alpha Vs Accuracy')\n",
    "plt.xlabel('alpha values')\n",
    "plt.ylabel('Accuracy Values')\n",
    "plt.show()"
   ]
  },
  {
   "cell_type": "markdown",
   "metadata": {},
   "source": [
    "#### Optimum alpha with 10 fold cross validation is also 1e-05 "
   ]
  },
  {
   "cell_type": "code",
   "execution_count": null,
   "metadata": {},
   "outputs": [],
   "source": []
  },
  {
   "cell_type": "code",
   "execution_count": null,
   "metadata": {},
   "outputs": [],
   "source": []
  },
  {
   "cell_type": "markdown",
   "metadata": {},
   "source": [
    "#### 6.3 Fitting model with optimal hyperparameter "
   ]
  },
  {
   "cell_type": "code",
   "execution_count": 27,
   "metadata": {},
   "outputs": [
    {
     "data": {
      "text/plain": [
       "BernoulliNB(alpha=1e-05, binarize=0.0, class_prior=None, fit_prior=True)"
      ]
     },
     "execution_count": 27,
     "metadata": {},
     "output_type": "execute_result"
    }
   ],
   "source": [
    "neigh_optimal = BernoulliNB(alpha= 1e-05)\n",
    "neigh_optimal.fit(final_tfidf,y_1)\n"
   ]
  },
  {
   "cell_type": "markdown",
   "metadata": {},
   "source": [
    "#### 6.4 Getting important features"
   ]
  },
  {
   "cell_type": "code",
   "execution_count": 29,
   "metadata": {},
   "outputs": [
    {
     "name": "stdout",
     "output_type": "stream",
     "text": [
      "Imfortant features for negative class:  ['not' 'like' 'good' 'great' 'one' 'taste' 'product' 'love' 'flavor'\n",
      " 'would' 'get' 'really' 'much' 'amazon' 'time' 'also' 'use' 'best' 'buy'\n",
      " 'little' 'find' 'tried' 'even' 'make' 'price' 'coffee' 'well' 'try'\n",
      " 'better' 'food' 'eat' 'first' 'used' 'found' 'tea' 'bought' 'made' 'way'\n",
      " 'recommend' 'tastes' 'delicious' 'sweet' 'store' 'think' 'could' 'since'\n",
      " 'two' 'sugar' 'day' 'order' 'bag' 'still' 'water' 'give' 'many'\n",
      " 'favorite' 'never' 'nice' 'bit' 'know' 'drink' 'got' 'years' 'makes'\n",
      " 'box' 'every' 'want' 'chocolate' 'without' 'add' 'right' 'always' 'ever'\n",
      " 'lot' 'easy' 'perfect' 'stuff' 'something' 'mix' 'brand' 'different'\n",
      " 'loves' 'cup' 'say' 'enough' 'less' 'free' 'ordered' 'keep' 'need' 'put'\n",
      " 'back' 'dog' 'fresh' 'hot' 'flavors' 'quality' 'healthy' 'using' 'sure']\n"
     ]
    }
   ],
   "source": [
    "\n",
    "neg_class_prob_sorted = np.flip(neigh_optimal.feature_log_prob_[0,:].argsort(),axis=0)\n",
    "pos_class_prob_sorted = np.flip(neigh_optimal.feature_log_prob_[1, :].argsort(),axis=0)\n",
    "print('Imfortant features for negative class: ',np.take(tfidf_vect.get_feature_names(), neg_class_prob_sorted[:100]))"
   ]
  },
  {
   "cell_type": "code",
   "execution_count": 30,
   "metadata": {
    "scrolled": true
   },
   "outputs": [
    {
     "name": "stdout",
     "output_type": "stream",
     "text": [
      "Important features for positive class:  ['not' 'like' 'good' 'great' 'one' 'taste' 'product' 'love' 'flavor'\n",
      " 'would' 'get' 'really' 'much' 'amazon' 'also' 'time' 'use' 'best' 'buy'\n",
      " 'little' 'find' 'tried' 'price' 'make' 'even' 'coffee' 'well' 'better'\n",
      " 'try' 'food' 'first' 'eat' 'found' 'used' 'tea' 'bought' 'made' 'way'\n",
      " 'recommend' 'delicious' 'store' 'tastes' 'since' 'sweet' 'think' 'two'\n",
      " 'could' 'sugar' 'order' 'bag' 'still' 'day' 'water' 'nice' 'know' 'many'\n",
      " 'favorite' 'never' 'got' 'give' 'bit' 'box' 'drink' 'makes' 'want'\n",
      " 'without' 'years' 'every' 'chocolate' 'always' 'right' 'something' 'ever'\n",
      " 'add' 'stuff' 'cup' 'free' 'lot' 'mix' 'perfect' 'say' 'easy' 'loves'\n",
      " 'back' 'brand' 'enough' 'fresh' 'ordered' 'keep' 'less' 'quality' 'dog'\n",
      " 'different' 'using' 'put' 'small' 'flavors' 'need' 'healthy' 'sure']\n"
     ]
    }
   ],
   "source": [
    "print('Important features for positive class: ',np.take(tfidf_vect.get_feature_names(), pos_class_prob_sorted[:100]))"
   ]
  },
  {
   "cell_type": "markdown",
   "metadata": {},
   "source": [
    "Above we got most common words corresponding to each class\n",
    "But one thing to notice, a lot of words are common between these two classes. This means the text dataset has overlapping data"
   ]
  },
  {
   "cell_type": "code",
   "execution_count": null,
   "metadata": {},
   "outputs": [],
   "source": []
  },
  {
   "cell_type": "markdown",
   "metadata": {},
   "source": [
    "#### 6.5 Obtaining test vectors and applying the model to it to get performance metrices"
   ]
  },
  {
   "cell_type": "code",
   "execution_count": 31,
   "metadata": {},
   "outputs": [],
   "source": [
    "X_test_vector=tfidf_vect.transform(X_test)"
   ]
  },
  {
   "cell_type": "code",
   "execution_count": 32,
   "metadata": {},
   "outputs": [],
   "source": [
    "pred = neigh_optimal.predict(X_test_vector)"
   ]
  },
  {
   "cell_type": "code",
   "execution_count": 33,
   "metadata": {},
   "outputs": [
    {
     "name": "stdout",
     "output_type": "stream",
     "text": [
      "The accuracy score of Naive Bayes on 20% test data is  81.90488756526493\n"
     ]
    }
   ],
   "source": [
    "accuracy_score = sklearn.metrics.accuracy_score(y_test,pred)\n",
    "print('The accuracy score of Naive Bayes on 20% test data is ',accuracy_score*float(100))"
   ]
  },
  {
   "cell_type": "markdown",
   "metadata": {},
   "source": [
    "#### Accuracy score is 81.904%"
   ]
  },
  {
   "cell_type": "code",
   "execution_count": null,
   "metadata": {},
   "outputs": [],
   "source": []
  },
  {
   "cell_type": "code",
   "execution_count": 34,
   "metadata": {},
   "outputs": [
    {
     "data": {
      "text/plain": [
       "array([[  289,  8030],\n",
       "       [ 1570, 43164]], dtype=int64)"
      ]
     },
     "execution_count": 34,
     "metadata": {},
     "output_type": "execute_result"
    }
   ],
   "source": [
    "con_matrix = sklearn.metrics.confusion_matrix(y_test,pred,labels=['negative','positive'])\n",
    "con_matrix"
   ]
  },
  {
   "cell_type": "code",
   "execution_count": 35,
   "metadata": {},
   "outputs": [],
   "source": [
    "from seaborn import heatmap"
   ]
  },
  {
   "cell_type": "code",
   "execution_count": 36,
   "metadata": {},
   "outputs": [
    {
     "data": {
      "text/plain": [
       "[]"
      ]
     },
     "execution_count": 36,
     "metadata": {},
     "output_type": "execute_result"
    },
    {
     "data": {
      "image/png": "[encoded data removed]",
      "text/plain": [
       "<matplotlib.figure.Figure at 0x1e91f194240>"
      ]
     },
     "metadata": {},
     "output_type": "display_data"
    }
   ],
   "source": [
    "df_cm = pd.DataFrame(con_matrix.T, index = ['negative','positive'],\n",
    "                  columns = ['negative','positive'])\n",
    "heatmap(df_cm,annot=True)\n",
    "plt.plot()"
   ]
  },
  {
   "cell_type": "markdown",
   "metadata": {},
   "source": [
    "#### Above is the confusion matrix"
   ]
  },
  {
   "cell_type": "code",
   "execution_count": null,
   "metadata": {},
   "outputs": [],
   "source": []
  },
  {
   "cell_type": "code",
   "execution_count": 37,
   "metadata": {},
   "outputs": [],
   "source": [
    "tn,fp,fn,tp = sklearn.metrics.confusion_matrix(y_test,pred,labels=['negative','positive']).ravel()"
   ]
  },
  {
   "cell_type": "code",
   "execution_count": 38,
   "metadata": {},
   "outputs": [
    {
     "name": "stdout",
     "output_type": "stream",
     "text": [
      "The precision score of Naive Bayes on 20% test data is  84.31456811345079\n"
     ]
    }
   ],
   "source": [
    "prec_score = sklearn.metrics.precision_score(y_test,pred,labels=['negative','positive'],pos_label='positive')\n",
    "print('The precision score of Naive Bayes on 20% test data is ',prec_score*float(100))"
   ]
  },
  {
   "cell_type": "markdown",
   "metadata": {},
   "source": [
    "#### Precision Score is 84.31%"
   ]
  },
  {
   "cell_type": "code",
   "execution_count": null,
   "metadata": {},
   "outputs": [],
   "source": []
  },
  {
   "cell_type": "code",
   "execution_count": 39,
   "metadata": {},
   "outputs": [
    {
     "name": "stdout",
     "output_type": "stream",
     "text": [
      "TPR is  0.9649036527026423\n",
      "FPR is  0.9652602476259166\n",
      "TNR is  0.03473975237408342\n",
      "FNR is  0.035096347297357715\n"
     ]
    }
   ],
   "source": [
    "print('TPR is ',float(tp/(tp+fn)))\n",
    "print('FPR is ',float(fp/(tn+fp)))\n",
    "print('TNR is ',float(tn/(tn+fp)))\n",
    "print('FNR is ',float(fn/(tp+fn)))"
   ]
  },
  {
   "cell_type": "code",
   "execution_count": 40,
   "metadata": {},
   "outputs": [
    {
     "data": {
      "text/plain": [
       "0.9649036527026423"
      ]
     },
     "execution_count": 40,
     "metadata": {},
     "output_type": "execute_result"
    }
   ],
   "source": [
    "recall_score = sklearn.metrics.recall_score(y_test,pred,pos_label='positive')\n",
    "recall_score"
   ]
  },
  {
   "cell_type": "markdown",
   "metadata": {},
   "source": [
    "#### Recall Score 96.49% which is nothhing but TPR"
   ]
  },
  {
   "cell_type": "code",
   "execution_count": 41,
   "metadata": {},
   "outputs": [
    {
     "data": {
      "text/plain": [
       "0.8999249437077808"
      ]
     },
     "execution_count": 41,
     "metadata": {},
     "output_type": "execute_result"
    }
   ],
   "source": [
    "f1_score = sklearn.metrics.f1_score(y_test,pred,pos_label='positive')\n",
    "f1_score"
   ]
  },
  {
   "cell_type": "markdown",
   "metadata": {},
   "source": [
    "#### F1 Score is 89.9%"
   ]
  },
  {
   "cell_type": "code",
   "execution_count": 42,
   "metadata": {},
   "outputs": [],
   "source": [
    "from sklearn import metrics"
   ]
  },
  {
   "cell_type": "code",
   "execution_count": null,
   "metadata": {},
   "outputs": [],
   "source": []
  },
  {
   "cell_type": "code",
   "execution_count": 43,
   "metadata": {},
   "outputs": [
    {
     "name": "stdout",
     "output_type": "stream",
     "text": [
      "Classification report for Naive Bayes on the selected ssample is\n",
      "\n",
      "              precision    recall  f1-score   support\n",
      "\n",
      "   negative       0.16      0.03      0.06      8319\n",
      "   positive       0.84      0.96      0.90     44734\n",
      "\n",
      "avg / total       0.74      0.82      0.77     53053\n",
      "\n"
     ]
    }
   ],
   "source": [
    "print('Classification report for Naive Bayes on the selected ssample is\\n\\n',metrics.classification_report(y_test,pred))"
   ]
  },
  {
   "cell_type": "code",
   "execution_count": null,
   "metadata": {},
   "outputs": [],
   "source": []
  },
  {
   "cell_type": "code",
   "execution_count": null,
   "metadata": {},
   "outputs": [],
   "source": []
  },
  {
   "cell_type": "markdown",
   "metadata": {},
   "source": [
    "#### 6.6 Applying MultinomialNB on train data"
   ]
  },
  {
   "cell_type": "code",
   "execution_count": 45,
   "metadata": {},
   "outputs": [
    {
     "name": "stdout",
     "output_type": "stream",
     "text": [
      "alpha value for maximum accuracy is 0.00999 with accuracy 83.6580826049054\n"
     ]
    }
   ],
   "source": [
    "accuracy=[]\n",
    "dict1 = {}\n",
    "for a in np.arange(pow(10,-5),pow(10,-2),0.00001):\n",
    "    X_train=final_tfidf[0:169769,:]\n",
    "    y_train=y_1[0:169769]\n",
    "    X_cv=final_tfidf[169769:212212,:]\n",
    "    y_cv=y_1[169769:212212]\n",
    "    neigh = MultinomialNB(alpha=a)\n",
    "    neigh.fit(X_train,y_train)\n",
    "    pred = neigh.predict(X_cv)\n",
    "    score = metrics.accuracy_score(y_cv,pred,normalize=True)*float(100)\n",
    "    #print('Accuracy Score for alpha={} is {}'.format(a,score))\n",
    "    accuracy.append(score)\n",
    "    dict1[score]=a\n",
    "print('alpha value for maximum accuracy is {} with accuracy {}'.format(dict1[max(accuracy)],max(accuracy)))"
   ]
  },
  {
   "cell_type": "code",
   "execution_count": null,
   "metadata": {},
   "outputs": [],
   "source": [
    "#### Optimal alpha value is 0.00999 with accuracy score 83.65%"
   ]
  },
  {
   "cell_type": "code",
   "execution_count": 46,
   "metadata": {},
   "outputs": [],
   "source": [
    "nb=MultinomialNB(alpha=0.00999)"
   ]
  },
  {
   "cell_type": "code",
   "execution_count": 47,
   "metadata": {},
   "outputs": [
    {
     "data": {
      "text/plain": [
       "MultinomialNB(alpha=0.00999, class_prior=None, fit_prior=True)"
      ]
     },
     "execution_count": 47,
     "metadata": {},
     "output_type": "execute_result"
    }
   ],
   "source": [
    "nb.fit(final_tfidf,y_1)"
   ]
  },
  {
   "cell_type": "markdown",
   "metadata": {},
   "source": [
    "#### 6.7 Getting important features"
   ]
  },
  {
   "cell_type": "code",
   "execution_count": 49,
   "metadata": {},
   "outputs": [
    {
     "name": "stdout",
     "output_type": "stream",
     "text": [
      "Imfortant features for negative class:  ['not' 'great' 'like' 'good' 'coffee' 'taste' 'product' 'tea' 'love' 'one'\n",
      " 'flavor' 'would' 'really' 'food' 'amazon' 'get' 'price' 'best' 'buy'\n",
      " 'much' 'use' 'time' 'find' 'little' 'tried' 'chocolate' 'better' 'also'\n",
      " 'make' 'well' 'even' 'eat' 'try' 'dog' 'bought' 'sugar' 'delicious'\n",
      " 'sweet' 'order' 'used' 'tastes' 'found' 'store' 'drink' 'water' 'bag'\n",
      " 'recommend' 'first' 'box' 'favorite' 'loves' 'made' 'nice' 'way' 'day'\n",
      " 'mix' 'easy' 'cup' 'perfect' 'hot' 'could' 'ever' 'free' 'think' 'stuff'\n",
      " 'since' 'add' 'got' 'never' 'many' 'makes' 'two' 'ordered' 'years'\n",
      " 'every' 'always' 'bit' 'brand' 'give' 'still' 'right' 'snack' 'fresh'\n",
      " 'flavors' 'dogs' 'healthy' 'know' 'milk' 'tasty' 'treats' 'without' 'lot'\n",
      " 'want' 'excellent' 'hard' 'wonderful' 'sauce' 'different' 'quality'\n",
      " 'keep']\n"
     ]
    }
   ],
   "source": [
    "\n",
    "neg_class_prob_sorted = np.flip(nb.feature_log_prob_[0,:].argsort(),axis=0)\n",
    "pos_class_prob_sorted = np.flip(nb.feature_log_prob_[1, :].argsort(),axis=0)\n",
    "print('Imfortant features for negative class: ',np.take(tfidf_vect.get_feature_names(), neg_class_prob_sorted[:100]))"
   ]
  },
  {
   "cell_type": "code",
   "execution_count": 30,
   "metadata": {
    "scrolled": true
   },
   "outputs": [
    {
     "name": "stdout",
     "output_type": "stream",
     "text": [
      "Important features for positive class:  ['not' 'like' 'good' 'great' 'one' 'taste' 'product' 'love' 'flavor'\n",
      " 'would' 'get' 'really' 'much' 'amazon' 'also' 'time' 'use' 'best' 'buy'\n",
      " 'little' 'find' 'tried' 'price' 'make' 'even' 'coffee' 'well' 'better'\n",
      " 'try' 'food' 'first' 'eat' 'found' 'used' 'tea' 'bought' 'made' 'way'\n",
      " 'recommend' 'delicious' 'store' 'tastes' 'since' 'sweet' 'think' 'two'\n",
      " 'could' 'sugar' 'order' 'bag' 'still' 'day' 'water' 'nice' 'know' 'many'\n",
      " 'favorite' 'never' 'got' 'give' 'bit' 'box' 'drink' 'makes' 'want'\n",
      " 'without' 'years' 'every' 'chocolate' 'always' 'right' 'something' 'ever'\n",
      " 'add' 'stuff' 'cup' 'free' 'lot' 'mix' 'perfect' 'say' 'easy' 'loves'\n",
      " 'back' 'brand' 'enough' 'fresh' 'ordered' 'keep' 'less' 'quality' 'dog'\n",
      " 'different' 'using' 'put' 'small' 'flavors' 'need' 'healthy' 'sure']\n"
     ]
    }
   ],
   "source": [
    "print('Important features for positive class: ',np.take(tfidf_vect.get_feature_names(), pos_class_prob_sorted[:100]))"
   ]
  },
  {
   "cell_type": "markdown",
   "metadata": {},
   "source": [
    "Above we got most common words corresponding to each class\n",
    "But one thing to notice, a lot of words are common between these two classes. This means the text dataset has overlapping data"
   ]
  },
  {
   "cell_type": "code",
   "execution_count": null,
   "metadata": {},
   "outputs": [],
   "source": []
  },
  {
   "cell_type": "markdown",
   "metadata": {},
   "source": [
    "#### 6.8 Applying model on test data and getting the performance metrices"
   ]
  },
  {
   "cell_type": "code",
   "execution_count": 50,
   "metadata": {},
   "outputs": [],
   "source": [
    "X_test_vector=tfidf_vect.transform(X_test)"
   ]
  },
  {
   "cell_type": "code",
   "execution_count": 52,
   "metadata": {},
   "outputs": [],
   "source": [
    "pred = nb.predict(X_test_vector)"
   ]
  },
  {
   "cell_type": "code",
   "execution_count": 53,
   "metadata": {},
   "outputs": [
    {
     "name": "stdout",
     "output_type": "stream",
     "text": [
      "The accuracy score of Naive Bayes on 20% test data is  83.93493299153677\n"
     ]
    }
   ],
   "source": [
    "accuracy_score = sklearn.metrics.accuracy_score(y_test,pred)\n",
    "print('The accuracy score of Naive Bayes on 20% test data is ',accuracy_score*float(100))"
   ]
  },
  {
   "cell_type": "markdown",
   "metadata": {},
   "source": [
    "#### Accuracy score is 83.93%"
   ]
  },
  {
   "cell_type": "code",
   "execution_count": null,
   "metadata": {},
   "outputs": [],
   "source": []
  },
  {
   "cell_type": "code",
   "execution_count": 56,
   "metadata": {},
   "outputs": [
    {
     "data": {
      "text/plain": [
       "array([[   46,  8273],\n",
       "       [  250, 44484]], dtype=int64)"
      ]
     },
     "execution_count": 56,
     "metadata": {},
     "output_type": "execute_result"
    }
   ],
   "source": [
    "con_matrix = metrics.confusion_matrix(y_test,pred,labels=[-1,1])\n",
    "con_matrix"
   ]
  },
  {
   "cell_type": "code",
   "execution_count": 57,
   "metadata": {},
   "outputs": [],
   "source": [
    "from seaborn import heatmap"
   ]
  },
  {
   "cell_type": "code",
   "execution_count": 58,
   "metadata": {},
   "outputs": [
    {
     "data": {
      "text/plain": [
       "[]"
      ]
     },
     "execution_count": 58,
     "metadata": {},
     "output_type": "execute_result"
    },
    {
     "data": {
      "image/png": "[encoded data removed]",
      "text/plain": [
       "<matplotlib.figure.Figure at 0x238da3c2c18>"
      ]
     },
     "metadata": {},
     "output_type": "display_data"
    }
   ],
   "source": [
    "df_cm = pd.DataFrame(con_matrix.T, index = ['negative','positive'],\n",
    "                  columns = ['negative','positive'])\n",
    "heatmap(df_cm,annot=True)\n",
    "plt.plot()"
   ]
  },
  {
   "cell_type": "markdown",
   "metadata": {},
   "source": [
    "#### Above is the confusion matrix"
   ]
  },
  {
   "cell_type": "code",
   "execution_count": null,
   "metadata": {},
   "outputs": [],
   "source": []
  },
  {
   "cell_type": "code",
   "execution_count": 60,
   "metadata": {},
   "outputs": [],
   "source": [
    "tn,fp,fn,tp = sklearn.metrics.confusion_matrix(y_test,pred,labels=[-1,1]).ravel()"
   ]
  },
  {
   "cell_type": "code",
   "execution_count": 62,
   "metadata": {},
   "outputs": [
    {
     "name": "stdout",
     "output_type": "stream",
     "text": [
      "The precision score of Naive Bayes on 20% test data is  84.31866861269594\n"
     ]
    }
   ],
   "source": [
    "prec_score = sklearn.metrics.precision_score(y_test,pred,labels=[-1,1],pos_label=1)\n",
    "print('The precision score of Naive Bayes on 20% test data is ',prec_score*float(100))"
   ]
  },
  {
   "cell_type": "markdown",
   "metadata": {},
   "source": [
    "#### Precision Score is 84.31%"
   ]
  },
  {
   "cell_type": "code",
   "execution_count": null,
   "metadata": {},
   "outputs": [],
   "source": []
  },
  {
   "cell_type": "code",
   "execution_count": 63,
   "metadata": {},
   "outputs": [
    {
     "name": "stdout",
     "output_type": "stream",
     "text": [
      "TPR is  0.9944114096660258\n",
      "FPR is  0.9944704892414954\n",
      "TNR is  0.005529510758504628\n",
      "FNR is  0.005588590333974158\n"
     ]
    }
   ],
   "source": [
    "print('TPR is ',float(tp/(tp+fn)))\n",
    "print('FPR is ',float(fp/(tn+fp)))\n",
    "print('TNR is ',float(tn/(tn+fp)))\n",
    "print('FNR is ',float(fn/(tp+fn)))"
   ]
  },
  {
   "cell_type": "code",
   "execution_count": 65,
   "metadata": {},
   "outputs": [
    {
     "data": {
      "text/plain": [
       "0.9944114096660258"
      ]
     },
     "execution_count": 65,
     "metadata": {},
     "output_type": "execute_result"
    }
   ],
   "source": [
    "recall_score = sklearn.metrics.recall_score(y_test,pred,pos_label=1)\n",
    "recall_score"
   ]
  },
  {
   "cell_type": "markdown",
   "metadata": {},
   "source": [
    "#### Recall Score 96.44% which is nothhing but TPR"
   ]
  },
  {
   "cell_type": "code",
   "execution_count": 67,
   "metadata": {},
   "outputs": [
    {
     "data": {
      "text/plain": [
       "0.9125765455272794"
      ]
     },
     "execution_count": 67,
     "metadata": {},
     "output_type": "execute_result"
    }
   ],
   "source": [
    "f1_score = sklearn.metrics.f1_score(y_test,pred,pos_label=1)\n",
    "f1_score"
   ]
  },
  {
   "cell_type": "markdown",
   "metadata": {},
   "source": [
    "#### F1 Score is 91.25%"
   ]
  },
  {
   "cell_type": "code",
   "execution_count": 68,
   "metadata": {},
   "outputs": [],
   "source": [
    "from sklearn import metrics"
   ]
  },
  {
   "cell_type": "code",
   "execution_count": null,
   "metadata": {},
   "outputs": [],
   "source": []
  },
  {
   "cell_type": "code",
   "execution_count": 69,
   "metadata": {},
   "outputs": [
    {
     "name": "stdout",
     "output_type": "stream",
     "text": [
      "Classification report for Naive Bayes on the selected ssample is\n",
      "\n",
      "              precision    recall  f1-score   support\n",
      "\n",
      "         -1       0.16      0.01      0.01      8319\n",
      "          1       0.84      0.99      0.91     44734\n",
      "\n",
      "avg / total       0.74      0.84      0.77     53053\n",
      "\n"
     ]
    }
   ],
   "source": [
    "print('Classification report for Naive Bayes on the selected ssample is\\n\\n',metrics.classification_report(y_test,pred))"
   ]
  },
  {
   "cell_type": "markdown",
   "metadata": {},
   "source": [
    "#### Summary\n",
    "- The dataset is large and imbalanced. Because of memory constraint a small sample was taken\n",
    "- The sampled dataset was sorted according to time\n",
    "- The sorted dataset was splitted into train and test set\n",
    "- In **BagOfWord** approach\n",
    "  1. CountVectors for train data obtained\n",
    "  2. **BernoulliNB** applied on train vectors\n",
    "  3. Getting the important features\n",
    "  4. CountVectors for test data obtained\n",
    "  5. Applying model on test vectors to get performnce metrices\n",
    "  6. Done steps 2,3,4,5 with **MultinomilaNB**\n",
    "  \n",
    "- Repeating the above 6 steps of BagOfWords approach in **Tfidf** approach"
   ]
  },
  {
   "cell_type": "code",
   "execution_count": null,
   "metadata": {},
   "outputs": [],
   "source": []
  },
  {
   "cell_type": "code",
   "execution_count": null,
   "metadata": {},
   "outputs": [],
   "source": []
  },
  {
   "cell_type": "code",
   "execution_count": null,
   "metadata": {},
   "outputs": [],
   "source": []
  }
 ],
 "metadata": {
  "kernelspec": {
   "display_name": "Python 3",
   "language": "python",
   "name": "python3"
  },
  "language_info": {
   "codemirror_mode": {
    "name": "ipython",
    "version": 3
   },
   "file_extension": ".py",
   "mimetype": "text/x-python",
   "name": "python",
   "nbconvert_exporter": "python",
   "pygments_lexer": "ipython3",
   "version": "3.6.4"
  }
 },
 "nbformat": 4,
 "nbformat_minor": 2
}
