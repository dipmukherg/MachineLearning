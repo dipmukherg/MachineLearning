{
 "cells": [
  {
   "cell_type": "markdown",
   "metadata": {},
   "source": [
    "## Excercise: Applying Logistic Regression on Amazon Food Review Dataset"
   ]
  },
  {
   "cell_type": "markdown",
   "metadata": {},
   "source": [
    "#### Importing Libraries"
   ]
  },
  {
   "cell_type": "code",
   "execution_count": 1,
   "metadata": {},
   "outputs": [],
   "source": [
    "import pandas as pd\n",
    "import numpy as np\n",
    "import matplotlib.pyplot as plt\n",
    "import seaborn as sns\n",
    "import sqlite3\n",
    "import sklearn\n",
    "from sklearn.preprocessing import StandardScaler"
   ]
  },
  {
   "cell_type": "markdown",
   "metadata": {},
   "source": [
    "#### Loading the Dataset"
   ]
  },
  {
   "cell_type": "code",
   "execution_count": 2,
   "metadata": {},
   "outputs": [],
   "source": [
    "con = sqlite3.connect('database.sqlite')\n",
    "\n",
    "filtered_data = pd.read_sql_query(\"\"\"\n",
    "SELECT * \n",
    "FROM Reviews\n",
    "WHERE Score!=3\"\"\",con)\n"
   ]
  },
  {
   "cell_type": "code",
   "execution_count": 3,
   "metadata": {},
   "outputs": [],
   "source": [
    "actual_score = filtered_data['Score']\n",
    "\n",
    "def partition(x):\n",
    "    if x < 3:\n",
    "        return 'negative'\n",
    "    return 'positive'\n",
    "\n",
    "\n",
    "filtered_data['Score']=filtered_data['Score'].map(partition)"
   ]
  },
  {
   "cell_type": "markdown",
   "metadata": {},
   "source": [
    "#### Sorting the Data based on Time"
   ]
  },
  {
   "cell_type": "code",
   "execution_count": 4,
   "metadata": {},
   "outputs": [],
   "source": [
    "sorted_data = filtered_data.sort_values(\"Time\",axis=0,ascending=True)\n",
    "\n",
    "final = filtered_data.drop_duplicates(subset={'UserId','Time','ProfileName','Text'},keep='first',inplace=False)\n",
    "\n",
    "#### Duplicate datas have been discarded\n",
    "\n",
    "final = final[final.HelpfulnessNumerator<=final.HelpfulnessDenominator]"
   ]
  },
  {
   "cell_type": "code",
   "execution_count": 5,
   "metadata": {},
   "outputs": [],
   "source": [
    "from sklearn.feature_extraction.text import CountVectorizer\n",
    "from sklearn.feature_extraction.text import TfidfVectorizer\n",
    "import nltk"
   ]
  },
  {
   "cell_type": "markdown",
   "metadata": {},
   "source": [
    "#### Data Ceaning and Preprocessing"
   ]
  },
  {
   "cell_type": "code",
   "execution_count": 6,
   "metadata": {},
   "outputs": [],
   "source": [
    "from nltk.corpus import stopwords\n",
    "stop = set(stopwords.words('english'))\n",
    "\n",
    "\n",
    "stop.remove('not')\n"
   ]
  },
  {
   "cell_type": "code",
   "execution_count": 7,
   "metadata": {},
   "outputs": [],
   "source": [
    "snb = nltk.stem.SnowballStemmer('english')\n"
   ]
  },
  {
   "cell_type": "code",
   "execution_count": 8,
   "metadata": {},
   "outputs": [],
   "source": [
    "import re\n",
    "\n",
    "def cleanhtml(sentence):\n",
    "    cleanr = re.compile('<.*?>')\n",
    "    cleantxt = re.sub(cleanr,' ',sentence)\n",
    "    return cleantxt\n",
    "def cleanpunc(sentence):\n",
    "    cleaned = re.sub(r'[?|!|\\|\\'|\"|#]',r' ',sentence)\n",
    "    cleaned = re.sub(r'[.|,|)|(|\\|/]',r' ',cleaned)\n",
    "    return cleaned                 \n"
   ]
  },
  {
   "cell_type": "code",
   "execution_count": 9,
   "metadata": {},
   "outputs": [],
   "source": [
    "i=0\n",
    "str1=''\n",
    "final_string = []\n",
    "all_positive_words = []\n",
    "all_negative_words = []\n",
    "s = ''\n",
    "for sent in final['Text'].values:\n",
    "    filtered_sentence = []\n",
    "    sent = cleanhtml(sent)\n",
    "    for w in sent.split(\" \"):\n",
    "        for cleaned_words in cleanpunc(w).split():\n",
    "            if((cleaned_words.isalpha())&(len(cleaned_words)>2)):\n",
    "                if(cleaned_words.lower() not in stop):\n",
    "                    s=cleaned_words.lower()\n",
    "                    filtered_sentence.append(s)\n",
    "                    if (final['Score'].values)[i]=='positive':\n",
    "                        all_positive_words.append(s)\n",
    "                    if (final['Score'].values)[i]=='negative':\n",
    "                        all_negative_words.append(s)\n",
    "                else:\n",
    "                    continue\n",
    "        else:\n",
    "            continue\n",
    "    str1 = \" \".join(filtered_sentence)\n",
    "    final_string.append(str1)\n",
    "    i+=1\n",
    "    "
   ]
  },
  {
   "cell_type": "code",
   "execution_count": 10,
   "metadata": {},
   "outputs": [],
   "source": [
    "final_df = pd.DataFrame(final_string)\n",
    "\n",
    "final_df['Time']=final['Time']\n",
    "\n",
    "final_df['Score']=final['Score']"
   ]
  },
  {
   "cell_type": "code",
   "execution_count": 11,
   "metadata": {},
   "outputs": [],
   "source": [
    "final_df.dropna(axis=0,inplace=True)"
   ]
  },
  {
   "cell_type": "code",
   "execution_count": 12,
   "metadata": {},
   "outputs": [],
   "source": [
    "final_df['Score']=final_df['Score'].map({'positive':1,'negative':-1})"
   ]
  },
  {
   "cell_type": "code",
   "execution_count": 13,
   "metadata": {},
   "outputs": [
    {
     "data": {
      "text/plain": [
       "(265265, 3)"
      ]
     },
     "execution_count": 13,
     "metadata": {},
     "output_type": "execute_result"
    }
   ],
   "source": [
    "final_df.shape"
   ]
  },
  {
   "cell_type": "code",
   "execution_count": 14,
   "metadata": {},
   "outputs": [
    {
     "data": {
      "text/html": [
       "<div>\n",
       "<style scoped>\n",
       "    .dataframe tbody tr th:only-of-type {\n",
       "        vertical-align: middle;\n",
       "    }\n",
       "\n",
       "    .dataframe tbody tr th {\n",
       "        vertical-align: top;\n",
       "    }\n",
       "\n",
       "    .dataframe thead th {\n",
       "        text-align: right;\n",
       "    }\n",
       "</style>\n",
       "<table border=\"1\" class=\"dataframe\">\n",
       "  <thead>\n",
       "    <tr style=\"text-align: right;\">\n",
       "      <th></th>\n",
       "      <th>0</th>\n",
       "      <th>Time</th>\n",
       "      <th>Score</th>\n",
       "    </tr>\n",
       "  </thead>\n",
       "  <tbody>\n",
       "    <tr>\n",
       "      <th>0</th>\n",
       "      <td>bought several vitality canned dog food produc...</td>\n",
       "      <td>1.303862e+09</td>\n",
       "      <td>1</td>\n",
       "    </tr>\n",
       "    <tr>\n",
       "      <th>1</th>\n",
       "      <td>product arrived labeled jumbo salted peanuts p...</td>\n",
       "      <td>1.346976e+09</td>\n",
       "      <td>-1</td>\n",
       "    </tr>\n",
       "    <tr>\n",
       "      <th>2</th>\n",
       "      <td>confection around centuries light pillowy citr...</td>\n",
       "      <td>1.219018e+09</td>\n",
       "      <td>1</td>\n",
       "    </tr>\n",
       "    <tr>\n",
       "      <th>3</th>\n",
       "      <td>looking secret ingredient robitussin believe f...</td>\n",
       "      <td>1.307923e+09</td>\n",
       "      <td>-1</td>\n",
       "    </tr>\n",
       "    <tr>\n",
       "      <th>4</th>\n",
       "      <td>great taffy great price wide assortment yummy ...</td>\n",
       "      <td>1.350778e+09</td>\n",
       "      <td>1</td>\n",
       "    </tr>\n",
       "  </tbody>\n",
       "</table>\n",
       "</div>"
      ],
      "text/plain": [
       "                                                   0          Time  Score\n",
       "0  bought several vitality canned dog food produc...  1.303862e+09      1\n",
       "1  product arrived labeled jumbo salted peanuts p...  1.346976e+09     -1\n",
       "2  confection around centuries light pillowy citr...  1.219018e+09      1\n",
       "3  looking secret ingredient robitussin believe f...  1.307923e+09     -1\n",
       "4  great taffy great price wide assortment yummy ...  1.350778e+09      1"
      ]
     },
     "execution_count": 14,
     "metadata": {},
     "output_type": "execute_result"
    }
   ],
   "source": [
    "final_df.head(5)"
   ]
  },
  {
   "cell_type": "code",
   "execution_count": 15,
   "metadata": {},
   "outputs": [],
   "source": [
    "X=final_df[0].values\n",
    "y=final_df[\"Score\"].values"
   ]
  },
  {
   "cell_type": "code",
   "execution_count": null,
   "metadata": {},
   "outputs": [],
   "source": []
  },
  {
   "cell_type": "markdown",
   "metadata": {},
   "source": [
    "#### Splitting Processed Data into 80% Train set and 20% Test set"
   ]
  },
  {
   "cell_type": "code",
   "execution_count": 16,
   "metadata": {},
   "outputs": [],
   "source": [
    "X_1=X[0:212212]\n",
    "y_1=y[0:212212]\n",
    "X_test=X[212212:265265]\n",
    "y_test=y[212212:265265]"
   ]
  },
  {
   "cell_type": "code",
   "execution_count": null,
   "metadata": {},
   "outputs": [],
   "source": []
  },
  {
   "cell_type": "markdown",
   "metadata": {},
   "source": [
    "#### 1.Bag of Words Method"
   ]
  },
  {
   "cell_type": "code",
   "execution_count": null,
   "metadata": {},
   "outputs": [],
   "source": []
  },
  {
   "cell_type": "code",
   "execution_count": 17,
   "metadata": {},
   "outputs": [],
   "source": [
    "count_vect = CountVectorizer()\n",
    "final_counts_X1 = count_vect.fit_transform(X_1)\n",
    "#### Got Bag of Words for X-train data"
   ]
  },
  {
   "cell_type": "code",
   "execution_count": 18,
   "metadata": {},
   "outputs": [],
   "source": [
    "final_counts_Xtest= count_vect.transform(X_test)\n",
    "#### Got Bag of Words for X-train data"
   ]
  },
  {
   "cell_type": "code",
   "execution_count": 19,
   "metadata": {},
   "outputs": [
    {
     "name": "stderr",
     "output_type": "stream",
     "text": [
      "C:\\Users\\Dipayan\\Anaconda3\\lib\\site-packages\\sklearn\\cross_validation.py:41: DeprecationWarning: This module was deprecated in version 0.18 in favor of the model_selection module into which all the refactored classes and functions are moved. Also note that the interface of the new CV iterators are different from that of this module. This module will be removed in 0.20.\n",
      "  \"This module will be removed in 0.20.\", DeprecationWarning)\n",
      "C:\\Users\\Dipayan\\Anaconda3\\lib\\site-packages\\sklearn\\grid_search.py:42: DeprecationWarning: This module was deprecated in version 0.18 in favor of the model_selection module into which all the refactored classes and functions are moved. This module will be removed in 0.20.\n",
      "  DeprecationWarning)\n"
     ]
    }
   ],
   "source": [
    "from sklearn.grid_search import GridSearchCV\n",
    "from sklearn.linear_model import LogisticRegression"
   ]
  },
  {
   "cell_type": "code",
   "execution_count": null,
   "metadata": {},
   "outputs": [],
   "source": []
  },
  {
   "cell_type": "markdown",
   "metadata": {},
   "source": [
    "#### 1.1.Column Standardization"
   ]
  },
  {
   "cell_type": "code",
   "execution_count": 20,
   "metadata": {},
   "outputs": [],
   "source": [
    "colstd1=StandardScaler(with_mean=False)"
   ]
  },
  {
   "cell_type": "code",
   "execution_count": 21,
   "metadata": {
    "scrolled": true
   },
   "outputs": [
    {
     "name": "stderr",
     "output_type": "stream",
     "text": [
      "C:\\Users\\Dipayan\\Anaconda3\\lib\\site-packages\\sklearn\\utils\\validation.py:475: DataConversionWarning: Data with input dtype int64 was converted to float64 by StandardScaler.\n",
      "  warnings.warn(msg, DataConversionWarning)\n"
     ]
    }
   ],
   "source": [
    "final_counts_X1=colstd1.fit_transform(final_counts_X1)"
   ]
  },
  {
   "cell_type": "code",
   "execution_count": null,
   "metadata": {},
   "outputs": [],
   "source": []
  },
  {
   "cell_type": "code",
   "execution_count": 22,
   "metadata": {},
   "outputs": [],
   "source": [
    "colstd2=StandardScaler(with_mean=False)"
   ]
  },
  {
   "cell_type": "code",
   "execution_count": 23,
   "metadata": {
    "scrolled": true
   },
   "outputs": [
    {
     "name": "stderr",
     "output_type": "stream",
     "text": [
      "C:\\Users\\Dipayan\\Anaconda3\\lib\\site-packages\\sklearn\\utils\\validation.py:475: DataConversionWarning: Data with input dtype int64 was converted to float64 by StandardScaler.\n",
      "  warnings.warn(msg, DataConversionWarning)\n"
     ]
    }
   ],
   "source": [
    "final_counts_Xtest=colstd2.fit_transform(final_counts_Xtest)"
   ]
  },
  {
   "cell_type": "code",
   "execution_count": null,
   "metadata": {},
   "outputs": [],
   "source": []
  },
  {
   "cell_type": "markdown",
   "metadata": {},
   "source": [
    "#### 1.2 GridSearchCV"
   ]
  },
  {
   "cell_type": "code",
   "execution_count": 24,
   "metadata": {},
   "outputs": [],
   "source": [
    "tuned_parameters=[{'C':[10**-4,10**-2,10**-0,10**-2,10**4]}]"
   ]
  },
  {
   "cell_type": "code",
   "execution_count": 30,
   "metadata": {
    "scrolled": true
   },
   "outputs": [
    {
     "data": {
      "text/plain": [
       "GridSearchCV(cv=None, error_score='raise',\n",
       "       estimator=LogisticRegression(C=1.0, class_weight=None, dual=False, fit_intercept=True,\n",
       "          intercept_scaling=1, max_iter=100, multi_class='ovr', n_jobs=1,\n",
       "          penalty='l2', random_state=None, solver='liblinear', tol=0.0001,\n",
       "          verbose=0, warm_start=False),\n",
       "       fit_params={}, iid=True, n_jobs=1,\n",
       "       param_grid=[{'C': [0.0001, 0.01, 1, 0.01, 10000]}],\n",
       "       pre_dispatch='2*n_jobs', refit=True, scoring='f1', verbose=0)"
      ]
     },
     "execution_count": 30,
     "metadata": {},
     "output_type": "execute_result"
    }
   ],
   "source": [
    "model = GridSearchCV(LogisticRegression(),tuned_parameters,scoring='f1')\n",
    "model.fit(final_counts_X1,y_1)"
   ]
  },
  {
   "cell_type": "code",
   "execution_count": 32,
   "metadata": {},
   "outputs": [
    {
     "data": {
      "text/plain": [
       "(53053, 40602)"
      ]
     },
     "execution_count": 32,
     "metadata": {},
     "output_type": "execute_result"
    }
   ],
   "source": [
    "final_counts_Xtest.shape"
   ]
  },
  {
   "cell_type": "code",
   "execution_count": 34,
   "metadata": {},
   "outputs": [
    {
     "data": {
      "text/plain": [
       "(53053,)"
      ]
     },
     "execution_count": 34,
     "metadata": {},
     "output_type": "execute_result"
    }
   ],
   "source": [
    "y_test.shape"
   ]
  },
  {
   "cell_type": "code",
   "execution_count": 29,
   "metadata": {},
   "outputs": [],
   "source": [
    "from sklearn import metrics"
   ]
  },
  {
   "cell_type": "markdown",
   "metadata": {},
   "source": [
    "#### From GridSearchCV got C value 0.01"
   ]
  },
  {
   "cell_type": "markdown",
   "metadata": {},
   "source": [
    "#### 1.2.1. Applying Logistic Regression with derived C value"
   ]
  },
  {
   "cell_type": "code",
   "execution_count": 25,
   "metadata": {},
   "outputs": [
    {
     "data": {
      "text/plain": [
       "LogisticRegression(C=0.01, class_weight=None, dual=False, fit_intercept=True,\n",
       "          intercept_scaling=1, max_iter=100, multi_class='ovr', n_jobs=1,\n",
       "          penalty='l2', random_state=None, solver='liblinear', tol=0.0001,\n",
       "          verbose=0, warm_start=False)"
      ]
     },
     "execution_count": 25,
     "metadata": {},
     "output_type": "execute_result"
    }
   ],
   "source": [
    "LR=LogisticRegression(C=0.01)\n",
    "LR.fit(final_counts_X1,y_1)"
   ]
  },
  {
   "cell_type": "code",
   "execution_count": 26,
   "metadata": {},
   "outputs": [
    {
     "data": {
      "text/plain": [
       "array([[ 0.00671668,  0.00403491, -0.01857439, ...,  0.00324124,\n",
       "         0.00023973,  0.012888  ]])"
      ]
     },
     "execution_count": 26,
     "metadata": {},
     "output_type": "execute_result"
    }
   ],
   "source": [
    "LR.coef_"
   ]
  },
  {
   "cell_type": "code",
   "execution_count": 27,
   "metadata": {},
   "outputs": [],
   "source": [
    "LR_W1=LR.coef_"
   ]
  },
  {
   "cell_type": "code",
   "execution_count": null,
   "metadata": {},
   "outputs": [],
   "source": []
  },
  {
   "cell_type": "code",
   "execution_count": 30,
   "metadata": {},
   "outputs": [],
   "source": [
    "tn,fn,fp,fn=metrics.confusion_matrix(y_test,LR.predict(final_counts_Xtest)).ravel()"
   ]
  },
  {
   "cell_type": "code",
   "execution_count": 31,
   "metadata": {},
   "outputs": [],
   "source": [
    "prec = metrics.precision_score(y_test,LR.predict(final_counts_Xtest))"
   ]
  },
  {
   "cell_type": "code",
   "execution_count": 32,
   "metadata": {},
   "outputs": [],
   "source": [
    "recall= metrics.recall_score(y_test,LR.predict(final_counts_Xtest))"
   ]
  },
  {
   "cell_type": "code",
   "execution_count": 33,
   "metadata": {},
   "outputs": [],
   "source": [
    "f1 = metrics.f1_score(y_test,LR.predict(final_counts_Xtest))"
   ]
  },
  {
   "cell_type": "code",
   "execution_count": 34,
   "metadata": {},
   "outputs": [],
   "source": [
    "accuracy= metrics.accuracy_score(y_test,LR.predict(final_counts_Xtest))"
   ]
  },
  {
   "cell_type": "code",
   "execution_count": 35,
   "metadata": {},
   "outputs": [],
   "source": [
    "specificity = tn/float(tn+fp)"
   ]
  },
  {
   "cell_type": "code",
   "execution_count": 36,
   "metadata": {},
   "outputs": [],
   "source": [
    "neg_pred_value = tn/float(tn+fn)"
   ]
  },
  {
   "cell_type": "code",
   "execution_count": 46,
   "metadata": {},
   "outputs": [],
   "source": [
    "performance_table = pd.DataFrame({'Accuracy Score':[accuracy],'Precision':[prec],'Recall':[recall],'F1_Score':[f1],'Specificity':[specificity],'Negative_Predicted_Value':[neg_pred_value]},index=['BoW_GridSearch'])"
   ]
  },
  {
   "cell_type": "code",
   "execution_count": 47,
   "metadata": {},
   "outputs": [
    {
     "data": {
      "text/html": [
       "<div>\n",
       "<style scoped>\n",
       "    .dataframe tbody tr th:only-of-type {\n",
       "        vertical-align: middle;\n",
       "    }\n",
       "\n",
       "    .dataframe tbody tr th {\n",
       "        vertical-align: top;\n",
       "    }\n",
       "\n",
       "    .dataframe thead th {\n",
       "        text-align: right;\n",
       "    }\n",
       "</style>\n",
       "<table border=\"1\" class=\"dataframe\">\n",
       "  <thead>\n",
       "    <tr style=\"text-align: right;\">\n",
       "      <th></th>\n",
       "      <th>Accuracy Score</th>\n",
       "      <th>Precision</th>\n",
       "      <th>Recall</th>\n",
       "      <th>F1_Score</th>\n",
       "      <th>Specificity</th>\n",
       "      <th>Negative_Predicted_Value</th>\n",
       "    </tr>\n",
       "  </thead>\n",
       "  <tbody>\n",
       "    <tr>\n",
       "      <th>BoW_GridSearch</th>\n",
       "      <td>0.800501</td>\n",
       "      <td>0.843852</td>\n",
       "      <td>0.936737</td>\n",
       "      <td>0.887872</td>\n",
       "      <td>0.166421</td>\n",
       "      <td>0.013304</td>\n",
       "    </tr>\n",
       "  </tbody>\n",
       "</table>\n",
       "</div>"
      ],
      "text/plain": [
       "                Accuracy Score  Precision    Recall  F1_Score  Specificity  \\\n",
       "BoW_GridSearch        0.800501   0.843852  0.936737  0.887872     0.166421   \n",
       "\n",
       "                Negative_Predicted_Value  \n",
       "BoW_GridSearch                  0.013304  "
      ]
     },
     "execution_count": 47,
     "metadata": {},
     "output_type": "execute_result"
    }
   ],
   "source": [
    "performance_table"
   ]
  },
  {
   "cell_type": "code",
   "execution_count": 40,
   "metadata": {},
   "outputs": [],
   "source": [
    "con_matrix=metrics.confusion_matrix(y_test,LR.predict(final_counts_Xtest))"
   ]
  },
  {
   "cell_type": "code",
   "execution_count": 41,
   "metadata": {},
   "outputs": [],
   "source": [
    "import seaborn as sns"
   ]
  },
  {
   "cell_type": "code",
   "execution_count": 42,
   "metadata": {},
   "outputs": [],
   "source": [
    "df_con = pd.DataFrame(con_matrix.T,columns=['Negative','Positive'],index=['Negative','Positive'])"
   ]
  },
  {
   "cell_type": "code",
   "execution_count": 43,
   "metadata": {},
   "outputs": [],
   "source": [
    "y_pred_prob=LR.predict_proba(final_counts_Xtest)"
   ]
  },
  {
   "cell_type": "code",
   "execution_count": null,
   "metadata": {},
   "outputs": [],
   "source": []
  },
  {
   "cell_type": "code",
   "execution_count": 44,
   "metadata": {},
   "outputs": [],
   "source": [
    "fpr, tpr, thresholds = metrics.roc_curve(y_test, y_pred_prob[:,1], pos_label=1)"
   ]
  },
  {
   "cell_type": "code",
   "execution_count": 45,
   "metadata": {},
   "outputs": [
    {
     "data": {
      "image/png": "[encoded data removed]",
      "text/plain": [
       "<Figure size 864x360 with 3 Axes>"
      ]
     },
     "metadata": {},
     "output_type": "display_data"
    }
   ],
   "source": [
    "plt.figure(figsize=(12,5))\n",
    "plt.subplot(121)\n",
    "plt.title('Confusion Matrix')\n",
    "sns.heatmap(df_con,annot=True,fmt='g')\n",
    "plt.subplot(122)\n",
    "lw = 2\n",
    "plt.plot(fpr, tpr, color='darkorange',\n",
    "         lw=lw, label='ROC curve (area = %0.2f)')\n",
    "#plt.plot([0, 1], [0, 1], color='navy', lw=lw, linestyle='--')\n",
    "plt.xlim([0.0, 1.0])\n",
    "plt.ylim([0.0, 1.05])\n",
    "plt.xlabel('False Positive Rate')\n",
    "plt.ylabel('True Positive Rate')\n",
    "plt.title('Receiver operating characteristic')\n",
    "plt.legend(loc=\"lower right\")\n",
    "plt.show()"
   ]
  },
  {
   "cell_type": "markdown",
   "metadata": {},
   "source": [
    "#### 1.2.2. Pertubation Test"
   ]
  },
  {
   "cell_type": "code",
   "execution_count": 49,
   "metadata": {},
   "outputs": [],
   "source": [
    "e=np.random.normal(0.03,0.02)"
   ]
  },
  {
   "cell_type": "code",
   "execution_count": 50,
   "metadata": {},
   "outputs": [
    {
     "data": {
      "text/plain": [
       "0.02416715357579568"
      ]
     },
     "execution_count": 50,
     "metadata": {},
     "output_type": "execute_result"
    }
   ],
   "source": [
    "e"
   ]
  },
  {
   "cell_type": "code",
   "execution_count": null,
   "metadata": {},
   "outputs": [],
   "source": []
  },
  {
   "cell_type": "code",
   "execution_count": 51,
   "metadata": {},
   "outputs": [],
   "source": [
    "final_counts_X1.data+=e\n"
   ]
  },
  {
   "cell_type": "code",
   "execution_count": 52,
   "metadata": {},
   "outputs": [
    {
     "data": {
      "text/plain": [
       "LogisticRegression(C=0.0001, class_weight=None, dual=False,\n",
       "          fit_intercept=True, intercept_scaling=1, max_iter=100,\n",
       "          multi_class='ovr', n_jobs=1, penalty='l2', random_state=None,\n",
       "          solver='liblinear', tol=0.0001, verbose=0, warm_start=False)"
      ]
     },
     "execution_count": 52,
     "metadata": {},
     "output_type": "execute_result"
    }
   ],
   "source": [
    "LR1=LogisticRegression(C=0.0001)\n",
    "LR1.fit(final_counts_X1,y_1)"
   ]
  },
  {
   "cell_type": "code",
   "execution_count": 53,
   "metadata": {},
   "outputs": [
    {
     "data": {
      "text/plain": [
       "array([[-0.00029529,  0.00183665, -0.006702  , ...,  0.00163506,\n",
       "         0.0003643 ,  0.00506116]])"
      ]
     },
     "execution_count": 53,
     "metadata": {},
     "output_type": "execute_result"
    }
   ],
   "source": [
    "LR1.coef_"
   ]
  },
  {
   "cell_type": "code",
   "execution_count": 54,
   "metadata": {},
   "outputs": [],
   "source": [
    "LR1_W1=LR1.coef_"
   ]
  },
  {
   "cell_type": "code",
   "execution_count": 55,
   "metadata": {},
   "outputs": [
    {
     "data": {
      "text/plain": [
       "array([[ 0.00671668,  0.00403491, -0.01857439, ...,  0.00324124,\n",
       "         0.00023973,  0.012888  ]])"
      ]
     },
     "execution_count": 55,
     "metadata": {},
     "output_type": "execute_result"
    }
   ],
   "source": [
    "LR_W1"
   ]
  },
  {
   "cell_type": "code",
   "execution_count": 56,
   "metadata": {},
   "outputs": [],
   "source": [
    "LR_W_Diff = LR_W1-LR1_W1 "
   ]
  },
  {
   "cell_type": "markdown",
   "metadata": {},
   "source": [
    "Array containing the difference between each term of two coefficient matrices before and after adding impurity"
   ]
  },
  {
   "cell_type": "code",
   "execution_count": 57,
   "metadata": {},
   "outputs": [
    {
     "data": {
      "text/plain": [
       "0.08149656449871504"
      ]
     },
     "execution_count": 57,
     "metadata": {},
     "output_type": "execute_result"
    }
   ],
   "source": [
    "max(np.absolute(LR_W_Diff[LR_W_Diff!=0]))"
   ]
  },
  {
   "cell_type": "code",
   "execution_count": 58,
   "metadata": {},
   "outputs": [
    {
     "data": {
      "text/plain": [
       "3.170893620862026e-08"
      ]
     },
     "execution_count": 58,
     "metadata": {},
     "output_type": "execute_result"
    }
   ],
   "source": [
    "min(np.absolute(LR_W_Diff[LR_W_Diff!=0]))"
   ]
  },
  {
   "cell_type": "markdown",
   "metadata": {},
   "source": [
    "#### Maximum and minimum difference between coefficient terms are very small. So it can be concluded features are linearly independent"
   ]
  },
  {
   "cell_type": "code",
   "execution_count": 59,
   "metadata": {},
   "outputs": [
    {
     "data": {
      "text/plain": [
       "0.005845506783838765"
      ]
     },
     "execution_count": 59,
     "metadata": {},
     "output_type": "execute_result"
    }
   ],
   "source": [
    "np.mean(np.absolute(LR_W_Diff[LR_W_Diff!=0]))"
   ]
  },
  {
   "cell_type": "code",
   "execution_count": 60,
   "metadata": {},
   "outputs": [],
   "source": [
    "final_counts_X1.data-=e"
   ]
  },
  {
   "cell_type": "code",
   "execution_count": null,
   "metadata": {},
   "outputs": [],
   "source": []
  },
  {
   "cell_type": "markdown",
   "metadata": {},
   "source": [
    "#### 1.2.3 Feature importance"
   ]
  },
  {
   "cell_type": "code",
   "execution_count": 64,
   "metadata": {},
   "outputs": [],
   "source": [
    "coeff_sorted_pos = LR.coef_.argsort()\n",
    "coeff_neg=-1*(LR.coef_)\n",
    "coeff_sorted_neg = coeff_neg.argsort()"
   ]
  },
  {
   "cell_type": "code",
   "execution_count": 75,
   "metadata": {},
   "outputs": [],
   "source": [
    "df1=pd.DataFrame((np.take(count_vect.get_feature_names(), coeff_sorted_pos[:100])).ravel())\n",
    "df2=pd.DataFrame((np.take(count_vect.get_feature_names(), coeff_sorted_neg[:100])).ravel())"
   ]
  },
  {
   "cell_type": "code",
   "execution_count": 87,
   "metadata": {},
   "outputs": [],
   "source": [
    "pos_list=[]\n",
    "for item in df1[0]:\n",
    "    pos_list.append(item)\n",
    "neg_list=[]\n",
    "for item in df2[0]:\n",
    "    neg_list.append(item)"
   ]
  },
  {
   "cell_type": "code",
   "execution_count": 164,
   "metadata": {},
   "outputs": [
    {
     "name": "stdout",
     "output_type": "stream",
     "text": [
      "=========================================== Important features for positive class ===========================================\n",
      "\n",
      "\n",
      "['jitter', 'skewed', 'parking', 'bugles', 'kickin', 'acid', 'wildfire', 'arbitrary', 'affliction', 'vine', 'wisecrackers', 'bowl', 'overnights', 'mid', 'pest', 'cargo', 'shakers', 'litter', 'grays', 'nodoz', 'thickeners', 'pringles', 'liberal', 'busters', 'estatic', 'explains', 'quibbles', 'vanillery', 'prepartion', 'kisser', 'strenuous', 'losses', 'tbs', 'condoms', 'puddings', 'itchiness', 'mysteriously', 'wiskas', 'pitching', 'nine', 'digest', 'hydroponics', 'convent', 'effectiveness', 'speeding', 'artificiality', 'chillis', 'flashing', 'mooccan', 'sizzling', 'pryidoxine', 'vibration', 'overpowered', 'bonsais', 'clicking', 'phu', 'configured', 'chocoperfection', 'smartbalance', 'unpopped', 'path', 'unboxing', 'counties', 'achy', 'bloodhounds', 'savvy', 'diseased', 'damning', 'woolworth', 'pastor', 'faces', 'producers', 'betrayal', 'pearl', 'handier', 'defeat', 'indians', 'emollient', 'coasts', 'downtime', 'spathyfillum', 'affinity', 'discretely', 'shoot', 'longish', 'mirrors', 'misunderstand', 'executed', 'aided', 'nat', 'wiring', 'humid', 'saddens', 'regardless', 'tanks', 'pees', 'raya', 'vitamuffin', 'reddiwip', 'chokecherry']\n",
      "\n",
      "\n",
      "\n",
      "\n",
      "=========================================== Important features for negative class ===========================================\n",
      "\n",
      "\n",
      "['good', 'great', 'best', 'love', 'product', 'not', 'like', 'loves', 'delicious', 'coffee', 'buy', 'tea', 'favorite', 'use', 'price', 'dog', 'dogs', 'loved', 'gift', 'oatmeal', 'flavor', 'nice', 'quality', 'enjoy', 'snack', 'better', 'cookies', 'tell', 'thanks', 'tasty', 'yummy', 'get', 'excellent', 'purchase', 'coconut', 'longer', 'order', 'quickly', 'cats', 'stores', 'without', 'rice', 'soup', 'wonderful', 'wish', 'got', 'worth', 'small', 'mio', 'cheaper', 'toy', 'awesome', 'ordered', 'arrived', 'perfect', 'little', 'snacks', 'tuna', 'hide', 'taste', 'literally', 'buying', 'honey', 'catnip', 'rope', 'support', 'well', 'glad', 'marinade', 'syrup', 'son', 'likes', 'low', 'drink', 'picture', 'stuff', 'recommend', 'shampoo', 'defective', 'healthy', 'decaf', 'produced', 'energy', 'ireland', 'happy', 'fresh', 'pallet', 'way', 'hooked', 'gum', 'dry', 'works', 'bold', 'jerky', 'popcorn', 'grade', 'waffles', 'item', 'job', 'formula']\n",
      "\n",
      "\n",
      "=============================================================================================================================\n"
     ]
    }
   ],
   "source": [
    "print(\"=\"*43,'Important features for positive class',\"=\"*43)\n",
    "print(\"\\n\")\n",
    "print(pos_list[:100])\n",
    "print(\"\\n\")\n",
    "print(\"\\n\")\n",
    "print(\"=\"*43,'Important features for negative class',\"=\"*43)\n",
    "print(\"\\n\")\n",
    "print(neg_list[:100])\n",
    "print(\"\\n\")\n",
    "print(\"=\"*125)\n"
   ]
  },
  {
   "cell_type": "code",
   "execution_count": null,
   "metadata": {},
   "outputs": [],
   "source": []
  },
  {
   "cell_type": "markdown",
   "metadata": {},
   "source": [
    "#### 1.3. RandomizedSearchCV"
   ]
  },
  {
   "cell_type": "code",
   "execution_count": 56,
   "metadata": {},
   "outputs": [],
   "source": [
    "import scipy"
   ]
  },
  {
   "cell_type": "code",
   "execution_count": 57,
   "metadata": {
    "scrolled": true
   },
   "outputs": [
    {
     "data": {
      "text/plain": [
       "RandomizedSearchCV(cv=None, error_score='raise',\n",
       "          estimator=LogisticRegression(C=1.0, class_weight=None, dual=False, fit_intercept=True,\n",
       "          intercept_scaling=1, max_iter=100, multi_class='ovr', n_jobs=1,\n",
       "          penalty='l2', random_state=None, solver='liblinear', tol=0.0001,\n",
       "          verbose=0, warm_start=False),\n",
       "          fit_params=None, iid=True, n_iter=10, n_jobs=2,\n",
       "          param_distributions={'C': <scipy.stats._distn_infrastructure.rv_frozen object at 0x0000024DC1CABC50>},\n",
       "          pre_dispatch='2*n_jobs', random_state=None, refit=True,\n",
       "          return_train_score='warn', scoring='f1', verbose=0)"
      ]
     },
     "execution_count": 57,
     "metadata": {},
     "output_type": "execute_result"
    }
   ],
   "source": [
    "from sklearn.model_selection import RandomizedSearchCV\n",
    "param_dist={'C':scipy.stats.uniform(10**-4,10**4)}\n",
    "model2=RandomizedSearchCV(LogisticRegression(),param_dist,scoring='f1',n_jobs=2)\n",
    "model2.fit(final_counts_X1,y_1)"
   ]
  },
  {
   "cell_type": "code",
   "execution_count": 58,
   "metadata": {
    "scrolled": true
   },
   "outputs": [
    {
     "name": "stdout",
     "output_type": "stream",
     "text": [
      "LogisticRegression(C=240.529650814772, class_weight=None, dual=False,\n",
      "          fit_intercept=True, intercept_scaling=1, max_iter=100,\n",
      "          multi_class='ovr', n_jobs=1, penalty='l2', random_state=None,\n",
      "          solver='liblinear', tol=0.0001, verbose=0, warm_start=False)\n",
      "0.9149273420802356\n"
     ]
    }
   ],
   "source": [
    "print(model2.best_estimator_)\n",
    "print(model2.score(final_counts_Xtest,y_test))"
   ]
  },
  {
   "cell_type": "markdown",
   "metadata": {},
   "source": [
    "#### C value got from RandomizedSearchCV is 240.529"
   ]
  },
  {
   "cell_type": "markdown",
   "metadata": {},
   "source": [
    "#### 1.3.1 Applying Logistic Regression with derived C value"
   ]
  },
  {
   "cell_type": "code",
   "execution_count": 90,
   "metadata": {},
   "outputs": [
    {
     "data": {
      "text/plain": [
       "LogisticRegression(C=240.529, class_weight=None, dual=False,\n",
       "          fit_intercept=True, intercept_scaling=1, max_iter=100,\n",
       "          multi_class='ovr', n_jobs=1, penalty='l2', random_state=None,\n",
       "          solver='liblinear', tol=0.0001, verbose=0, warm_start=False)"
      ]
     },
     "execution_count": 90,
     "metadata": {},
     "output_type": "execute_result"
    }
   ],
   "source": [
    "LR=LogisticRegression(C=240.529)\n",
    "LR.fit(final_counts_X1,y_1)"
   ]
  },
  {
   "cell_type": "code",
   "execution_count": 91,
   "metadata": {},
   "outputs": [
    {
     "data": {
      "text/plain": [
       "array([[ 0.0075592 ,  0.00430582, -0.01980931, ...,  0.00344985,\n",
       "         0.0001931 ,  0.01322784]])"
      ]
     },
     "execution_count": 91,
     "metadata": {},
     "output_type": "execute_result"
    }
   ],
   "source": [
    "LR.coef_"
   ]
  },
  {
   "cell_type": "code",
   "execution_count": 92,
   "metadata": {},
   "outputs": [],
   "source": [
    "tn,fn,fp,fn=metrics.confusion_matrix(y_test,LR.predict(final_counts_Xtest)).ravel()"
   ]
  },
  {
   "cell_type": "code",
   "execution_count": 93,
   "metadata": {},
   "outputs": [],
   "source": [
    "prec = metrics.precision_score(y_test,LR.predict(final_counts_Xtest))"
   ]
  },
  {
   "cell_type": "code",
   "execution_count": 94,
   "metadata": {},
   "outputs": [],
   "source": [
    "recall= metrics.recall_score(y_test,LR.predict(final_counts_Xtest))"
   ]
  },
  {
   "cell_type": "code",
   "execution_count": 95,
   "metadata": {},
   "outputs": [],
   "source": [
    "f1 = metrics.f1_score(y_test,LR.predict(final_counts_Xtest))"
   ]
  },
  {
   "cell_type": "code",
   "execution_count": 96,
   "metadata": {},
   "outputs": [],
   "source": [
    "accuracy= metrics.accuracy_score(y_test,LR.predict(final_counts_Xtest))"
   ]
  },
  {
   "cell_type": "code",
   "execution_count": 97,
   "metadata": {},
   "outputs": [],
   "source": [
    "specificity = tn/float(tn+fp)"
   ]
  },
  {
   "cell_type": "code",
   "execution_count": 98,
   "metadata": {},
   "outputs": [],
   "source": [
    "neg_pred_value = tn/float(tn+fn)"
   ]
  },
  {
   "cell_type": "code",
   "execution_count": 99,
   "metadata": {},
   "outputs": [],
   "source": [
    "df1 = pd.DataFrame({'Accuracy Score':[accuracy],'Precision':[prec],'Recall':[recall],'F1_Score':[f1],'Specificity':[specificity],'Negative_Predicted_Value':[neg_pred_value]},index=['BoW_RandomSearch'])"
   ]
  },
  {
   "cell_type": "code",
   "execution_count": 100,
   "metadata": {},
   "outputs": [],
   "source": [
    "performance_table=performance_table.append(df1)"
   ]
  },
  {
   "cell_type": "code",
   "execution_count": 101,
   "metadata": {},
   "outputs": [],
   "source": [
    "con_matrix=metrics.confusion_matrix(y_test,LR.predict(final_counts_Xtest))"
   ]
  },
  {
   "cell_type": "code",
   "execution_count": 102,
   "metadata": {},
   "outputs": [],
   "source": [
    "import seaborn as sns"
   ]
  },
  {
   "cell_type": "code",
   "execution_count": 103,
   "metadata": {},
   "outputs": [],
   "source": [
    "df_con = pd.DataFrame(con_matrix.T,columns=['Negative','Positive'],index=['Negative','Positive'])"
   ]
  },
  {
   "cell_type": "code",
   "execution_count": 104,
   "metadata": {},
   "outputs": [],
   "source": [
    "y_pred_prob=LR.predict_proba(final_counts_Xtest)"
   ]
  },
  {
   "cell_type": "code",
   "execution_count": null,
   "metadata": {},
   "outputs": [],
   "source": []
  },
  {
   "cell_type": "code",
   "execution_count": 105,
   "metadata": {},
   "outputs": [],
   "source": [
    "fpr, tpr, thresholds = metrics.roc_curve(y_test, y_pred_prob[:,1], pos_label=1)"
   ]
  },
  {
   "cell_type": "code",
   "execution_count": 106,
   "metadata": {},
   "outputs": [
    {
     "data": {
      "image/png": "[encoded data removed]",
      "text/plain": [
       "<Figure size 864x360 with 3 Axes>"
      ]
     },
     "metadata": {},
     "output_type": "display_data"
    }
   ],
   "source": [
    "plt.figure(figsize=(12,5))\n",
    "plt.subplot(121)\n",
    "plt.title('Confusion Matrix')\n",
    "sns.heatmap(df_con,annot=True,fmt='g')\n",
    "plt.subplot(122)\n",
    "lw = 2\n",
    "plt.plot(fpr, tpr, color='darkorange',\n",
    "         lw=lw, label='ROC curve (area = %0.2f)')\n",
    "#plt.plot([0, 1], [0, 1], color='navy', lw=lw, linestyle='--')\n",
    "plt.xlim([0.0, 1.0])\n",
    "plt.ylim([0.0, 1.05])\n",
    "plt.xlabel('False Positive Rate')\n",
    "plt.ylabel('True Positive Rate')\n",
    "plt.title('Receiver operating characteristic')\n",
    "plt.legend(loc=\"lower right\")\n",
    "plt.show()"
   ]
  },
  {
   "cell_type": "markdown",
   "metadata": {},
   "source": [
    "#### 1.3.2 Pertubation Test"
   ]
  },
  {
   "cell_type": "code",
   "execution_count": 107,
   "metadata": {},
   "outputs": [],
   "source": [
    "e=np.random.normal(0.03,0.02)"
   ]
  },
  {
   "cell_type": "code",
   "execution_count": 108,
   "metadata": {},
   "outputs": [
    {
     "data": {
      "text/plain": [
       "0.0545639771095484"
      ]
     },
     "execution_count": 108,
     "metadata": {},
     "output_type": "execute_result"
    }
   ],
   "source": [
    "e"
   ]
  },
  {
   "cell_type": "code",
   "execution_count": 109,
   "metadata": {},
   "outputs": [],
   "source": [
    "final_counts_X1.data+=e\n"
   ]
  },
  {
   "cell_type": "code",
   "execution_count": 110,
   "metadata": {},
   "outputs": [
    {
     "data": {
      "text/plain": [
       "LogisticRegression(C=240.529, class_weight=None, dual=False,\n",
       "          fit_intercept=True, intercept_scaling=1, max_iter=100,\n",
       "          multi_class='ovr', n_jobs=1, penalty='l2', random_state=None,\n",
       "          solver='liblinear', tol=0.0001, verbose=0, warm_start=False)"
      ]
     },
     "execution_count": 110,
     "metadata": {},
     "output_type": "execute_result"
    }
   ],
   "source": [
    "LR1=LogisticRegression(C=240.529)\n",
    "LR1.fit(final_counts_X1,y_1)"
   ]
  },
  {
   "cell_type": "code",
   "execution_count": 111,
   "metadata": {},
   "outputs": [
    {
     "data": {
      "text/plain": [
       "array([[ 0.00736142,  0.00429513, -0.01929331, ...,  0.00343743,\n",
       "         0.00067565,  0.01243988]])"
      ]
     },
     "execution_count": 111,
     "metadata": {},
     "output_type": "execute_result"
    }
   ],
   "source": [
    "LR1.coef_"
   ]
  },
  {
   "cell_type": "code",
   "execution_count": 112,
   "metadata": {},
   "outputs": [],
   "source": [
    "LR1_W1=LR1.coef_"
   ]
  },
  {
   "cell_type": "code",
   "execution_count": 113,
   "metadata": {
    "scrolled": true
   },
   "outputs": [
    {
     "data": {
      "text/plain": [
       "array([[ 0.00671668,  0.00403491, -0.01857439, ...,  0.00324124,\n",
       "         0.00023973,  0.012888  ]])"
      ]
     },
     "execution_count": 113,
     "metadata": {},
     "output_type": "execute_result"
    }
   ],
   "source": [
    "LR_W1"
   ]
  },
  {
   "cell_type": "code",
   "execution_count": 114,
   "metadata": {},
   "outputs": [],
   "source": [
    "LR_W_Diff = LR_W1-LR1_W1"
   ]
  },
  {
   "cell_type": "code",
   "execution_count": 115,
   "metadata": {},
   "outputs": [
    {
     "data": {
      "text/plain": [
       "0.06871471285060042"
      ]
     },
     "execution_count": 115,
     "metadata": {},
     "output_type": "execute_result"
    }
   ],
   "source": [
    "max(np.absolute(LR_W_Diff[LR_W_Diff!=0]))"
   ]
  },
  {
   "cell_type": "code",
   "execution_count": 116,
   "metadata": {},
   "outputs": [
    {
     "data": {
      "text/plain": [
       "2.330101308732277e-08"
      ]
     },
     "execution_count": 116,
     "metadata": {},
     "output_type": "execute_result"
    }
   ],
   "source": [
    "min(np.absolute(LR_W_Diff[LR_W_Diff!=0]))"
   ]
  },
  {
   "cell_type": "markdown",
   "metadata": {},
   "source": [
    "#### Features are linearly independent"
   ]
  },
  {
   "cell_type": "markdown",
   "metadata": {},
   "source": [
    "#### 1.3.3 Feature importance"
   ]
  },
  {
   "cell_type": "code",
   "execution_count": 117,
   "metadata": {},
   "outputs": [],
   "source": [
    "coeff_sorted_pos = LR.coef_.argsort()\n",
    "coeff_neg=-1*(LR.coef_)\n",
    "coeff_sorted_neg = coeff_neg.argsort()"
   ]
  },
  {
   "cell_type": "code",
   "execution_count": 118,
   "metadata": {},
   "outputs": [],
   "source": [
    "df1=pd.DataFrame((np.take(count_vect.get_feature_names(), coeff_sorted_pos[:100])).ravel())\n",
    "df2=pd.DataFrame((np.take(count_vect.get_feature_names(), coeff_sorted_neg[:100])).ravel())"
   ]
  },
  {
   "cell_type": "code",
   "execution_count": 119,
   "metadata": {},
   "outputs": [],
   "source": [
    "pos_list=[]\n",
    "for item in df1[0]:\n",
    "    pos_list.append(item)\n",
    "neg_list=[]\n",
    "for item in df2[0]:\n",
    "    neg_list.append(item)"
   ]
  },
  {
   "cell_type": "code",
   "execution_count": 165,
   "metadata": {},
   "outputs": [
    {
     "name": "stdout",
     "output_type": "stream",
     "text": [
      "=========================================== Important features for positive class ===========================================\n",
      "\n",
      "\n",
      "['jitter', 'skewed', 'parking', 'bugles', 'kickin', 'acid', 'wildfire', 'arbitrary', 'affliction', 'vine', 'wisecrackers', 'bowl', 'overnights', 'mid', 'pest', 'cargo', 'shakers', 'litter', 'grays', 'nodoz', 'thickeners', 'pringles', 'liberal', 'busters', 'estatic', 'explains', 'quibbles', 'vanillery', 'prepartion', 'kisser', 'strenuous', 'losses', 'tbs', 'condoms', 'puddings', 'itchiness', 'mysteriously', 'wiskas', 'pitching', 'nine', 'digest', 'hydroponics', 'convent', 'effectiveness', 'speeding', 'artificiality', 'chillis', 'flashing', 'mooccan', 'sizzling', 'pryidoxine', 'vibration', 'overpowered', 'bonsais', 'clicking', 'phu', 'configured', 'chocoperfection', 'smartbalance', 'unpopped', 'path', 'unboxing', 'counties', 'achy', 'bloodhounds', 'savvy', 'diseased', 'damning', 'woolworth', 'pastor', 'faces', 'producers', 'betrayal', 'pearl', 'handier', 'defeat', 'indians', 'emollient', 'coasts', 'downtime', 'spathyfillum', 'affinity', 'discretely', 'shoot', 'longish', 'mirrors', 'misunderstand', 'executed', 'aided', 'nat', 'wiring', 'humid', 'saddens', 'regardless', 'tanks', 'pees', 'raya', 'vitamuffin', 'reddiwip', 'chokecherry']\n",
      "\n",
      "\n",
      "\n",
      "\n",
      "=========================================== Important features for negative class ===========================================\n",
      "\n",
      "\n",
      "['good', 'great', 'best', 'love', 'product', 'not', 'like', 'loves', 'delicious', 'coffee', 'buy', 'tea', 'favorite', 'use', 'price', 'dog', 'dogs', 'loved', 'gift', 'oatmeal', 'flavor', 'nice', 'quality', 'enjoy', 'snack', 'better', 'cookies', 'tell', 'thanks', 'tasty', 'yummy', 'get', 'excellent', 'purchase', 'coconut', 'longer', 'order', 'quickly', 'cats', 'stores', 'without', 'rice', 'soup', 'wonderful', 'wish', 'got', 'worth', 'small', 'mio', 'cheaper', 'toy', 'awesome', 'ordered', 'arrived', 'perfect', 'little', 'snacks', 'tuna', 'hide', 'taste', 'literally', 'buying', 'honey', 'catnip', 'rope', 'support', 'well', 'glad', 'marinade', 'syrup', 'son', 'likes', 'low', 'drink', 'picture', 'stuff', 'recommend', 'shampoo', 'defective', 'healthy', 'decaf', 'produced', 'energy', 'ireland', 'happy', 'fresh', 'pallet', 'way', 'hooked', 'gum', 'dry', 'works', 'bold', 'jerky', 'popcorn', 'grade', 'waffles', 'item', 'job', 'formula']\n",
      "\n",
      "\n",
      "=============================================================================================================================\n"
     ]
    }
   ],
   "source": [
    "print(\"=\"*43,'Important features for positive class',\"=\"*43)\n",
    "print(\"\\n\")\n",
    "print(pos_list[:100])\n",
    "print(\"\\n\")\n",
    "print(\"\\n\")\n",
    "print(\"=\"*43,'Important features for negative class',\"=\"*43)\n",
    "print(\"\\n\")\n",
    "print(neg_list[:100])\n",
    "print(\"\\n\")\n",
    "print(\"=\"*125)\n"
   ]
  },
  {
   "cell_type": "markdown",
   "metadata": {},
   "source": [
    "#### 1.4. L1 regularization"
   ]
  },
  {
   "cell_type": "code",
   "execution_count": 23,
   "metadata": {
    "scrolled": true
   },
   "outputs": [
    {
     "data": {
      "text/plain": [
       "GridSearchCV(cv=None, error_score='raise',\n",
       "       estimator=LogisticRegression(C=1.0, class_weight=None, dual=False, fit_intercept=True,\n",
       "          intercept_scaling=1, max_iter=100, multi_class='ovr', n_jobs=1,\n",
       "          penalty='l1', random_state=None, solver='liblinear', tol=0.0001,\n",
       "          verbose=0, warm_start=False),\n",
       "       fit_params={}, iid=True, n_jobs=3,\n",
       "       param_grid=[{'C': [0.0001, 0.01, 1, 0.01, 10000]}],\n",
       "       pre_dispatch='2*n_jobs', refit=True, scoring='f1', verbose=0)"
      ]
     },
     "execution_count": 23,
     "metadata": {},
     "output_type": "execute_result"
    }
   ],
   "source": [
    "model1 = GridSearchCV(LogisticRegression(penalty='l1'),tuned_parameters,scoring='f1',n_jobs=3)\n",
    "model1.fit(final_counts_X1,y_1)"
   ]
  },
  {
   "cell_type": "code",
   "execution_count": 24,
   "metadata": {
    "scrolled": true
   },
   "outputs": [
    {
     "name": "stdout",
     "output_type": "stream",
     "text": [
      "LogisticRegression(C=0.0001, class_weight=None, dual=False,\n",
      "          fit_intercept=True, intercept_scaling=1, max_iter=100,\n",
      "          multi_class='ovr', n_jobs=1, penalty='l1', random_state=None,\n",
      "          solver='liblinear', tol=0.0001, verbose=0, warm_start=False)\n",
      "0.915293396033531\n"
     ]
    }
   ],
   "source": [
    "print(model1.best_estimator_)\n",
    "print(model1.score(final_counts_Xtest,y_test))"
   ]
  },
  {
   "cell_type": "markdown",
   "metadata": {},
   "source": [
    "#### 1.4.1. C value Vs sparcity"
   ]
  },
  {
   "cell_type": "code",
   "execution_count": 25,
   "metadata": {},
   "outputs": [],
   "source": [
    "z0=[]\n",
    "for i in [0.1,0.01,0.001,0.0001]:\n",
    "    lr = LogisticRegression(C=i,penalty='l1')\n",
    "    lr.fit(final_counts_X1,y_1)\n",
    "    w=lr.coef_\n",
    "    z=np.count_nonzero(w)\n",
    "    z0.append(z)"
   ]
  },
  {
   "cell_type": "code",
   "execution_count": 67,
   "metadata": {},
   "outputs": [
    {
     "data": {
      "image/png": "[encoded data removed]",
      "text/plain": [
       "<matplotlib.figure.Figure at 0x203b9e3b400>"
      ]
     },
     "metadata": {},
     "output_type": "display_data"
    }
   ],
   "source": [
    "plt.plot([0.1,0.01,0.001,0.0001],z0)\n",
    "plt.xlabel('C values')\n",
    "plt.ylabel('Number of non zero entry in weight vector')\n",
    "plt.show()"
   ]
  },
  {
   "cell_type": "code",
   "execution_count": 27,
   "metadata": {},
   "outputs": [
    {
     "data": {
      "text/plain": [
       "[54044, 23169, 0, 0]"
      ]
     },
     "execution_count": 27,
     "metadata": {},
     "output_type": "execute_result"
    }
   ],
   "source": [
    "z0"
   ]
  },
  {
   "cell_type": "markdown",
   "metadata": {},
   "source": [
    "#### 1.4.2 C value Vs Error"
   ]
  },
  {
   "cell_type": "code",
   "execution_count": 65,
   "metadata": {},
   "outputs": [],
   "source": [
    "e0=[]\n",
    "for i in [0.1,0.01,0.001,0.0001]:\n",
    "    lr = LogisticRegression(C=i,penalty='l1')\n",
    "    lr.fit(final_counts_X1,y_1)\n",
    "    y_pred=lr.predict(X_test)\n",
    "    error=1-sklearn.metrics.accuracy_score(y_test,y_pred)\n",
    "    e0.append(error)"
   ]
  },
  {
   "cell_type": "code",
   "execution_count": 69,
   "metadata": {
    "scrolled": true
   },
   "outputs": [
    {
     "data": {
      "image/png": "[encoded data removed]",
      "text/plain": [
       "<matplotlib.figure.Figure at 0x203b0109e80>"
      ]
     },
     "metadata": {},
     "output_type": "display_data"
    }
   ],
   "source": [
    "plt.plot([0.1,0.01,0.001,0.0001],e0)\n",
    "plt.xlabel('C values')\n",
    "plt.ylabel('Error')\n",
    "plt.show()"
   ]
  },
  {
   "cell_type": "code",
   "execution_count": null,
   "metadata": {},
   "outputs": [],
   "source": []
  },
  {
   "cell_type": "code",
   "execution_count": null,
   "metadata": {},
   "outputs": [],
   "source": []
  },
  {
   "cell_type": "code",
   "execution_count": null,
   "metadata": {},
   "outputs": [],
   "source": []
  },
  {
   "cell_type": "markdown",
   "metadata": {},
   "source": [
    "#### 2. Tfidf method"
   ]
  },
  {
   "cell_type": "code",
   "execution_count": 121,
   "metadata": {},
   "outputs": [],
   "source": [
    "tfidf = TfidfVectorizer()\n",
    "final_tfidf_X1 = tfidf.fit_transform(X_1)"
   ]
  },
  {
   "cell_type": "code",
   "execution_count": 122,
   "metadata": {},
   "outputs": [],
   "source": [
    "final_tfidf_Xtest=tfidf.transform(X_test)"
   ]
  },
  {
   "cell_type": "markdown",
   "metadata": {},
   "source": [
    "#### 2.1 Column Standardization "
   ]
  },
  {
   "cell_type": "code",
   "execution_count": 123,
   "metadata": {},
   "outputs": [],
   "source": [
    "colstd1=StandardScaler(with_mean=False)"
   ]
  },
  {
   "cell_type": "code",
   "execution_count": 124,
   "metadata": {},
   "outputs": [],
   "source": [
    "final_tfidf_X1=colstd1.fit_transform(final_tfidf_X1)"
   ]
  },
  {
   "cell_type": "code",
   "execution_count": null,
   "metadata": {},
   "outputs": [],
   "source": []
  },
  {
   "cell_type": "code",
   "execution_count": 125,
   "metadata": {},
   "outputs": [],
   "source": [
    "colstd2=StandardScaler(with_mean=False)"
   ]
  },
  {
   "cell_type": "code",
   "execution_count": 126,
   "metadata": {},
   "outputs": [],
   "source": [
    "final_tfidf_Xtest=colstd2.fit_transform(final_tfidf_Xtest)"
   ]
  },
  {
   "cell_type": "code",
   "execution_count": 78,
   "metadata": {},
   "outputs": [],
   "source": [
    "tuned_parameters=[{'C':[10**-4,10**-2,10**-0,10**-2,10**4]}]"
   ]
  },
  {
   "cell_type": "markdown",
   "metadata": {},
   "source": [
    "#### 2.2. GridSearchCV"
   ]
  },
  {
   "cell_type": "code",
   "execution_count": 80,
   "metadata": {},
   "outputs": [
    {
     "data": {
      "text/plain": [
       "GridSearchCV(cv=None, error_score='raise',\n",
       "       estimator=LogisticRegression(C=1.0, class_weight=None, dual=False, fit_intercept=True,\n",
       "          intercept_scaling=1, max_iter=100, multi_class='ovr', n_jobs=1,\n",
       "          penalty='l2', random_state=None, solver='liblinear', tol=0.0001,\n",
       "          verbose=0, warm_start=False),\n",
       "       fit_params={}, iid=True, n_jobs=1,\n",
       "       param_grid=[{'C': [0.0001, 0.01, 1, 0.01, 10000]}],\n",
       "       pre_dispatch='2*n_jobs', refit=True, scoring='f1', verbose=0)"
      ]
     },
     "execution_count": 80,
     "metadata": {},
     "output_type": "execute_result"
    }
   ],
   "source": [
    "model = GridSearchCV(LogisticRegression(),tuned_parameters,scoring='f1')\n",
    "model.fit(final_tfidf_X1,y_1)"
   ]
  },
  {
   "cell_type": "code",
   "execution_count": 86,
   "metadata": {},
   "outputs": [],
   "source": []
  },
  {
   "cell_type": "code",
   "execution_count": 87,
   "metadata": {},
   "outputs": [
    {
     "name": "stdout",
     "output_type": "stream",
     "text": [
      "LogisticRegression(C=0.0001, class_weight=None, dual=False,\n",
      "          fit_intercept=True, intercept_scaling=1, max_iter=100,\n",
      "          multi_class='ovr', n_jobs=1, penalty='l2', random_state=None,\n",
      "          solver='liblinear', tol=0.0001, verbose=0, warm_start=False)\n",
      "0.9149273420802356\n"
     ]
    }
   ],
   "source": [
    "print(model.best_estimator_)\n",
    "print(model.score(final_tfidf_Xtest,y_test))"
   ]
  },
  {
   "cell_type": "markdown",
   "metadata": {},
   "source": [
    "C value derived from GridSearchCV is 0.0001"
   ]
  },
  {
   "cell_type": "code",
   "execution_count": 128,
   "metadata": {},
   "outputs": [
    {
     "data": {
      "text/plain": [
       "LogisticRegression(C=0.0001, class_weight=None, dual=False,\n",
       "          fit_intercept=True, intercept_scaling=1, max_iter=100,\n",
       "          multi_class='ovr', n_jobs=1, penalty='l2', random_state=None,\n",
       "          solver='liblinear', tol=0.0001, verbose=0, warm_start=False)"
      ]
     },
     "execution_count": 128,
     "metadata": {},
     "output_type": "execute_result"
    }
   ],
   "source": [
    "LR=LogisticRegression(C=0.0001)\n",
    "LR.fit(final_tfidf_X1,y_1)"
   ]
  },
  {
   "cell_type": "code",
   "execution_count": 129,
   "metadata": {},
   "outputs": [],
   "source": [
    "tn,fn,fp,fn=metrics.confusion_matrix(y_test,LR.predict(final_tfidf_Xtest)).ravel()"
   ]
  },
  {
   "cell_type": "code",
   "execution_count": 130,
   "metadata": {},
   "outputs": [],
   "source": [
    "prec = metrics.precision_score(y_test,LR.predict(final_tfidf_Xtest))"
   ]
  },
  {
   "cell_type": "code",
   "execution_count": 131,
   "metadata": {},
   "outputs": [],
   "source": [
    "recall= metrics.recall_score(y_test,LR.predict(final_tfidf_Xtest))"
   ]
  },
  {
   "cell_type": "code",
   "execution_count": 132,
   "metadata": {},
   "outputs": [],
   "source": [
    "f1 = metrics.f1_score(y_test,LR.predict(final_tfidf_Xtest))"
   ]
  },
  {
   "cell_type": "code",
   "execution_count": 133,
   "metadata": {},
   "outputs": [],
   "source": [
    "accuracy= metrics.accuracy_score(y_test,LR.predict(final_tfidf_Xtest))"
   ]
  },
  {
   "cell_type": "code",
   "execution_count": 134,
   "metadata": {},
   "outputs": [],
   "source": [
    "specificity = tn/float(tn+fp)"
   ]
  },
  {
   "cell_type": "code",
   "execution_count": 135,
   "metadata": {},
   "outputs": [],
   "source": [
    "neg_pred_value = tn/float(tn+fn)"
   ]
  },
  {
   "cell_type": "code",
   "execution_count": 136,
   "metadata": {},
   "outputs": [],
   "source": [
    "df2 = pd.DataFrame({'Accuracy Score':[accuracy],'Precision':[prec],'Recall':[recall],'F1_Score':[f1],'Specificity':[specificity],'Negative_Predicted_Value':[neg_pred_value]},index=['Tfidf_GridSearch'])"
   ]
  },
  {
   "cell_type": "code",
   "execution_count": 137,
   "metadata": {},
   "outputs": [],
   "source": [
    "performance_table=performance_table.append(df2)"
   ]
  },
  {
   "cell_type": "code",
   "execution_count": 138,
   "metadata": {},
   "outputs": [
    {
     "data": {
      "text/html": [
       "<div>\n",
       "<style scoped>\n",
       "    .dataframe tbody tr th:only-of-type {\n",
       "        vertical-align: middle;\n",
       "    }\n",
       "\n",
       "    .dataframe tbody tr th {\n",
       "        vertical-align: top;\n",
       "    }\n",
       "\n",
       "    .dataframe thead th {\n",
       "        text-align: right;\n",
       "    }\n",
       "</style>\n",
       "<table border=\"1\" class=\"dataframe\">\n",
       "  <thead>\n",
       "    <tr style=\"text-align: right;\">\n",
       "      <th></th>\n",
       "      <th>Accuracy Score</th>\n",
       "      <th>Precision</th>\n",
       "      <th>Recall</th>\n",
       "      <th>F1_Score</th>\n",
       "      <th>Specificity</th>\n",
       "      <th>Negative_Predicted_Value</th>\n",
       "    </tr>\n",
       "  </thead>\n",
       "  <tbody>\n",
       "    <tr>\n",
       "      <th>BoW_GridSearch</th>\n",
       "      <td>0.800501</td>\n",
       "      <td>0.843852</td>\n",
       "      <td>0.936737</td>\n",
       "      <td>0.887872</td>\n",
       "      <td>0.166421</td>\n",
       "      <td>0.013304</td>\n",
       "    </tr>\n",
       "    <tr>\n",
       "      <th>BoW_RandomSearch</th>\n",
       "      <td>0.798258</td>\n",
       "      <td>0.843866</td>\n",
       "      <td>0.933451</td>\n",
       "      <td>0.886401</td>\n",
       "      <td>0.166106</td>\n",
       "      <td>0.014002</td>\n",
       "    </tr>\n",
       "    <tr>\n",
       "      <th>Tfidf_GridSearch</th>\n",
       "      <td>0.830094</td>\n",
       "      <td>0.843475</td>\n",
       "      <td>0.980440</td>\n",
       "      <td>0.906815</td>\n",
       "      <td>0.170616</td>\n",
       "      <td>0.004087</td>\n",
       "    </tr>\n",
       "  </tbody>\n",
       "</table>\n",
       "</div>"
      ],
      "text/plain": [
       "                  Accuracy Score  Precision    Recall  F1_Score  Specificity  \\\n",
       "BoW_GridSearch          0.800501   0.843852  0.936737  0.887872     0.166421   \n",
       "BoW_RandomSearch        0.798258   0.843866  0.933451  0.886401     0.166106   \n",
       "Tfidf_GridSearch        0.830094   0.843475  0.980440  0.906815     0.170616   \n",
       "\n",
       "                  Negative_Predicted_Value  \n",
       "BoW_GridSearch                    0.013304  \n",
       "BoW_RandomSearch                  0.014002  \n",
       "Tfidf_GridSearch                  0.004087  "
      ]
     },
     "execution_count": 138,
     "metadata": {},
     "output_type": "execute_result"
    }
   ],
   "source": [
    "performance_table"
   ]
  },
  {
   "cell_type": "code",
   "execution_count": 139,
   "metadata": {},
   "outputs": [],
   "source": [
    "con_matrix=metrics.confusion_matrix(y_test,LR.predict(final_tfidf_Xtest))"
   ]
  },
  {
   "cell_type": "code",
   "execution_count": 140,
   "metadata": {},
   "outputs": [],
   "source": [
    "import seaborn as sns"
   ]
  },
  {
   "cell_type": "code",
   "execution_count": 141,
   "metadata": {},
   "outputs": [],
   "source": [
    "df_con = pd.DataFrame(con_matrix.T,columns=['Negative','Positive'],index=['Negative','Positive'])"
   ]
  },
  {
   "cell_type": "code",
   "execution_count": 142,
   "metadata": {},
   "outputs": [],
   "source": [
    "y_pred_prob=LR.predict_proba(final_counts_Xtest)"
   ]
  },
  {
   "cell_type": "code",
   "execution_count": null,
   "metadata": {},
   "outputs": [],
   "source": []
  },
  {
   "cell_type": "code",
   "execution_count": 143,
   "metadata": {},
   "outputs": [],
   "source": [
    "fpr, tpr, thresholds = metrics.roc_curve(y_test, y_pred_prob[:,1], pos_label=1)"
   ]
  },
  {
   "cell_type": "code",
   "execution_count": 144,
   "metadata": {},
   "outputs": [
    {
     "data": {
      "image/png": "[encoded data removed]",
      "text/plain": [
       "<Figure size 864x360 with 3 Axes>"
      ]
     },
     "metadata": {},
     "output_type": "display_data"
    }
   ],
   "source": [
    "plt.figure(figsize=(12,5))\n",
    "plt.subplot(121)\n",
    "plt.title('Confusion Matrix')\n",
    "sns.heatmap(df_con,annot=True,fmt='g')\n",
    "plt.subplot(122)\n",
    "lw = 2\n",
    "plt.plot(fpr, tpr, color='darkorange',\n",
    "         lw=lw, label='ROC curve (area = %0.2f)')\n",
    "#plt.plot([0, 1], [0, 1], color='navy', lw=lw, linestyle='--')\n",
    "plt.xlim([0.0, 1.0])\n",
    "plt.ylim([0.0, 1.05])\n",
    "plt.xlabel('False Positive Rate')\n",
    "plt.ylabel('True Positive Rate')\n",
    "plt.title('Receiver operating characteristic')\n",
    "plt.legend(loc=\"lower right\")\n",
    "plt.show()"
   ]
  },
  {
   "cell_type": "markdown",
   "metadata": {},
   "source": [
    "#### 2.2.1 Applying Logistic Regression with derived C value"
   ]
  },
  {
   "cell_type": "code",
   "execution_count": 145,
   "metadata": {},
   "outputs": [
    {
     "data": {
      "text/plain": [
       "LogisticRegression(C=0.0001, class_weight=None, dual=False,\n",
       "          fit_intercept=True, intercept_scaling=1, max_iter=100,\n",
       "          multi_class='ovr', n_jobs=1, penalty='l2', random_state=None,\n",
       "          solver='liblinear', tol=0.0001, verbose=0, warm_start=False)"
      ]
     },
     "execution_count": 145,
     "metadata": {},
     "output_type": "execute_result"
    }
   ],
   "source": [
    "LR=LogisticRegression(C=0.0001)\n",
    "LR.fit(final_tfidf_X1,y_1)"
   ]
  },
  {
   "cell_type": "code",
   "execution_count": null,
   "metadata": {},
   "outputs": [],
   "source": []
  },
  {
   "cell_type": "code",
   "execution_count": 146,
   "metadata": {},
   "outputs": [
    {
     "data": {
      "text/plain": [
       "array([[ 0.00083816,  0.00210002, -0.00707396, ...,  0.00156621,\n",
       "         0.00054903,  0.00458001]])"
      ]
     },
     "execution_count": 146,
     "metadata": {},
     "output_type": "execute_result"
    }
   ],
   "source": [
    "LR.coef_"
   ]
  },
  {
   "cell_type": "code",
   "execution_count": 147,
   "metadata": {},
   "outputs": [],
   "source": [
    "LR_W1=LR.coef_"
   ]
  },
  {
   "cell_type": "markdown",
   "metadata": {},
   "source": [
    "#### 2.2.2 Pertubation Test"
   ]
  },
  {
   "cell_type": "code",
   "execution_count": 148,
   "metadata": {},
   "outputs": [],
   "source": [
    "e=np.random.normal(0.03,0.02)"
   ]
  },
  {
   "cell_type": "code",
   "execution_count": 149,
   "metadata": {},
   "outputs": [
    {
     "data": {
      "text/plain": [
       "0.023344580341622224"
      ]
     },
     "execution_count": 149,
     "metadata": {},
     "output_type": "execute_result"
    }
   ],
   "source": [
    "e"
   ]
  },
  {
   "cell_type": "code",
   "execution_count": 150,
   "metadata": {},
   "outputs": [],
   "source": [
    "final_tfidf_X1.data+=e"
   ]
  },
  {
   "cell_type": "code",
   "execution_count": 151,
   "metadata": {},
   "outputs": [
    {
     "data": {
      "text/plain": [
       "LogisticRegression(C=0.0001, class_weight=None, dual=False,\n",
       "          fit_intercept=True, intercept_scaling=1, max_iter=100,\n",
       "          multi_class='ovr', n_jobs=1, penalty='l2', random_state=None,\n",
       "          solver='liblinear', tol=0.0001, verbose=0, warm_start=False)"
      ]
     },
     "execution_count": 151,
     "metadata": {},
     "output_type": "execute_result"
    }
   ],
   "source": [
    "LR1=LogisticRegression(C=0.0001)\n",
    "LR1.fit(final_tfidf_X1,y_1)"
   ]
  },
  {
   "cell_type": "code",
   "execution_count": 152,
   "metadata": {},
   "outputs": [
    {
     "data": {
      "text/plain": [
       "array([[ 0.00083297,  0.00210082, -0.00707503, ...,  0.00156576,\n",
       "         0.00054907,  0.00458528]])"
      ]
     },
     "execution_count": 152,
     "metadata": {},
     "output_type": "execute_result"
    }
   ],
   "source": [
    "LR1.coef_"
   ]
  },
  {
   "cell_type": "code",
   "execution_count": 153,
   "metadata": {},
   "outputs": [],
   "source": [
    "LR1_W1=LR1.coef_"
   ]
  },
  {
   "cell_type": "code",
   "execution_count": 154,
   "metadata": {},
   "outputs": [
    {
     "data": {
      "text/plain": [
       "array([[ 0.00083816,  0.00210002, -0.00707396, ...,  0.00156621,\n",
       "         0.00054903,  0.00458001]])"
      ]
     },
     "execution_count": 154,
     "metadata": {},
     "output_type": "execute_result"
    }
   ],
   "source": [
    "LR_W1"
   ]
  },
  {
   "cell_type": "code",
   "execution_count": 155,
   "metadata": {},
   "outputs": [],
   "source": [
    "LR_W_Diff = LR_W1-LR1_W1"
   ]
  },
  {
   "cell_type": "code",
   "execution_count": null,
   "metadata": {},
   "outputs": [],
   "source": []
  },
  {
   "cell_type": "code",
   "execution_count": 156,
   "metadata": {},
   "outputs": [
    {
     "data": {
      "text/plain": [
       "0.00020789773820374668"
      ]
     },
     "execution_count": 156,
     "metadata": {},
     "output_type": "execute_result"
    }
   ],
   "source": [
    "max(np.absolute(LR_W_Diff[LR_W_Diff!=0]))"
   ]
  },
  {
   "cell_type": "code",
   "execution_count": 157,
   "metadata": {
    "scrolled": true
   },
   "outputs": [
    {
     "data": {
      "text/plain": [
       "7.38303446157218e-11"
      ]
     },
     "execution_count": 157,
     "metadata": {},
     "output_type": "execute_result"
    }
   ],
   "source": [
    "min(np.absolute(LR_W_Diff[LR_W_Diff!=0]))"
   ]
  },
  {
   "cell_type": "code",
   "execution_count": 158,
   "metadata": {},
   "outputs": [
    {
     "data": {
      "text/plain": [
       "2.7804357447168e-06"
      ]
     },
     "execution_count": 158,
     "metadata": {},
     "output_type": "execute_result"
    }
   ],
   "source": [
    "np.mean(np.absolute(LR_W_Diff[LR_W_Diff!=0]))"
   ]
  },
  {
   "cell_type": "code",
   "execution_count": 159,
   "metadata": {},
   "outputs": [],
   "source": [
    "final_tfidf_X1.data-=e"
   ]
  },
  {
   "cell_type": "markdown",
   "metadata": {},
   "source": [
    "#### Features are linearly independent"
   ]
  },
  {
   "cell_type": "markdown",
   "metadata": {},
   "source": [
    "#### 2.2.3 Feature Importance"
   ]
  },
  {
   "cell_type": "code",
   "execution_count": 160,
   "metadata": {},
   "outputs": [],
   "source": [
    "coeff_sorted_pos = LR.coef_.argsort()\n",
    "coeff_neg=-1*(LR.coef_)\n",
    "coeff_sorted_neg = coeff_neg.argsort()"
   ]
  },
  {
   "cell_type": "code",
   "execution_count": 161,
   "metadata": {},
   "outputs": [],
   "source": [
    "df1=pd.DataFrame((np.take(count_vect.get_feature_names(), coeff_sorted_pos[:100])).ravel())\n",
    "df2=pd.DataFrame((np.take(count_vect.get_feature_names(), coeff_sorted_neg[:100])).ravel())"
   ]
  },
  {
   "cell_type": "code",
   "execution_count": 162,
   "metadata": {},
   "outputs": [],
   "source": [
    "pos_list=[]\n",
    "for item in df1[0]:\n",
    "    pos_list.append(item)\n",
    "neg_list=[]\n",
    "for item in df2[0]:\n",
    "    neg_list.append(item)"
   ]
  },
  {
   "cell_type": "code",
   "execution_count": 166,
   "metadata": {},
   "outputs": [
    {
     "name": "stdout",
     "output_type": "stream",
     "text": [
      "=========================================== Important features for positive class ===========================================\n",
      "\n",
      "\n",
      "['jitter', 'skewed', 'parking', 'bugles', 'kickin', 'acid', 'wildfire', 'arbitrary', 'affliction', 'vine', 'wisecrackers', 'bowl', 'overnights', 'mid', 'pest', 'cargo', 'shakers', 'litter', 'grays', 'nodoz', 'thickeners', 'pringles', 'liberal', 'busters', 'estatic', 'explains', 'quibbles', 'vanillery', 'prepartion', 'kisser', 'strenuous', 'losses', 'tbs', 'condoms', 'puddings', 'itchiness', 'mysteriously', 'wiskas', 'pitching', 'nine', 'digest', 'hydroponics', 'convent', 'effectiveness', 'speeding', 'artificiality', 'chillis', 'flashing', 'mooccan', 'sizzling', 'pryidoxine', 'vibration', 'overpowered', 'bonsais', 'clicking', 'phu', 'configured', 'chocoperfection', 'smartbalance', 'unpopped', 'path', 'unboxing', 'counties', 'achy', 'bloodhounds', 'savvy', 'diseased', 'damning', 'woolworth', 'pastor', 'faces', 'producers', 'betrayal', 'pearl', 'handier', 'defeat', 'indians', 'emollient', 'coasts', 'downtime', 'spathyfillum', 'affinity', 'discretely', 'shoot', 'longish', 'mirrors', 'misunderstand', 'executed', 'aided', 'nat', 'wiring', 'humid', 'saddens', 'regardless', 'tanks', 'pees', 'raya', 'vitamuffin', 'reddiwip', 'chokecherry']\n",
      "\n",
      "\n",
      "\n",
      "\n",
      "=========================================== Important features for negative class ===========================================\n",
      "\n",
      "\n",
      "['good', 'great', 'best', 'love', 'product', 'not', 'like', 'loves', 'delicious', 'coffee', 'buy', 'tea', 'favorite', 'use', 'price', 'dog', 'dogs', 'loved', 'gift', 'oatmeal', 'flavor', 'nice', 'quality', 'enjoy', 'snack', 'better', 'cookies', 'tell', 'thanks', 'tasty', 'yummy', 'get', 'excellent', 'purchase', 'coconut', 'longer', 'order', 'quickly', 'cats', 'stores', 'without', 'rice', 'soup', 'wonderful', 'wish', 'got', 'worth', 'small', 'mio', 'cheaper', 'toy', 'awesome', 'ordered', 'arrived', 'perfect', 'little', 'snacks', 'tuna', 'hide', 'taste', 'literally', 'buying', 'honey', 'catnip', 'rope', 'support', 'well', 'glad', 'marinade', 'syrup', 'son', 'likes', 'low', 'drink', 'picture', 'stuff', 'recommend', 'shampoo', 'defective', 'healthy', 'decaf', 'produced', 'energy', 'ireland', 'happy', 'fresh', 'pallet', 'way', 'hooked', 'gum', 'dry', 'works', 'bold', 'jerky', 'popcorn', 'grade', 'waffles', 'item', 'job', 'formula']\n",
      "\n",
      "\n",
      "=============================================================================================================================\n"
     ]
    }
   ],
   "source": [
    "print(\"=\"*43,'Important features for positive class',\"=\"*43)\n",
    "print(\"\\n\")\n",
    "print(pos_list[:100])\n",
    "print(\"\\n\")\n",
    "print(\"\\n\")\n",
    "print(\"=\"*43,'Important features for negative class',\"=\"*43)\n",
    "print(\"\\n\")\n",
    "print(neg_list[:100])\n",
    "print(\"\\n\")\n",
    "print(\"=\"*125)\n"
   ]
  },
  {
   "cell_type": "markdown",
   "metadata": {},
   "source": [
    "#### 2.3. RandomizedSearch"
   ]
  },
  {
   "cell_type": "code",
   "execution_count": 113,
   "metadata": {},
   "outputs": [],
   "source": []
  },
  {
   "cell_type": "code",
   "execution_count": 107,
   "metadata": {
    "scrolled": true
   },
   "outputs": [
    {
     "data": {
      "text/plain": [
       "RandomizedSearchCV(cv=None, error_score='raise',\n",
       "          estimator=LogisticRegression(C=1.0, class_weight=None, dual=False, fit_intercept=True,\n",
       "          intercept_scaling=1, max_iter=100, multi_class='ovr', n_jobs=1,\n",
       "          penalty='l2', random_state=None, solver='liblinear', tol=0.0001,\n",
       "          verbose=0, warm_start=False),\n",
       "          fit_params=None, iid=True, n_iter=10, n_jobs=2,\n",
       "          param_distributions={'C': <scipy.stats._distn_infrastructure.rv_frozen object at 0x0000024DD1915C50>},\n",
       "          pre_dispatch='2*n_jobs', random_state=None, refit=True,\n",
       "          return_train_score='warn', scoring='f1', verbose=0)"
      ]
     },
     "execution_count": 107,
     "metadata": {},
     "output_type": "execute_result"
    }
   ],
   "source": [
    "from sklearn.model_selection import RandomizedSearchCV\n",
    "param_dist={'C':scipy.stats.uniform(10**-4,10**4)}\n",
    "model2=RandomizedSearchCV(LogisticRegression(),param_dist,scoring='f1',n_jobs=2)\n",
    "model2.fit(final_tfidf_X1,y_1)"
   ]
  },
  {
   "cell_type": "code",
   "execution_count": 108,
   "metadata": {
    "scrolled": true
   },
   "outputs": [
    {
     "name": "stdout",
     "output_type": "stream",
     "text": [
      "LogisticRegression(C=1988.7648045521228, class_weight=None, dual=False,\n",
      "          fit_intercept=True, intercept_scaling=1, max_iter=100,\n",
      "          multi_class='ovr', n_jobs=1, penalty='l2', random_state=None,\n",
      "          solver='liblinear', tol=0.0001, verbose=0, warm_start=False)\n",
      "0.9149273420802356\n"
     ]
    }
   ],
   "source": [
    "print(model2.best_estimator_)\n",
    "print(model2.score(final_tfidf_Xtest,y_test))"
   ]
  },
  {
   "cell_type": "code",
   "execution_count": null,
   "metadata": {},
   "outputs": [],
   "source": []
  },
  {
   "cell_type": "markdown",
   "metadata": {},
   "source": [
    "#### 2.3.1 Applying Logistic Regression with derived C value"
   ]
  },
  {
   "cell_type": "code",
   "execution_count": 167,
   "metadata": {},
   "outputs": [
    {
     "data": {
      "text/plain": [
       "LogisticRegression(C=1988.764, class_weight=None, dual=False,\n",
       "          fit_intercept=True, intercept_scaling=1, max_iter=100,\n",
       "          multi_class='ovr', n_jobs=1, penalty='l2', random_state=None,\n",
       "          solver='liblinear', tol=0.0001, verbose=0, warm_start=False)"
      ]
     },
     "execution_count": 167,
     "metadata": {},
     "output_type": "execute_result"
    }
   ],
   "source": [
    "LR=LogisticRegression(C=1988.764)\n",
    "LR.fit(final_tfidf_X1,y_1)"
   ]
  },
  {
   "cell_type": "code",
   "execution_count": 168,
   "metadata": {},
   "outputs": [],
   "source": [
    "tn,fn,fp,fn=metrics.confusion_matrix(y_test,LR.predict(final_tfidf_Xtest)).ravel()"
   ]
  },
  {
   "cell_type": "code",
   "execution_count": 169,
   "metadata": {},
   "outputs": [],
   "source": [
    "prec = metrics.precision_score(y_test,LR.predict(final_tfidf_Xtest))"
   ]
  },
  {
   "cell_type": "code",
   "execution_count": 170,
   "metadata": {},
   "outputs": [],
   "source": [
    "recall= metrics.recall_score(y_test,LR.predict(final_tfidf_Xtest))"
   ]
  },
  {
   "cell_type": "code",
   "execution_count": 171,
   "metadata": {},
   "outputs": [],
   "source": [
    "f1 = metrics.f1_score(y_test,LR.predict(final_tfidf_Xtest))"
   ]
  },
  {
   "cell_type": "code",
   "execution_count": 172,
   "metadata": {},
   "outputs": [],
   "source": [
    "accuracy= metrics.accuracy_score(y_test,LR.predict(final_tfidf_Xtest))"
   ]
  },
  {
   "cell_type": "code",
   "execution_count": 173,
   "metadata": {},
   "outputs": [],
   "source": [
    "specificity = tn/float(tn+fp)"
   ]
  },
  {
   "cell_type": "code",
   "execution_count": 174,
   "metadata": {},
   "outputs": [],
   "source": [
    "neg_pred_value = tn/float(tn+fn)"
   ]
  },
  {
   "cell_type": "code",
   "execution_count": 175,
   "metadata": {},
   "outputs": [],
   "source": [
    "df3 = pd.DataFrame({'Accuracy Score':[accuracy],'Precision':[prec],'Recall':[recall],'F1_Score':[f1],'Specificity':[specificity],'Negative_Predicted_Value':[neg_pred_value]},index=['Tfidf_RandomSearch'])"
   ]
  },
  {
   "cell_type": "code",
   "execution_count": 176,
   "metadata": {},
   "outputs": [],
   "source": [
    "performance_table=performance_table.append(df3)"
   ]
  },
  {
   "cell_type": "code",
   "execution_count": 177,
   "metadata": {},
   "outputs": [
    {
     "data": {
      "text/html": [
       "<div>\n",
       "<style scoped>\n",
       "    .dataframe tbody tr th:only-of-type {\n",
       "        vertical-align: middle;\n",
       "    }\n",
       "\n",
       "    .dataframe tbody tr th {\n",
       "        vertical-align: top;\n",
       "    }\n",
       "\n",
       "    .dataframe thead th {\n",
       "        text-align: right;\n",
       "    }\n",
       "</style>\n",
       "<table border=\"1\" class=\"dataframe\">\n",
       "  <thead>\n",
       "    <tr style=\"text-align: right;\">\n",
       "      <th></th>\n",
       "      <th>Accuracy Score</th>\n",
       "      <th>Precision</th>\n",
       "      <th>Recall</th>\n",
       "      <th>F1_Score</th>\n",
       "      <th>Specificity</th>\n",
       "      <th>Negative_Predicted_Value</th>\n",
       "    </tr>\n",
       "  </thead>\n",
       "  <tbody>\n",
       "    <tr>\n",
       "      <th>BoW_GridSearch</th>\n",
       "      <td>0.800501</td>\n",
       "      <td>0.843852</td>\n",
       "      <td>0.936737</td>\n",
       "      <td>0.887872</td>\n",
       "      <td>0.166421</td>\n",
       "      <td>0.013304</td>\n",
       "    </tr>\n",
       "    <tr>\n",
       "      <th>BoW_RandomSearch</th>\n",
       "      <td>0.798258</td>\n",
       "      <td>0.843866</td>\n",
       "      <td>0.933451</td>\n",
       "      <td>0.886401</td>\n",
       "      <td>0.166106</td>\n",
       "      <td>0.014002</td>\n",
       "    </tr>\n",
       "    <tr>\n",
       "      <th>Tfidf_GridSearch</th>\n",
       "      <td>0.830094</td>\n",
       "      <td>0.843475</td>\n",
       "      <td>0.980440</td>\n",
       "      <td>0.906815</td>\n",
       "      <td>0.170616</td>\n",
       "      <td>0.004087</td>\n",
       "    </tr>\n",
       "    <tr>\n",
       "      <th>Tfidf_RandomSearch</th>\n",
       "      <td>0.802273</td>\n",
       "      <td>0.843333</td>\n",
       "      <td>0.940157</td>\n",
       "      <td>0.889117</td>\n",
       "      <td>0.158970</td>\n",
       "      <td>0.011888</td>\n",
       "    </tr>\n",
       "  </tbody>\n",
       "</table>\n",
       "</div>"
      ],
      "text/plain": [
       "                    Accuracy Score  Precision    Recall  F1_Score  \\\n",
       "BoW_GridSearch            0.800501   0.843852  0.936737  0.887872   \n",
       "BoW_RandomSearch          0.798258   0.843866  0.933451  0.886401   \n",
       "Tfidf_GridSearch          0.830094   0.843475  0.980440  0.906815   \n",
       "Tfidf_RandomSearch        0.802273   0.843333  0.940157  0.889117   \n",
       "\n",
       "                    Specificity  Negative_Predicted_Value  \n",
       "BoW_GridSearch         0.166421                  0.013304  \n",
       "BoW_RandomSearch       0.166106                  0.014002  \n",
       "Tfidf_GridSearch       0.170616                  0.004087  \n",
       "Tfidf_RandomSearch     0.158970                  0.011888  "
      ]
     },
     "execution_count": 177,
     "metadata": {},
     "output_type": "execute_result"
    }
   ],
   "source": [
    "performance_table"
   ]
  },
  {
   "cell_type": "code",
   "execution_count": 178,
   "metadata": {},
   "outputs": [],
   "source": [
    "con_matrix=metrics.confusion_matrix(y_test,LR.predict(final_tfidf_Xtest))"
   ]
  },
  {
   "cell_type": "code",
   "execution_count": 179,
   "metadata": {},
   "outputs": [],
   "source": [
    "import seaborn as sns"
   ]
  },
  {
   "cell_type": "code",
   "execution_count": 180,
   "metadata": {},
   "outputs": [],
   "source": [
    "df_con = pd.DataFrame(con_matrix.T,columns=['Negative','Positive'],index=['Negative','Positive'])"
   ]
  },
  {
   "cell_type": "code",
   "execution_count": 181,
   "metadata": {},
   "outputs": [],
   "source": [
    "y_pred_prob=LR.predict_proba(final_counts_Xtest)"
   ]
  },
  {
   "cell_type": "code",
   "execution_count": null,
   "metadata": {},
   "outputs": [],
   "source": []
  },
  {
   "cell_type": "code",
   "execution_count": 182,
   "metadata": {},
   "outputs": [],
   "source": [
    "fpr, tpr, thresholds = metrics.roc_curve(y_test, y_pred_prob[:,1], pos_label=1)"
   ]
  },
  {
   "cell_type": "code",
   "execution_count": 183,
   "metadata": {},
   "outputs": [
    {
     "data": {
      "image/png": "[encoded data removed]",
      "text/plain": [
       "<Figure size 864x360 with 3 Axes>"
      ]
     },
     "metadata": {},
     "output_type": "display_data"
    }
   ],
   "source": [
    "plt.figure(figsize=(12,5))\n",
    "plt.subplot(121)\n",
    "plt.title('Confusion Matrix')\n",
    "sns.heatmap(df_con,annot=True,fmt='g')\n",
    "plt.subplot(122)\n",
    "lw = 2\n",
    "plt.plot(fpr, tpr, color='darkorange',\n",
    "         lw=lw, label='ROC curve (area = %0.2f)')\n",
    "#plt.plot([0, 1], [0, 1], color='navy', lw=lw, linestyle='--')\n",
    "plt.xlim([0.0, 1.0])\n",
    "plt.ylim([0.0, 1.05])\n",
    "plt.xlabel('False Positive Rate')\n",
    "plt.ylabel('True Positive Rate')\n",
    "plt.title('Receiver operating characteristic')\n",
    "plt.legend(loc=\"lower right\")\n",
    "plt.show()"
   ]
  },
  {
   "cell_type": "code",
   "execution_count": null,
   "metadata": {},
   "outputs": [],
   "source": []
  },
  {
   "cell_type": "code",
   "execution_count": 184,
   "metadata": {},
   "outputs": [
    {
     "data": {
      "text/plain": [
       "array([[ 0.00770199,  0.00522726, -0.01702975, ...,  0.00338498,\n",
       "         0.00099486,  0.01238445]])"
      ]
     },
     "execution_count": 184,
     "metadata": {},
     "output_type": "execute_result"
    }
   ],
   "source": [
    "LR.coef_"
   ]
  },
  {
   "cell_type": "code",
   "execution_count": 185,
   "metadata": {},
   "outputs": [],
   "source": [
    "LR_W1=LR.coef_"
   ]
  },
  {
   "cell_type": "code",
   "execution_count": 186,
   "metadata": {},
   "outputs": [],
   "source": [
    "coeff_sorted = LR.coef_.argsort()"
   ]
  },
  {
   "cell_type": "markdown",
   "metadata": {},
   "source": [
    "#### 2.3.2 Pertubation Test"
   ]
  },
  {
   "cell_type": "code",
   "execution_count": 187,
   "metadata": {},
   "outputs": [],
   "source": [
    "e=np.random.normal(0.03,0.02)"
   ]
  },
  {
   "cell_type": "code",
   "execution_count": 188,
   "metadata": {},
   "outputs": [
    {
     "data": {
      "text/plain": [
       "0.05375132344285757"
      ]
     },
     "execution_count": 188,
     "metadata": {},
     "output_type": "execute_result"
    }
   ],
   "source": [
    "e"
   ]
  },
  {
   "cell_type": "code",
   "execution_count": 189,
   "metadata": {},
   "outputs": [],
   "source": [
    "final_tfidf_X1.data+=e"
   ]
  },
  {
   "cell_type": "code",
   "execution_count": 190,
   "metadata": {},
   "outputs": [
    {
     "data": {
      "text/plain": [
       "LogisticRegression(C=0.0001, class_weight=None, dual=False,\n",
       "          fit_intercept=True, intercept_scaling=1, max_iter=100,\n",
       "          multi_class='ovr', n_jobs=1, penalty='l2', random_state=None,\n",
       "          solver='liblinear', tol=0.0001, verbose=0, warm_start=False)"
      ]
     },
     "execution_count": 190,
     "metadata": {},
     "output_type": "execute_result"
    }
   ],
   "source": [
    "LR1=LogisticRegression(C=0.0001)\n",
    "LR1.fit(final_tfidf_X1,y_1)"
   ]
  },
  {
   "cell_type": "code",
   "execution_count": 191,
   "metadata": {},
   "outputs": [
    {
     "data": {
      "text/plain": [
       "array([[ 0.0008246 ,  0.00210184, -0.00707645, ...,  0.00156521,\n",
       "         0.00054914,  0.00459186]])"
      ]
     },
     "execution_count": 191,
     "metadata": {},
     "output_type": "execute_result"
    }
   ],
   "source": [
    "LR1.coef_"
   ]
  },
  {
   "cell_type": "code",
   "execution_count": 192,
   "metadata": {},
   "outputs": [],
   "source": [
    "LR1_W1=LR1.coef_"
   ]
  },
  {
   "cell_type": "code",
   "execution_count": 193,
   "metadata": {},
   "outputs": [
    {
     "data": {
      "text/plain": [
       "array([[ 0.00770199,  0.00522726, -0.01702975, ...,  0.00338498,\n",
       "         0.00099486,  0.01238445]])"
      ]
     },
     "execution_count": 193,
     "metadata": {},
     "output_type": "execute_result"
    }
   ],
   "source": [
    "LR_W1"
   ]
  },
  {
   "cell_type": "code",
   "execution_count": 194,
   "metadata": {},
   "outputs": [],
   "source": [
    "LR_W_Diff = LR_W1-LR1_W1"
   ]
  },
  {
   "cell_type": "code",
   "execution_count": null,
   "metadata": {},
   "outputs": [],
   "source": []
  },
  {
   "cell_type": "code",
   "execution_count": 195,
   "metadata": {},
   "outputs": [
    {
     "data": {
      "text/plain": [
       "0.056900231328664695"
      ]
     },
     "execution_count": 195,
     "metadata": {},
     "output_type": "execute_result"
    }
   ],
   "source": [
    "max(np.absolute(LR_W_Diff[LR_W_Diff!=0]))"
   ]
  },
  {
   "cell_type": "code",
   "execution_count": 196,
   "metadata": {},
   "outputs": [
    {
     "data": {
      "text/plain": [
       "5.567557262689169e-08"
      ]
     },
     "execution_count": 196,
     "metadata": {},
     "output_type": "execute_result"
    }
   ],
   "source": [
    "min(np.absolute(LR_W_Diff[LR_W_Diff!=0]))"
   ]
  },
  {
   "cell_type": "code",
   "execution_count": null,
   "metadata": {},
   "outputs": [],
   "source": []
  },
  {
   "cell_type": "markdown",
   "metadata": {},
   "source": [
    "#### Features are linearly independent"
   ]
  },
  {
   "cell_type": "markdown",
   "metadata": {},
   "source": [
    "#### 2.3.3 Feature Importance"
   ]
  },
  {
   "cell_type": "code",
   "execution_count": 197,
   "metadata": {},
   "outputs": [],
   "source": [
    "coeff_sorted_pos = LR.coef_.argsort()\n",
    "coeff_neg=-1*(LR.coef_)\n",
    "coeff_sorted_neg = coeff_neg.argsort()"
   ]
  },
  {
   "cell_type": "code",
   "execution_count": 198,
   "metadata": {},
   "outputs": [],
   "source": [
    "df1=pd.DataFrame((np.take(count_vect.get_feature_names(), coeff_sorted_pos[:100])).ravel())\n",
    "df2=pd.DataFrame((np.take(count_vect.get_feature_names(), coeff_sorted_neg[:100])).ravel())"
   ]
  },
  {
   "cell_type": "code",
   "execution_count": 199,
   "metadata": {},
   "outputs": [],
   "source": [
    "pos_list=[]\n",
    "for item in df1[0]:\n",
    "    pos_list.append(item)\n",
    "neg_list=[]\n",
    "for item in df2[0]:\n",
    "    neg_list.append(item)"
   ]
  },
  {
   "cell_type": "code",
   "execution_count": 200,
   "metadata": {},
   "outputs": [
    {
     "name": "stdout",
     "output_type": "stream",
     "text": [
      "=========================================== Important features for positive class ===========================================\n",
      "\n",
      "\n",
      "['jitter', 'skewed', 'artificiality', 'krueig', 'unseal', 'dehydrogenate', 'plantings', 'wildfire', 'arbitrary', 'voraciously', 'nat', 'foliage', 'unboxing', 'affliction', 'wisecrackers', 'grays', 'yap', 'baldwin', 'marlene', 'ellie', 'edta', 'dosages', 'poisen', 'nodoz', 'kickin', 'woolworth', 'cargo', 'imposter', 'connects', 'welfare', 'glasgow', 'lifestyles', 'mehmet', 'headquarters', 'flashing', 'tulley', 'sizzling', 'coasts', 'longish', 'overnights', 'spiedie', 'frighten', 'clicking', 'octagonal', 'diseased', 'industries', 'postulates', 'jot', 'catchiest', 'accordion', 'chicka', 'dimished', 'supped', 'frolicksome', 'whoopy', 'yukkin', 'bangled', 'gusty', 'baubled', 'sag', 'lanai', 'journals', 'kisser', 'chocoperfection', 'supervising', 'nastier', 'losses', 'cooties', 'growled', 'introductions', 'hani', 'towelsls', 'kolibri', 'wilsonara', 'sharry', 'catatante', 'odontocidium', 'degarmoara', 'hydroponics', 'windfall', 'pentahydrate', 'heptahydrate', 'phoshate', 'hydrocholride', 'prevacid', 'surmised', 'islander', 'pastor', 'aired', 'thoughtfully', 'geeked', 'pest', 'panforte', 'factories', 'entreat', 'remmber', 'manuacturers', 'bordon', 'eyars', 'apocaratenal']\n",
      "\n",
      "\n",
      "\n",
      "\n",
      "=========================================== Important features for negative class ===========================================\n",
      "\n",
      "\n",
      "['pastilles', 'friggin', 'yelling', 'resources', 'pallet', 'guatemala', 'squeezable', 'chawan', 'bragging', 'oesv', 'obsk', 'obsq', 'obsf', 'rutledge', 'mashbills', 'vinous', 'debase', 'viney', 'lawrenceburg', 'classicly', 'obsv', 'oesq', 'oesf', 'obso', 'oeso', 'oesk', 'mashbill', 'rancio', 'acres', 'developmental', 'weaned', 'formulated', 'wrongly', 'incorporates', 'silken', 'difficulties', 'witch', 'mundane', 'ballooned', 'seedy', 'crops', 'molded', 'petal', 'disinfection', 'envy', 'pam', 'winona', 'slimfast', 'goodlife', 'indiana', 'airedale', 'curling', 'chipped', 'delays', 'bathrooms', 'preschoolers', 'physically', 'sustenance', 'innocent', 'masa', 'gasket', 'malts', 'guarantees', 'mio', 'manufactures', 'snackers', 'sensible', 'hives', 'weiners', 'roe', 'paso', 'moctails', 'independently', 'cramp', 'superlative', 'smoothe', 'swift', 'crispies', 'lest', 'apologized', 'handles', 'gmcr', 'racoons', 'takers', 'substitue', 'grainless', 'records', 'gods', 'fart', 'butts', 'wearing', 'dehydrogenase', 'plastics', 'soya', 'gulping', 'swimming', 'hearth', 'filet', 'adaptable', 'yuk']\n",
      "\n",
      "\n",
      "=============================================================================================================================\n"
     ]
    }
   ],
   "source": [
    "print(\"=\"*43,'Important features for positive class',\"=\"*43)\n",
    "print(\"\\n\")\n",
    "print(pos_list[:100])\n",
    "print(\"\\n\")\n",
    "print(\"\\n\")\n",
    "print(\"=\"*43,'Important features for negative class',\"=\"*43)\n",
    "print(\"\\n\")\n",
    "print(neg_list[:100])\n",
    "print(\"\\n\")\n",
    "print(\"=\"*125)\n"
   ]
  },
  {
   "cell_type": "markdown",
   "metadata": {},
   "source": [
    "#### 2.4 L1 Regularization"
   ]
  },
  {
   "cell_type": "code",
   "execution_count": 132,
   "metadata": {},
   "outputs": [],
   "source": [
    "X_train.data-=e"
   ]
  },
  {
   "cell_type": "code",
   "execution_count": 133,
   "metadata": {
    "scrolled": true
   },
   "outputs": [
    {
     "data": {
      "text/plain": [
       "GridSearchCV(cv=None, error_score='raise',\n",
       "       estimator=LogisticRegression(C=1.0, class_weight=None, dual=False, fit_intercept=True,\n",
       "          intercept_scaling=1, max_iter=100, multi_class='ovr', n_jobs=1,\n",
       "          penalty='l1', random_state=None, solver='liblinear', tol=0.0001,\n",
       "          verbose=0, warm_start=False),\n",
       "       fit_params={}, iid=True, n_jobs=1,\n",
       "       param_grid=[{'C': [0.0001, 0.01, 1, 0.01, 10000]}],\n",
       "       pre_dispatch='2*n_jobs', refit=True, scoring='f1', verbose=0)"
      ]
     },
     "execution_count": 133,
     "metadata": {},
     "output_type": "execute_result"
    }
   ],
   "source": [
    "model1 = GridSearchCV(LogisticRegression(penalty='l1'),tuned_parameters,scoring='f1',n_jobs=1)\n",
    "model1.fit(final_tfidf_X1,y_1)"
   ]
  },
  {
   "cell_type": "code",
   "execution_count": 134,
   "metadata": {},
   "outputs": [
    {
     "name": "stdout",
     "output_type": "stream",
     "text": [
      "LogisticRegression(C=0.0001, class_weight=None, dual=False,\n",
      "          fit_intercept=True, intercept_scaling=1, max_iter=100,\n",
      "          multi_class='ovr', n_jobs=1, penalty='l1', random_state=None,\n",
      "          solver='liblinear', tol=0.0001, verbose=0, warm_start=False)\n",
      "0.915293396033531\n"
     ]
    }
   ],
   "source": [
    "print(model1.best_estimator_)\n",
    "print(model1.score(final_tfidf_Xtest,y_test))"
   ]
  },
  {
   "cell_type": "code",
   "execution_count": null,
   "metadata": {},
   "outputs": [],
   "source": []
  },
  {
   "cell_type": "markdown",
   "metadata": {},
   "source": [
    "#### 2.4.1. C value Vs sparcity"
   ]
  },
  {
   "cell_type": "code",
   "execution_count": 135,
   "metadata": {},
   "outputs": [],
   "source": [
    "z0=[]\n",
    "for i in [0.1,0.01,0.001,0.0001]:\n",
    "    lr = LogisticRegression(C=i,penalty='l1')\n",
    "    lr.fit(final_tfidf_X1,y_1)\n",
    "    w=lr.coef_\n",
    "    z=np.count_nonzero(w)\n",
    "    z0.append(z)"
   ]
  },
  {
   "cell_type": "code",
   "execution_count": 136,
   "metadata": {},
   "outputs": [
    {
     "data": {
      "image/png": "[encoded data removed]",
      "text/plain": [
       "<matplotlib.figure.Figure at 0x1e41d696f60>"
      ]
     },
     "metadata": {},
     "output_type": "display_data"
    }
   ],
   "source": [
    "plt.plot([0.1,0.01,0.001,0.0001],z0)\n",
    "plt.xlabel('C values')\n",
    "plt.ylabel('Number of non zero entry in weight vector')\n",
    "plt.show()"
   ]
  },
  {
   "cell_type": "code",
   "execution_count": 137,
   "metadata": {},
   "outputs": [
    {
     "data": {
      "text/plain": [
       "[56775, 26401, 0, 0]"
      ]
     },
     "execution_count": 137,
     "metadata": {},
     "output_type": "execute_result"
    }
   ],
   "source": [
    "z0"
   ]
  },
  {
   "cell_type": "markdown",
   "metadata": {},
   "source": [
    "#### 2.4.2 C value Vs Error"
   ]
  },
  {
   "cell_type": "code",
   "execution_count": 138,
   "metadata": {},
   "outputs": [],
   "source": [
    "e0=[]\n",
    "for i in [0.1,0.01,0.001,0.0001]:\n",
    "    lr = LogisticRegression(C=i,penalty='l1')\n",
    "    lr.fit(final_tfidf_X1,y_1)\n",
    "    y_pred=lr.predict(final_tfidf_X1)\n",
    "    error=1-sklearn.metrics.accuracy_score(y_test,y_pred)\n",
    "    e0.append(error)"
   ]
  },
  {
   "cell_type": "code",
   "execution_count": 139,
   "metadata": {
    "scrolled": true
   },
   "outputs": [
    {
     "data": {
      "image/png": "[encoded data removed]",
      "text/plain": [
       "<matplotlib.figure.Figure at 0x1e41d696160>"
      ]
     },
     "metadata": {},
     "output_type": "display_data"
    }
   ],
   "source": [
    "plt.plot([0.1,0.01,0.001,0.0001],e0)\n",
    "plt.xlabel('C values')\n",
    "plt.ylabel('Error')\n",
    "plt.show()"
   ]
  },
  {
   "cell_type": "code",
   "execution_count": null,
   "metadata": {},
   "outputs": [],
   "source": []
  },
  {
   "cell_type": "code",
   "execution_count": null,
   "metadata": {},
   "outputs": [],
   "source": []
  },
  {
   "cell_type": "markdown",
   "metadata": {},
   "source": [
    "#### 3.Average Word2Vec"
   ]
  },
  {
   "cell_type": "code",
   "execution_count": 201,
   "metadata": {},
   "outputs": [
    {
     "name": "stderr",
     "output_type": "stream",
     "text": [
      "C:\\Users\\Dipayan\\Anaconda3\\lib\\site-packages\\gensim\\utils.py:1209: UserWarning: detected Windows; aliasing chunkize to chunkize_serial\n",
      "  warnings.warn(\"detected Windows; aliasing chunkize to chunkize_serial\")\n"
     ]
    }
   ],
   "source": [
    "import gensim\n"
   ]
  },
  {
   "cell_type": "code",
   "execution_count": 202,
   "metadata": {},
   "outputs": [],
   "source": [
    "list_of_sent_X1 = []\n",
    "for sent in X_1:\n",
    "    filtered_sentance=[]\n",
    "    for w in sent.split():\n",
    "        filtered_sentance.append(w)\n",
    "    list_of_sent_X1.append(filtered_sentance)"
   ]
  },
  {
   "cell_type": "code",
   "execution_count": 203,
   "metadata": {},
   "outputs": [],
   "source": [
    "W2V=gensim.models.Word2Vec(list_of_sent_X1,min_count=5,size=50,workers=4)"
   ]
  },
  {
   "cell_type": "code",
   "execution_count": 204,
   "metadata": {},
   "outputs": [
    {
     "name": "stderr",
     "output_type": "stream",
     "text": [
      "C:\\Users\\Dipayan\\Anaconda3\\lib\\site-packages\\ipykernel_launcher.py:12: RuntimeWarning: invalid value encountered in true_divide\n",
      "  if sys.path[0] == '':\n"
     ]
    }
   ],
   "source": [
    "sent_vectors_X1 = []\n",
    "for sent in list_of_sent_X1:\n",
    "    sent_vec = np.zeros(50)\n",
    "    cnt_words = 0\n",
    "    for word in sent:\n",
    "        try:\n",
    "            vec = W2V.wv[word]\n",
    "            sent_vec += vec\n",
    "            cnt_words += 1\n",
    "        except:\n",
    "            pass\n",
    "    sent_vec /= cnt_words\n",
    "    if cnt_words==0:\n",
    "        sent_vectors_X1.append(np.zeros(50))\n",
    "    else:\n",
    "        sent_vectors_X1.append(sent_vec)"
   ]
  },
  {
   "cell_type": "code",
   "execution_count": null,
   "metadata": {},
   "outputs": [],
   "source": []
  },
  {
   "cell_type": "code",
   "execution_count": 205,
   "metadata": {},
   "outputs": [],
   "source": [
    "df_X1=pd.DataFrame(sent_vectors_X1)"
   ]
  },
  {
   "cell_type": "code",
   "execution_count": 206,
   "metadata": {},
   "outputs": [
    {
     "data": {
      "text/plain": [
       "(212212, 50)"
      ]
     },
     "execution_count": 206,
     "metadata": {},
     "output_type": "execute_result"
    }
   ],
   "source": [
    "df_X1.shape"
   ]
  },
  {
   "cell_type": "code",
   "execution_count": 207,
   "metadata": {},
   "outputs": [
    {
     "data": {
      "text/plain": [
       "(212212,)"
      ]
     },
     "execution_count": 207,
     "metadata": {},
     "output_type": "execute_result"
    }
   ],
   "source": [
    "y_1.shape"
   ]
  },
  {
   "cell_type": "code",
   "execution_count": 208,
   "metadata": {},
   "outputs": [],
   "source": [
    "tuned_parameters=[{'C':[10**-4,10**-2,10**-0,10**-2,10**4]}]"
   ]
  },
  {
   "cell_type": "markdown",
   "metadata": {},
   "source": [
    "#### 3.1 GridSearchCV"
   ]
  },
  {
   "cell_type": "code",
   "execution_count": 27,
   "metadata": {},
   "outputs": [
    {
     "data": {
      "text/plain": [
       "GridSearchCV(cv=None, error_score='raise',\n",
       "       estimator=LogisticRegression(C=1.0, class_weight=None, dual=False, fit_intercept=True,\n",
       "          intercept_scaling=1, max_iter=100, multi_class='ovr', n_jobs=1,\n",
       "          penalty='l2', random_state=None, solver='liblinear', tol=0.0001,\n",
       "          verbose=0, warm_start=False),\n",
       "       fit_params={}, iid=True, n_jobs=1,\n",
       "       param_grid=[{'C': [0.0001, 0.01, 1, 0.01, 10000]}],\n",
       "       pre_dispatch='2*n_jobs', refit=True, scoring='f1', verbose=0)"
      ]
     },
     "execution_count": 27,
     "metadata": {},
     "output_type": "execute_result"
    }
   ],
   "source": [
    "model = GridSearchCV(LogisticRegression(),tuned_parameters,scoring='f1')\n",
    "model.fit(df_X1,y_1)"
   ]
  },
  {
   "cell_type": "code",
   "execution_count": null,
   "metadata": {},
   "outputs": [],
   "source": []
  },
  {
   "cell_type": "code",
   "execution_count": 209,
   "metadata": {},
   "outputs": [],
   "source": [
    "list_of_sent_Xtest = []\n",
    "for sent in X_test:\n",
    "    filtered_sentance=[]\n",
    "    for w in sent.split():\n",
    "        filtered_sentance.append(w)\n",
    "    list_of_sent_Xtest.append(filtered_sentance)"
   ]
  },
  {
   "cell_type": "code",
   "execution_count": 210,
   "metadata": {},
   "outputs": [],
   "source": [
    "sent_vectors_Xtest = []\n",
    "for sent in list_of_sent_Xtest:\n",
    "    sent_vec = np.zeros(50)\n",
    "    cnt_words = 0\n",
    "    for word in sent:\n",
    "        try:\n",
    "            vec = W2V.wv[word]\n",
    "            sent_vec += vec\n",
    "            cnt_words += 1\n",
    "        except:\n",
    "            pass\n",
    "    sent_vec /= cnt_words\n",
    "    if cnt_words==0:\n",
    "        sent_vectors_Xtest.append(np.zeros(50))\n",
    "    else:\n",
    "        sent_vectors_Xtest.append(sent_vec)"
   ]
  },
  {
   "cell_type": "code",
   "execution_count": 211,
   "metadata": {},
   "outputs": [],
   "source": [
    "df_Xtest=pd.DataFrame(sent_vectors_Xtest)"
   ]
  },
  {
   "cell_type": "code",
   "execution_count": 212,
   "metadata": {},
   "outputs": [
    {
     "data": {
      "text/plain": [
       "(53053, 50)"
      ]
     },
     "execution_count": 212,
     "metadata": {},
     "output_type": "execute_result"
    }
   ],
   "source": [
    "df_Xtest.shape"
   ]
  },
  {
   "cell_type": "code",
   "execution_count": 213,
   "metadata": {},
   "outputs": [
    {
     "data": {
      "text/plain": [
       "(53053,)"
      ]
     },
     "execution_count": 213,
     "metadata": {},
     "output_type": "execute_result"
    }
   ],
   "source": [
    "y_test.shape"
   ]
  },
  {
   "cell_type": "markdown",
   "metadata": {},
   "source": [
    "#### 3.1.1 Applying Logistic Regreession with derived C value"
   ]
  },
  {
   "cell_type": "code",
   "execution_count": 33,
   "metadata": {},
   "outputs": [
    {
     "name": "stdout",
     "output_type": "stream",
     "text": [
      "LogisticRegression(C=0.01, class_weight=None, dual=False, fit_intercept=True,\n",
      "          intercept_scaling=1, max_iter=100, multi_class='ovr', n_jobs=1,\n",
      "          penalty='l2', random_state=None, solver='liblinear', tol=0.0001,\n",
      "          verbose=0, warm_start=False)\n",
      "0.9149273420802356\n"
     ]
    }
   ],
   "source": [
    "print(model.best_estimator_)\n",
    "print(model.score(df_Xtest,y_test))"
   ]
  },
  {
   "cell_type": "code",
   "execution_count": 215,
   "metadata": {},
   "outputs": [
    {
     "data": {
      "text/plain": [
       "LogisticRegression(C=0.01, class_weight=None, dual=False, fit_intercept=True,\n",
       "          intercept_scaling=1, max_iter=100, multi_class='ovr', n_jobs=1,\n",
       "          penalty='l2', random_state=None, solver='liblinear', tol=0.0001,\n",
       "          verbose=0, warm_start=False)"
      ]
     },
     "execution_count": 215,
     "metadata": {},
     "output_type": "execute_result"
    }
   ],
   "source": [
    "LR=LogisticRegression(C=0.01)\n",
    "LR.fit(df_X1,y_1)"
   ]
  },
  {
   "cell_type": "code",
   "execution_count": 225,
   "metadata": {},
   "outputs": [],
   "source": [
    "LR_W1=LR.coef_"
   ]
  },
  {
   "cell_type": "markdown",
   "metadata": {},
   "source": [
    "#### 3.1.2 Pertubation test"
   ]
  },
  {
   "cell_type": "code",
   "execution_count": 216,
   "metadata": {},
   "outputs": [],
   "source": [
    "e=np.random.normal(0.03,0.02)"
   ]
  },
  {
   "cell_type": "code",
   "execution_count": 217,
   "metadata": {},
   "outputs": [
    {
     "data": {
      "text/plain": [
       "0.03528593892553734"
      ]
     },
     "execution_count": 217,
     "metadata": {},
     "output_type": "execute_result"
    }
   ],
   "source": [
    "e"
   ]
  },
  {
   "cell_type": "code",
   "execution_count": 218,
   "metadata": {},
   "outputs": [],
   "source": [
    "df_X1+=e"
   ]
  },
  {
   "cell_type": "code",
   "execution_count": 219,
   "metadata": {},
   "outputs": [
    {
     "data": {
      "text/plain": [
       "LogisticRegression(C=0.01, class_weight=None, dual=False, fit_intercept=True,\n",
       "          intercept_scaling=1, max_iter=100, multi_class='ovr', n_jobs=1,\n",
       "          penalty='l2', random_state=None, solver='liblinear', tol=0.0001,\n",
       "          verbose=0, warm_start=False)"
      ]
     },
     "execution_count": 219,
     "metadata": {},
     "output_type": "execute_result"
    }
   ],
   "source": [
    "LR1=LogisticRegression(C=0.01)\n",
    "LR1.fit(df_X1,y_1)"
   ]
  },
  {
   "cell_type": "code",
   "execution_count": 220,
   "metadata": {},
   "outputs": [
    {
     "data": {
      "text/plain": [
       "array([[-0.19297889,  0.08302256, -0.00473971, -0.06256505,  0.04654224,\n",
       "        -0.04844516,  0.08260284,  0.12275499, -0.07247556,  0.10692215,\n",
       "        -0.08449578,  0.10396052,  0.02771107, -0.15820681,  0.03754616,\n",
       "         0.16174   , -0.10368227, -0.07484519,  0.17166268,  0.07492807,\n",
       "         0.01284445, -0.00877333,  0.0416666 ,  0.08690573,  0.07036047,\n",
       "         0.11662243,  0.00546516,  0.0175725 , -0.02947146,  0.15978862,\n",
       "         0.15528429, -0.07857542,  0.05060631,  0.12737115,  0.15188312,\n",
       "         0.00152423, -0.04789635, -0.07620724, -0.05566998, -0.13191665,\n",
       "        -0.19451543,  0.02861704, -0.00142713, -0.09164076, -0.00983358,\n",
       "        -0.02441553,  0.00445978,  0.00032717, -0.06286939,  0.07575386]])"
      ]
     },
     "execution_count": 220,
     "metadata": {},
     "output_type": "execute_result"
    }
   ],
   "source": [
    "LR1.coef_"
   ]
  },
  {
   "cell_type": "code",
   "execution_count": 221,
   "metadata": {},
   "outputs": [],
   "source": [
    "LR1_W1=LR1.coef_"
   ]
  },
  {
   "cell_type": "code",
   "execution_count": 222,
   "metadata": {},
   "outputs": [],
   "source": [
    "df_X1-=e"
   ]
  },
  {
   "cell_type": "code",
   "execution_count": 223,
   "metadata": {},
   "outputs": [
    {
     "data": {
      "text/plain": [
       "array([[ 0.00770199,  0.00522726, -0.01702975, ...,  0.00338498,\n",
       "         0.00099486,  0.01238445]])"
      ]
     },
     "execution_count": 223,
     "metadata": {},
     "output_type": "execute_result"
    }
   ],
   "source": [
    "LR_W1"
   ]
  },
  {
   "cell_type": "code",
   "execution_count": 226,
   "metadata": {},
   "outputs": [],
   "source": [
    "LR_W_Diff = LR_W1-LR1_W1"
   ]
  },
  {
   "cell_type": "code",
   "execution_count": 227,
   "metadata": {},
   "outputs": [
    {
     "data": {
      "text/plain": [
       "0.0008850556576551344"
      ]
     },
     "execution_count": 227,
     "metadata": {},
     "output_type": "execute_result"
    }
   ],
   "source": [
    "np.mean(np.absolute(LR_W_Diff))"
   ]
  },
  {
   "cell_type": "code",
   "execution_count": 228,
   "metadata": {},
   "outputs": [
    {
     "data": {
      "text/plain": [
       "0.002331921827883443"
      ]
     },
     "execution_count": 228,
     "metadata": {},
     "output_type": "execute_result"
    }
   ],
   "source": [
    "np.max(np.absolute(LR_W_Diff))"
   ]
  },
  {
   "cell_type": "code",
   "execution_count": null,
   "metadata": {},
   "outputs": [],
   "source": []
  },
  {
   "cell_type": "markdown",
   "metadata": {},
   "source": [
    "#### 3.2 L1 Regularization"
   ]
  },
  {
   "cell_type": "code",
   "execution_count": 54,
   "metadata": {},
   "outputs": [
    {
     "data": {
      "text/plain": [
       "GridSearchCV(cv=None, error_score='raise',\n",
       "       estimator=LogisticRegression(C=1.0, class_weight=None, dual=False, fit_intercept=True,\n",
       "          intercept_scaling=1, max_iter=100, multi_class='ovr', n_jobs=1,\n",
       "          penalty='l1', random_state=None, solver='liblinear', tol=0.0001,\n",
       "          verbose=0, warm_start=False),\n",
       "       fit_params={}, iid=True, n_jobs=3,\n",
       "       param_grid=[{'C': [0.0001, 0.01, 1, 0.01, 10000]}],\n",
       "       pre_dispatch='2*n_jobs', refit=True, scoring='f1', verbose=0)"
      ]
     },
     "execution_count": 54,
     "metadata": {},
     "output_type": "execute_result"
    }
   ],
   "source": [
    "model1 = GridSearchCV(LogisticRegression(penalty='l1'),tuned_parameters,scoring='f1',n_jobs=3)\n",
    "model1.fit(df_X1,y_1)"
   ]
  },
  {
   "cell_type": "code",
   "execution_count": 55,
   "metadata": {},
   "outputs": [
    {
     "name": "stdout",
     "output_type": "stream",
     "text": [
      "LogisticRegression(C=0.0001, class_weight=None, dual=False,\n",
      "          fit_intercept=True, intercept_scaling=1, max_iter=100,\n",
      "          multi_class='ovr', n_jobs=1, penalty='l1', random_state=None,\n",
      "          solver='liblinear', tol=0.0001, verbose=0, warm_start=False)\n",
      "0.9149273420802356\n"
     ]
    }
   ],
   "source": [
    "print(model1.best_estimator_)\n",
    "print(model1.score(df_Xtest,y_test))"
   ]
  },
  {
   "cell_type": "markdown",
   "metadata": {},
   "source": [
    "#### 3.2.1 C Vs Sparcity"
   ]
  },
  {
   "cell_type": "code",
   "execution_count": 64,
   "metadata": {},
   "outputs": [],
   "source": [
    "from sklearn.metrics import accuracy_score"
   ]
  },
  {
   "cell_type": "code",
   "execution_count": 38,
   "metadata": {},
   "outputs": [],
   "source": [
    "import matplotlib.pyplot as plt"
   ]
  },
  {
   "cell_type": "code",
   "execution_count": 59,
   "metadata": {},
   "outputs": [],
   "source": [
    "z0=[]\n",
    "for i in [0.1,0.01,0.001,0.0001]:\n",
    "    lr = LogisticRegression(C=i,penalty='l1')\n",
    "    lr.fit(df_X1,y_1)\n",
    "    w=lr.coef_\n",
    "    z=np.count_nonzero(w)\n",
    "    z0.append(z)"
   ]
  },
  {
   "cell_type": "code",
   "execution_count": 60,
   "metadata": {
    "scrolled": true
   },
   "outputs": [
    {
     "data": {
      "image/png": "[encoded data removed]",
      "text/plain": [
       "<matplotlib.figure.Figure at 0x1ddcc6a5f28>"
      ]
     },
     "metadata": {},
     "output_type": "display_data"
    }
   ],
   "source": [
    "plt.plot([0.1,0.01,0.001,0.0001],z0)\n",
    "plt.xlabel('C values')\n",
    "plt.ylabel('Number of non zero entry in weight vector')\n",
    "plt.show()"
   ]
  },
  {
   "cell_type": "markdown",
   "metadata": {},
   "source": [
    "#### 3.2.2 C Vs Error"
   ]
  },
  {
   "cell_type": "code",
   "execution_count": 35,
   "metadata": {},
   "outputs": [],
   "source": [
    "from sklearn import metrics"
   ]
  },
  {
   "cell_type": "code",
   "execution_count": 61,
   "metadata": {},
   "outputs": [
    {
     "data": {
      "text/plain": [
       "[43, 9, 0, 0]"
      ]
     },
     "execution_count": 61,
     "metadata": {},
     "output_type": "execute_result"
    }
   ],
   "source": [
    "z0"
   ]
  },
  {
   "cell_type": "code",
   "execution_count": 43,
   "metadata": {},
   "outputs": [
    {
     "name": "stdout",
     "output_type": "stream",
     "text": [
      "0.8431945413077488\n",
      "0.8431945413077488\n",
      "0.8431945413077488\n",
      "0.8431945413077488\n"
     ]
    }
   ],
   "source": [
    "e0=[]\n",
    "for i in [0.1,0.01,0.001,0.0001]:\n",
    "    lr = LogisticRegression(C=i,penalty='l1')\n",
    "    lr.fit(df_X1,y_1)\n",
    "    y_pred=lr.predict(df_Xtest)\n",
    "    print(metrics.accuracy_score(y_test,y_pred))\n",
    "    e0.append((1-metrics.accuracy_score(y_test,y_pred)))"
   ]
  },
  {
   "cell_type": "code",
   "execution_count": 45,
   "metadata": {
    "scrolled": true
   },
   "outputs": [
    {
     "data": {
      "image/png": "[encoded data removed]",
      "text/plain": [
       "<matplotlib.figure.Figure at 0x20e33b998d0>"
      ]
     },
     "metadata": {},
     "output_type": "display_data"
    }
   ],
   "source": [
    "plt.plot([0.1,0.01,0.001,0.0001],e0)\n",
    "plt.xlabel('C values')\n",
    "plt.ylabel('Error')\n",
    "plt.show()"
   ]
  },
  {
   "cell_type": "code",
   "execution_count": 229,
   "metadata": {},
   "outputs": [
    {
     "data": {
      "text/plain": [
       "LogisticRegression(C=1e-06, class_weight=None, dual=False, fit_intercept=True,\n",
       "          intercept_scaling=1, max_iter=100, multi_class='ovr', n_jobs=1,\n",
       "          penalty='l2', random_state=None, solver='liblinear', tol=0.0001,\n",
       "          verbose=0, warm_start=False)"
      ]
     },
     "execution_count": 229,
     "metadata": {},
     "output_type": "execute_result"
    }
   ],
   "source": [
    "LR=LogisticRegression(C=0.000001)\n",
    "LR.fit(df_X1,y_1)"
   ]
  },
  {
   "cell_type": "code",
   "execution_count": null,
   "metadata": {},
   "outputs": [],
   "source": []
  },
  {
   "cell_type": "code",
   "execution_count": 230,
   "metadata": {},
   "outputs": [],
   "source": [
    "tn,fn,fp,fn=metrics.confusion_matrix(y_test,LR.predict(df_Xtest)).ravel()"
   ]
  },
  {
   "cell_type": "code",
   "execution_count": 231,
   "metadata": {},
   "outputs": [],
   "source": [
    "prec = metrics.precision_score(y_test,LR.predict(df_Xtest))"
   ]
  },
  {
   "cell_type": "code",
   "execution_count": 232,
   "metadata": {},
   "outputs": [],
   "source": [
    "recall= metrics.recall_score(y_test,LR.predict(df_Xtest))"
   ]
  },
  {
   "cell_type": "code",
   "execution_count": 233,
   "metadata": {},
   "outputs": [],
   "source": [
    "f1 = metrics.f1_score(y_test,LR.predict(df_Xtest))"
   ]
  },
  {
   "cell_type": "code",
   "execution_count": 234,
   "metadata": {},
   "outputs": [],
   "source": [
    "accuracy= metrics.accuracy_score(y_test,LR.predict(df_Xtest))"
   ]
  },
  {
   "cell_type": "code",
   "execution_count": 235,
   "metadata": {},
   "outputs": [],
   "source": [
    "specificity = tn/float(tn+fp)"
   ]
  },
  {
   "cell_type": "code",
   "execution_count": 236,
   "metadata": {},
   "outputs": [],
   "source": [
    "neg_pred_value = tn/float(tn+fn)"
   ]
  },
  {
   "cell_type": "code",
   "execution_count": 237,
   "metadata": {},
   "outputs": [],
   "source": [
    "df4 = pd.DataFrame({'Accuracy Score':[accuracy],'Precision':[prec],'Recall':[recall],'F1_Score':[f1],'Specificity':[specificity],'Negative_Predicted_Value':[neg_pred_value]},index=['W2V_avg'])"
   ]
  },
  {
   "cell_type": "code",
   "execution_count": 238,
   "metadata": {},
   "outputs": [],
   "source": [
    "performance_table=performance_table.append(df4)"
   ]
  },
  {
   "cell_type": "code",
   "execution_count": 239,
   "metadata": {},
   "outputs": [
    {
     "data": {
      "text/html": [
       "<div>\n",
       "<style scoped>\n",
       "    .dataframe tbody tr th:only-of-type {\n",
       "        vertical-align: middle;\n",
       "    }\n",
       "\n",
       "    .dataframe tbody tr th {\n",
       "        vertical-align: top;\n",
       "    }\n",
       "\n",
       "    .dataframe thead th {\n",
       "        text-align: right;\n",
       "    }\n",
       "</style>\n",
       "<table border=\"1\" class=\"dataframe\">\n",
       "  <thead>\n",
       "    <tr style=\"text-align: right;\">\n",
       "      <th></th>\n",
       "      <th>Accuracy Score</th>\n",
       "      <th>Precision</th>\n",
       "      <th>Recall</th>\n",
       "      <th>F1_Score</th>\n",
       "      <th>Specificity</th>\n",
       "      <th>Negative_Predicted_Value</th>\n",
       "    </tr>\n",
       "  </thead>\n",
       "  <tbody>\n",
       "    <tr>\n",
       "      <th>BoW_GridSearch</th>\n",
       "      <td>0.800501</td>\n",
       "      <td>0.843852</td>\n",
       "      <td>0.936737</td>\n",
       "      <td>0.887872</td>\n",
       "      <td>0.166421</td>\n",
       "      <td>0.013304</td>\n",
       "    </tr>\n",
       "    <tr>\n",
       "      <th>BoW_RandomSearch</th>\n",
       "      <td>0.798258</td>\n",
       "      <td>0.843866</td>\n",
       "      <td>0.933451</td>\n",
       "      <td>0.886401</td>\n",
       "      <td>0.166106</td>\n",
       "      <td>0.014002</td>\n",
       "    </tr>\n",
       "    <tr>\n",
       "      <th>Tfidf_GridSearch</th>\n",
       "      <td>0.830094</td>\n",
       "      <td>0.843475</td>\n",
       "      <td>0.980440</td>\n",
       "      <td>0.906815</td>\n",
       "      <td>0.170616</td>\n",
       "      <td>0.004087</td>\n",
       "    </tr>\n",
       "    <tr>\n",
       "      <th>Tfidf_RandomSearch</th>\n",
       "      <td>0.802273</td>\n",
       "      <td>0.843333</td>\n",
       "      <td>0.940157</td>\n",
       "      <td>0.889117</td>\n",
       "      <td>0.158970</td>\n",
       "      <td>0.011888</td>\n",
       "    </tr>\n",
       "    <tr>\n",
       "      <th>W2V_avg</th>\n",
       "      <td>0.842855</td>\n",
       "      <td>0.843154</td>\n",
       "      <td>0.999575</td>\n",
       "      <td>0.914726</td>\n",
       "      <td>0.050000</td>\n",
       "      <td>0.000022</td>\n",
       "    </tr>\n",
       "  </tbody>\n",
       "</table>\n",
       "</div>"
      ],
      "text/plain": [
       "                    Accuracy Score  Precision    Recall  F1_Score  \\\n",
       "BoW_GridSearch            0.800501   0.843852  0.936737  0.887872   \n",
       "BoW_RandomSearch          0.798258   0.843866  0.933451  0.886401   \n",
       "Tfidf_GridSearch          0.830094   0.843475  0.980440  0.906815   \n",
       "Tfidf_RandomSearch        0.802273   0.843333  0.940157  0.889117   \n",
       "W2V_avg                   0.842855   0.843154  0.999575  0.914726   \n",
       "\n",
       "                    Specificity  Negative_Predicted_Value  \n",
       "BoW_GridSearch         0.166421                  0.013304  \n",
       "BoW_RandomSearch       0.166106                  0.014002  \n",
       "Tfidf_GridSearch       0.170616                  0.004087  \n",
       "Tfidf_RandomSearch     0.158970                  0.011888  \n",
       "W2V_avg                0.050000                  0.000022  "
      ]
     },
     "execution_count": 239,
     "metadata": {},
     "output_type": "execute_result"
    }
   ],
   "source": [
    "performance_table"
   ]
  },
  {
   "cell_type": "code",
   "execution_count": 240,
   "metadata": {},
   "outputs": [],
   "source": [
    "con_matrix=metrics.confusion_matrix(y_test,LR.predict(df_Xtest))"
   ]
  },
  {
   "cell_type": "code",
   "execution_count": 241,
   "metadata": {},
   "outputs": [],
   "source": [
    "import seaborn as sns"
   ]
  },
  {
   "cell_type": "code",
   "execution_count": 242,
   "metadata": {},
   "outputs": [],
   "source": [
    "df_con = pd.DataFrame(con_matrix.T,columns=['Negative','Positive'],index=['Negative','Positive'])"
   ]
  },
  {
   "cell_type": "code",
   "execution_count": 243,
   "metadata": {},
   "outputs": [],
   "source": [
    "y_pred_prob=LR.predict_proba(df_Xtest)"
   ]
  },
  {
   "cell_type": "code",
   "execution_count": null,
   "metadata": {},
   "outputs": [],
   "source": []
  },
  {
   "cell_type": "code",
   "execution_count": 244,
   "metadata": {},
   "outputs": [],
   "source": [
    "fpr, tpr, thresholds = metrics.roc_curve(y_test, y_pred_prob[:,1], pos_label=1)"
   ]
  },
  {
   "cell_type": "code",
   "execution_count": 245,
   "metadata": {},
   "outputs": [
    {
     "data": {
      "image/png": "[encoded data removed]",
      "text/plain": [
       "<Figure size 864x360 with 3 Axes>"
      ]
     },
     "metadata": {},
     "output_type": "display_data"
    }
   ],
   "source": [
    "plt.figure(figsize=(12,5))\n",
    "plt.subplot(121)\n",
    "plt.title('Confusion Matrix')\n",
    "sns.heatmap(df_con,annot=True,fmt='g')\n",
    "plt.subplot(122)\n",
    "lw = 2\n",
    "plt.plot(fpr, tpr, color='darkorange',\n",
    "         lw=lw, label='ROC curve (area = %0.2f)')\n",
    "#plt.plot([0, 1], [0, 1], color='navy', lw=lw, linestyle='--')\n",
    "plt.xlim([0.0, 1.0])\n",
    "plt.ylim([0.0, 1.05])\n",
    "plt.xlabel('False Positive Rate')\n",
    "plt.ylabel('True Positive Rate')\n",
    "plt.title('Receiver operating characteristic')\n",
    "plt.legend(loc=\"lower right\")\n",
    "plt.show()"
   ]
  },
  {
   "cell_type": "code",
   "execution_count": null,
   "metadata": {},
   "outputs": [],
   "source": []
  },
  {
   "cell_type": "code",
   "execution_count": null,
   "metadata": {},
   "outputs": [],
   "source": []
  },
  {
   "cell_type": "code",
   "execution_count": null,
   "metadata": {},
   "outputs": [],
   "source": []
  },
  {
   "cell_type": "markdown",
   "metadata": {},
   "source": [
    "#### 4. Tfidf Word2Vec"
   ]
  },
  {
   "cell_type": "code",
   "execution_count": 246,
   "metadata": {},
   "outputs": [],
   "source": [
    "from sklearn.utils import resample"
   ]
  },
  {
   "cell_type": "code",
   "execution_count": 247,
   "metadata": {},
   "outputs": [],
   "source": [
    "finaldf1=resample(final_df,n_samples=10000)"
   ]
  },
  {
   "cell_type": "code",
   "execution_count": 248,
   "metadata": {},
   "outputs": [],
   "source": [
    "X=finaldf1[0].values\n",
    "y=finaldf1[\"Score\"].values"
   ]
  },
  {
   "cell_type": "code",
   "execution_count": null,
   "metadata": {},
   "outputs": [],
   "source": []
  },
  {
   "cell_type": "code",
   "execution_count": 249,
   "metadata": {},
   "outputs": [],
   "source": [
    "X_1=X[0:8000]\n",
    "y_1=y[0:8000]\n",
    "X_test=X[8000:10000]\n",
    "y_test=y[8000:10000]"
   ]
  },
  {
   "cell_type": "code",
   "execution_count": 250,
   "metadata": {},
   "outputs": [],
   "source": [
    "tfidf = TfidfVectorizer()\n",
    "final_tfidf = tfidf.fit_transform(X)"
   ]
  },
  {
   "cell_type": "code",
   "execution_count": 251,
   "metadata": {},
   "outputs": [],
   "source": [
    "list_of_sent_X1 = []\n",
    "for sent in X_1:\n",
    "    filtered_sentance=[]\n",
    "    for w in sent.split():\n",
    "        filtered_sentance.append(w)\n",
    "    list_of_sent_X1.append(filtered_sentance)"
   ]
  },
  {
   "cell_type": "code",
   "execution_count": 252,
   "metadata": {},
   "outputs": [],
   "source": [
    "tfidf_sent_vectors_X1 = []\n",
    "tfidf_feat = tfidf.get_feature_names()\n",
    "i=0\n",
    "for sent in list_of_sent_X1: # for each review/sentence\n",
    "    sent_vec = np.zeros(50) # as word vectors are of zero length\n",
    "    weight_sum =0.0; # num of words with a valid vector in the sentence/review\n",
    "    for word in sent: # for each word in a review/sentence\n",
    "        try:\n",
    "            vec = W2V.wv[word]\n",
    "            # obtain the tf_idfidf of a word in a sentence/review\n",
    "            tf_idf = final_tfidf[i, tfidf_feat.index(word)]\n",
    "            sent_vec += (vec * tf_idf)\n",
    "            weight_sum += tf_idf\n",
    "        except:\n",
    "            pass\n",
    "    tfidf_sent_vec = sent_vec/weight_sum\n",
    "    tfidf_sent_vectors_X1.append(tfidf_sent_vec)\n",
    "    i += 1"
   ]
  },
  {
   "cell_type": "code",
   "execution_count": 253,
   "metadata": {},
   "outputs": [],
   "source": [
    "df_X1=pd.DataFrame(tfidf_sent_vectors_X1)\n"
   ]
  },
  {
   "cell_type": "code",
   "execution_count": 254,
   "metadata": {},
   "outputs": [
    {
     "data": {
      "text/plain": [
       "(8000, 50)"
      ]
     },
     "execution_count": 254,
     "metadata": {},
     "output_type": "execute_result"
    }
   ],
   "source": [
    "df_X1.shape"
   ]
  },
  {
   "cell_type": "code",
   "execution_count": 62,
   "metadata": {},
   "outputs": [],
   "source": [
    "tuned_parameters=[{'C':[10**-4,10**-2,10**-0,10**-2,10**4]}]"
   ]
  },
  {
   "cell_type": "markdown",
   "metadata": {},
   "source": [
    "#### 4.1 GridSearchCV"
   ]
  },
  {
   "cell_type": "code",
   "execution_count": 63,
   "metadata": {},
   "outputs": [
    {
     "data": {
      "text/plain": [
       "GridSearchCV(cv=None, error_score='raise',\n",
       "       estimator=LogisticRegression(C=1.0, class_weight=None, dual=False, fit_intercept=True,\n",
       "          intercept_scaling=1, max_iter=100, multi_class='ovr', n_jobs=1,\n",
       "          penalty='l2', random_state=None, solver='liblinear', tol=0.0001,\n",
       "          verbose=0, warm_start=False),\n",
       "       fit_params={}, iid=True, n_jobs=1,\n",
       "       param_grid=[{'C': [0.0001, 0.01, 1, 0.01, 10000]}],\n",
       "       pre_dispatch='2*n_jobs', refit=True, scoring='f1', verbose=0)"
      ]
     },
     "execution_count": 63,
     "metadata": {},
     "output_type": "execute_result"
    }
   ],
   "source": [
    "model = GridSearchCV(LogisticRegression(),tuned_parameters,scoring='f1')\n",
    "model.fit(df_X1,y_1)"
   ]
  },
  {
   "cell_type": "code",
   "execution_count": null,
   "metadata": {},
   "outputs": [],
   "source": []
  },
  {
   "cell_type": "code",
   "execution_count": 255,
   "metadata": {},
   "outputs": [],
   "source": [
    "list_of_sent_Xtest = []\n",
    "for sent in X_test:\n",
    "    filtered_sentance=[]\n",
    "    for w in sent.split():\n",
    "        filtered_sentance.append(w)\n",
    "    list_of_sent_Xtest.append(filtered_sentance)"
   ]
  },
  {
   "cell_type": "code",
   "execution_count": 256,
   "metadata": {},
   "outputs": [
    {
     "name": "stderr",
     "output_type": "stream",
     "text": [
      "C:\\Users\\Dipayan\\Anaconda3\\lib\\site-packages\\ipykernel_launcher.py:16: RuntimeWarning: invalid value encountered in true_divide\n",
      "  app.launch_new_instance()\n"
     ]
    }
   ],
   "source": [
    "tfidf_sent_vectors_Xtest = []\n",
    "tfidf_feat = tfidf.get_feature_names()\n",
    "i=0\n",
    "for sent in list_of_sent_Xtest: # for each review/sentence\n",
    "    sent_vec = np.zeros(50) # as word vectors are of zero length\n",
    "    weight_sum =0.0; # num of words with a valid vector in the sentence/review\n",
    "    for word in sent: # for each word in a review/sentence\n",
    "        try:\n",
    "            vec = W2V.wv[word]\n",
    "            # obtain the tf_idfidf of a word in a sentence/review\n",
    "            tf_idf = final_tfidf[i, tfidf_feat.index(word)]\n",
    "            sent_vec += (vec * tf_idf)\n",
    "            weight_sum += tf_idf\n",
    "        except:\n",
    "            pass\n",
    "    tfidf_sent_vec = sent_vec/weight_sum\n",
    "    if weight_sum==0:\n",
    "        tfidf_sent_vectors_Xtest.append(np.zeros(50))\n",
    "    else:\n",
    "        tfidf_sent_vectors_Xtest.append(tfidf_sent_vec)\n",
    "    i += 1"
   ]
  },
  {
   "cell_type": "code",
   "execution_count": 257,
   "metadata": {},
   "outputs": [],
   "source": [
    "df_Xtest=pd.DataFrame(tfidf_sent_vectors_Xtest)"
   ]
  },
  {
   "cell_type": "code",
   "execution_count": 258,
   "metadata": {},
   "outputs": [
    {
     "data": {
      "text/plain": [
       "(2000, 50)"
      ]
     },
     "execution_count": 258,
     "metadata": {},
     "output_type": "execute_result"
    }
   ],
   "source": [
    "df_Xtest.shape"
   ]
  },
  {
   "cell_type": "code",
   "execution_count": 70,
   "metadata": {},
   "outputs": [
    {
     "name": "stdout",
     "output_type": "stream",
     "text": [
      "LogisticRegression(C=1, class_weight=None, dual=False, fit_intercept=True,\n",
      "          intercept_scaling=1, max_iter=100, multi_class='ovr', n_jobs=1,\n",
      "          penalty='l2', random_state=None, solver='liblinear', tol=0.0001,\n",
      "          verbose=0, warm_start=False)\n",
      "0.9046965119472671\n"
     ]
    }
   ],
   "source": [
    "print(model.best_estimator_)\n",
    "print(model.score(df_Xtest,y_test))"
   ]
  },
  {
   "cell_type": "code",
   "execution_count": 72,
   "metadata": {},
   "outputs": [
    {
     "data": {
      "text/plain": [
       "GridSearchCV(cv=None, error_score='raise',\n",
       "       estimator=LogisticRegression(C=1.0, class_weight=None, dual=False, fit_intercept=True,\n",
       "          intercept_scaling=1, max_iter=100, multi_class='ovr', n_jobs=1,\n",
       "          penalty='l1', random_state=None, solver='liblinear', tol=0.0001,\n",
       "          verbose=0, warm_start=False),\n",
       "       fit_params={}, iid=True, n_jobs=3,\n",
       "       param_grid=[{'C': [0.0001, 0.01, 1, 0.01, 10000]}],\n",
       "       pre_dispatch='2*n_jobs', refit=True, scoring='f1', verbose=0)"
      ]
     },
     "execution_count": 72,
     "metadata": {},
     "output_type": "execute_result"
    }
   ],
   "source": [
    "model1 = GridSearchCV(LogisticRegression(penalty='l1'),tuned_parameters,scoring='f1',n_jobs=3)\n",
    "model1.fit(df_X1,y_1)"
   ]
  },
  {
   "cell_type": "code",
   "execution_count": 73,
   "metadata": {},
   "outputs": [
    {
     "name": "stdout",
     "output_type": "stream",
     "text": [
      "LogisticRegression(C=0.01, class_weight=None, dual=False, fit_intercept=True,\n",
      "          intercept_scaling=1, max_iter=100, multi_class='ovr', n_jobs=1,\n",
      "          penalty='l1', random_state=None, solver='liblinear', tol=0.0001,\n",
      "          verbose=0, warm_start=False)\n",
      "0.9136338946224878\n"
     ]
    }
   ],
   "source": [
    "print(model1.best_estimator_)\n",
    "print(model1.score(df_Xtest,y_test))"
   ]
  },
  {
   "cell_type": "markdown",
   "metadata": {},
   "source": [
    "#### 4.1.1 Applying Logistic Regression with best C"
   ]
  },
  {
   "cell_type": "code",
   "execution_count": 259,
   "metadata": {},
   "outputs": [
    {
     "data": {
      "text/plain": [
       "LogisticRegression(C=0.0001, class_weight=None, dual=False,\n",
       "          fit_intercept=True, intercept_scaling=1, max_iter=100,\n",
       "          multi_class='ovr', n_jobs=1, penalty='l2', random_state=None,\n",
       "          solver='liblinear', tol=0.0001, verbose=0, warm_start=False)"
      ]
     },
     "execution_count": 259,
     "metadata": {},
     "output_type": "execute_result"
    }
   ],
   "source": [
    "LR=LogisticRegression(C=0.0001)\n",
    "LR.fit(df_X1,y_1)"
   ]
  },
  {
   "cell_type": "code",
   "execution_count": null,
   "metadata": {},
   "outputs": [],
   "source": []
  },
  {
   "cell_type": "code",
   "execution_count": 260,
   "metadata": {},
   "outputs": [],
   "source": [
    "tn,fn,fp,fn=metrics.confusion_matrix(y_test,LR.predict(df_Xtest)).ravel()"
   ]
  },
  {
   "cell_type": "code",
   "execution_count": 261,
   "metadata": {},
   "outputs": [],
   "source": [
    "prec = metrics.precision_score(y_test,LR.predict(df_Xtest))"
   ]
  },
  {
   "cell_type": "code",
   "execution_count": 262,
   "metadata": {},
   "outputs": [],
   "source": [
    "recall= metrics.recall_score(y_test,LR.predict(df_Xtest))"
   ]
  },
  {
   "cell_type": "code",
   "execution_count": 263,
   "metadata": {},
   "outputs": [],
   "source": [
    "f1 = metrics.f1_score(y_test,LR.predict(df_Xtest))"
   ]
  },
  {
   "cell_type": "code",
   "execution_count": 264,
   "metadata": {},
   "outputs": [],
   "source": [
    "accuracy= metrics.accuracy_score(y_test,LR.predict(df_Xtest))"
   ]
  },
  {
   "cell_type": "code",
   "execution_count": 265,
   "metadata": {},
   "outputs": [],
   "source": [
    "specificity = tn/float(tn+fp)"
   ]
  },
  {
   "cell_type": "code",
   "execution_count": 266,
   "metadata": {},
   "outputs": [],
   "source": [
    "neg_pred_value = tn/float(tn+fn)"
   ]
  },
  {
   "cell_type": "code",
   "execution_count": 267,
   "metadata": {},
   "outputs": [],
   "source": [
    "df5 = pd.DataFrame({'Accuracy Score':[accuracy],'Precision':[prec],'Recall':[recall],'F1_Score':[f1],'Specificity':[specificity],'Negative_Predicted_Value':[neg_pred_value]},index=['W2V_tfidf'])"
   ]
  },
  {
   "cell_type": "code",
   "execution_count": 268,
   "metadata": {},
   "outputs": [],
   "source": [
    "performance_table=performance_table.append(df5)"
   ]
  },
  {
   "cell_type": "code",
   "execution_count": 269,
   "metadata": {},
   "outputs": [
    {
     "data": {
      "text/html": [
       "<div>\n",
       "<style scoped>\n",
       "    .dataframe tbody tr th:only-of-type {\n",
       "        vertical-align: middle;\n",
       "    }\n",
       "\n",
       "    .dataframe tbody tr th {\n",
       "        vertical-align: top;\n",
       "    }\n",
       "\n",
       "    .dataframe thead th {\n",
       "        text-align: right;\n",
       "    }\n",
       "</style>\n",
       "<table border=\"1\" class=\"dataframe\">\n",
       "  <thead>\n",
       "    <tr style=\"text-align: right;\">\n",
       "      <th></th>\n",
       "      <th>Accuracy Score</th>\n",
       "      <th>Precision</th>\n",
       "      <th>Recall</th>\n",
       "      <th>F1_Score</th>\n",
       "      <th>Specificity</th>\n",
       "      <th>Negative_Predicted_Value</th>\n",
       "    </tr>\n",
       "  </thead>\n",
       "  <tbody>\n",
       "    <tr>\n",
       "      <th>BoW_GridSearch</th>\n",
       "      <td>0.800501</td>\n",
       "      <td>0.843852</td>\n",
       "      <td>0.936737</td>\n",
       "      <td>0.887872</td>\n",
       "      <td>0.166421</td>\n",
       "      <td>0.013304</td>\n",
       "    </tr>\n",
       "    <tr>\n",
       "      <th>BoW_RandomSearch</th>\n",
       "      <td>0.798258</td>\n",
       "      <td>0.843866</td>\n",
       "      <td>0.933451</td>\n",
       "      <td>0.886401</td>\n",
       "      <td>0.166106</td>\n",
       "      <td>0.014002</td>\n",
       "    </tr>\n",
       "    <tr>\n",
       "      <th>Tfidf_GridSearch</th>\n",
       "      <td>0.830094</td>\n",
       "      <td>0.843475</td>\n",
       "      <td>0.980440</td>\n",
       "      <td>0.906815</td>\n",
       "      <td>0.170616</td>\n",
       "      <td>0.004087</td>\n",
       "    </tr>\n",
       "    <tr>\n",
       "      <th>Tfidf_RandomSearch</th>\n",
       "      <td>0.802273</td>\n",
       "      <td>0.843333</td>\n",
       "      <td>0.940157</td>\n",
       "      <td>0.889117</td>\n",
       "      <td>0.158970</td>\n",
       "      <td>0.011888</td>\n",
       "    </tr>\n",
       "    <tr>\n",
       "      <th>W2V_avg</th>\n",
       "      <td>0.842855</td>\n",
       "      <td>0.843154</td>\n",
       "      <td>0.999575</td>\n",
       "      <td>0.914726</td>\n",
       "      <td>0.050000</td>\n",
       "      <td>0.000022</td>\n",
       "    </tr>\n",
       "    <tr>\n",
       "      <th>W2V_tfidf</th>\n",
       "      <td>0.836000</td>\n",
       "      <td>0.838435</td>\n",
       "      <td>0.996422</td>\n",
       "      <td>0.910627</td>\n",
       "      <td>0.142857</td>\n",
       "      <td>0.000598</td>\n",
       "    </tr>\n",
       "  </tbody>\n",
       "</table>\n",
       "</div>"
      ],
      "text/plain": [
       "                    Accuracy Score  Precision    Recall  F1_Score  \\\n",
       "BoW_GridSearch            0.800501   0.843852  0.936737  0.887872   \n",
       "BoW_RandomSearch          0.798258   0.843866  0.933451  0.886401   \n",
       "Tfidf_GridSearch          0.830094   0.843475  0.980440  0.906815   \n",
       "Tfidf_RandomSearch        0.802273   0.843333  0.940157  0.889117   \n",
       "W2V_avg                   0.842855   0.843154  0.999575  0.914726   \n",
       "W2V_tfidf                 0.836000   0.838435  0.996422  0.910627   \n",
       "\n",
       "                    Specificity  Negative_Predicted_Value  \n",
       "BoW_GridSearch         0.166421                  0.013304  \n",
       "BoW_RandomSearch       0.166106                  0.014002  \n",
       "Tfidf_GridSearch       0.170616                  0.004087  \n",
       "Tfidf_RandomSearch     0.158970                  0.011888  \n",
       "W2V_avg                0.050000                  0.000022  \n",
       "W2V_tfidf              0.142857                  0.000598  "
      ]
     },
     "execution_count": 269,
     "metadata": {},
     "output_type": "execute_result"
    }
   ],
   "source": [
    "performance_table"
   ]
  },
  {
   "cell_type": "code",
   "execution_count": 270,
   "metadata": {},
   "outputs": [],
   "source": [
    "con_matrix=metrics.confusion_matrix(y_test,LR.predict(df_Xtest))"
   ]
  },
  {
   "cell_type": "code",
   "execution_count": 271,
   "metadata": {},
   "outputs": [],
   "source": [
    "import seaborn as sns"
   ]
  },
  {
   "cell_type": "code",
   "execution_count": 272,
   "metadata": {},
   "outputs": [],
   "source": [
    "df_con = pd.DataFrame(con_matrix.T,columns=['Negative','Positive'],index=['Negative','Positive'])"
   ]
  },
  {
   "cell_type": "code",
   "execution_count": 273,
   "metadata": {},
   "outputs": [],
   "source": [
    "y_pred_prob=LR.predict_proba(df_Xtest)"
   ]
  },
  {
   "cell_type": "code",
   "execution_count": null,
   "metadata": {},
   "outputs": [],
   "source": []
  },
  {
   "cell_type": "code",
   "execution_count": 274,
   "metadata": {},
   "outputs": [],
   "source": [
    "fpr, tpr, thresholds = metrics.roc_curve(y_test, y_pred_prob[:,1], pos_label=1)"
   ]
  },
  {
   "cell_type": "code",
   "execution_count": 275,
   "metadata": {},
   "outputs": [
    {
     "data": {
      "image/png": "[encoded data removed]",
      "text/plain": [
       "<Figure size 864x360 with 3 Axes>"
      ]
     },
     "metadata": {},
     "output_type": "display_data"
    }
   ],
   "source": [
    "plt.figure(figsize=(12,5))\n",
    "plt.subplot(121)\n",
    "plt.title('Confusion Matrix')\n",
    "sns.heatmap(df_con,annot=True,fmt='g')\n",
    "plt.subplot(122)\n",
    "lw = 2\n",
    "plt.plot(fpr, tpr, color='darkorange',\n",
    "         lw=lw, label='ROC curve (area = %0.2f)')\n",
    "#plt.plot([0, 1], [0, 1], color='navy', lw=lw, linestyle='--')\n",
    "plt.xlim([0.0, 1.0])\n",
    "plt.ylim([0.0, 1.05])\n",
    "plt.xlabel('False Positive Rate')\n",
    "plt.ylabel('True Positive Rate')\n",
    "plt.title('Receiver operating characteristic')\n",
    "plt.legend(loc=\"lower right\")\n",
    "plt.show()"
   ]
  },
  {
   "cell_type": "code",
   "execution_count": null,
   "metadata": {},
   "outputs": [],
   "source": []
  },
  {
   "cell_type": "code",
   "execution_count": null,
   "metadata": {},
   "outputs": [],
   "source": []
  },
  {
   "cell_type": "code",
   "execution_count": 276,
   "metadata": {},
   "outputs": [
    {
     "data": {
      "text/plain": [
       "array([[-7.77882539e-02, -4.65097783e-02,  7.08634188e-06,\n",
       "        -1.04274182e-02, -1.66797802e-02, -3.32341038e-04,\n",
       "         2.04101375e-03,  1.32657545e-02, -1.10970790e-02,\n",
       "         7.57020147e-03, -1.41604035e-02, -6.54236835e-03,\n",
       "        -2.76824954e-02, -3.03249634e-02, -4.85039917e-02,\n",
       "         3.33958408e-02, -5.78217454e-02, -2.42602686e-02,\n",
       "         4.59385857e-02,  5.47554603e-02,  2.15826570e-02,\n",
       "        -7.13225968e-02, -4.54172492e-02,  6.47314912e-02,\n",
       "         2.74273756e-02,  2.08034463e-02,  7.24480216e-02,\n",
       "        -3.34731197e-02,  2.63141178e-02,  1.23431897e-02,\n",
       "         7.85558594e-02, -1.96399057e-02,  2.85465079e-02,\n",
       "         4.11006773e-02,  2.67496194e-02,  4.05933997e-02,\n",
       "        -4.34007659e-02,  3.63177481e-02,  2.18132019e-02,\n",
       "        -9.85048617e-03, -6.03567616e-02, -2.61195469e-03,\n",
       "         7.38286567e-03,  3.48703640e-04,  4.93034453e-02,\n",
       "         2.57752250e-02, -1.48632140e-02, -4.39300015e-03,\n",
       "         5.72146144e-02,  6.07096779e-02]])"
      ]
     },
     "execution_count": 276,
     "metadata": {},
     "output_type": "execute_result"
    }
   ],
   "source": [
    "LR.coef_"
   ]
  },
  {
   "cell_type": "code",
   "execution_count": 277,
   "metadata": {},
   "outputs": [],
   "source": [
    "LR_W1=LR.coef_"
   ]
  },
  {
   "cell_type": "code",
   "execution_count": 278,
   "metadata": {},
   "outputs": [],
   "source": [
    "coeff_sorted = LR.coef_.argsort()"
   ]
  },
  {
   "cell_type": "markdown",
   "metadata": {},
   "source": [
    "#### 4.1.2 Pertubation test"
   ]
  },
  {
   "cell_type": "code",
   "execution_count": 280,
   "metadata": {},
   "outputs": [],
   "source": [
    "e=np.random.normal(0.03,0.02)"
   ]
  },
  {
   "cell_type": "code",
   "execution_count": 281,
   "metadata": {},
   "outputs": [
    {
     "data": {
      "text/plain": [
       "0.035876415566049244"
      ]
     },
     "execution_count": 281,
     "metadata": {},
     "output_type": "execute_result"
    }
   ],
   "source": [
    "e"
   ]
  },
  {
   "cell_type": "code",
   "execution_count": 282,
   "metadata": {},
   "outputs": [],
   "source": [
    "df_X1+=e"
   ]
  },
  {
   "cell_type": "code",
   "execution_count": null,
   "metadata": {},
   "outputs": [],
   "source": []
  },
  {
   "cell_type": "code",
   "execution_count": 283,
   "metadata": {},
   "outputs": [
    {
     "data": {
      "text/plain": [
       "LogisticRegression(C=0.0001, class_weight=None, dual=False,\n",
       "          fit_intercept=True, intercept_scaling=1, max_iter=100,\n",
       "          multi_class='ovr', n_jobs=1, penalty='l2', random_state=None,\n",
       "          solver='liblinear', tol=0.0001, verbose=0, warm_start=False)"
      ]
     },
     "execution_count": 283,
     "metadata": {},
     "output_type": "execute_result"
    }
   ],
   "source": [
    "LR1=LogisticRegression(C=0.0001)\n",
    "LR1.fit(df_X1,y_1)"
   ]
  },
  {
   "cell_type": "code",
   "execution_count": 284,
   "metadata": {},
   "outputs": [
    {
     "data": {
      "text/plain": [
       "array([[-0.07200137, -0.04165145,  0.00445106, -0.00524686, -0.01158557,\n",
       "         0.00407071,  0.00621794,  0.01766796, -0.00618363,  0.01215455,\n",
       "        -0.00967536, -0.00179846, -0.02332415, -0.02508908, -0.04285368,\n",
       "         0.03741228, -0.05312882, -0.01938446,  0.04959898,  0.05840579,\n",
       "         0.02678978, -0.06583143, -0.04030218,  0.06875766,  0.03149715,\n",
       "         0.02516015,  0.07636657, -0.02801044,  0.03076668,  0.01751598,\n",
       "         0.08233949, -0.01464199,  0.03307892,  0.0456806 ,  0.03112657,\n",
       "         0.04466819, -0.03809792,  0.04076001,  0.02570744, -0.00513407,\n",
       "        -0.05467123,  0.00198351,  0.01221075,  0.00529025,  0.05315428,\n",
       "         0.03012576, -0.00923508,  0.00036502,  0.06087761,  0.06465505]])"
      ]
     },
     "execution_count": 284,
     "metadata": {},
     "output_type": "execute_result"
    }
   ],
   "source": [
    "LR1.coef_"
   ]
  },
  {
   "cell_type": "code",
   "execution_count": null,
   "metadata": {},
   "outputs": [],
   "source": []
  },
  {
   "cell_type": "code",
   "execution_count": 285,
   "metadata": {},
   "outputs": [],
   "source": [
    "LR1_W1=LR1.coef_"
   ]
  },
  {
   "cell_type": "code",
   "execution_count": 286,
   "metadata": {},
   "outputs": [],
   "source": [
    "LR_W_Diff = LR_W1-LR1_W1"
   ]
  },
  {
   "cell_type": "code",
   "execution_count": 287,
   "metadata": {},
   "outputs": [],
   "source": [
    "import numpy as np"
   ]
  },
  {
   "cell_type": "code",
   "execution_count": 288,
   "metadata": {},
   "outputs": [
    {
     "data": {
      "text/plain": [
       "0.005786883110709143"
      ]
     },
     "execution_count": 288,
     "metadata": {},
     "output_type": "execute_result"
    }
   ],
   "source": [
    "max(np.absolute(LR_W_Diff[LR_W_Diff!=0]))"
   ]
  },
  {
   "cell_type": "code",
   "execution_count": 289,
   "metadata": {
    "scrolled": true
   },
   "outputs": [
    {
     "data": {
      "text/plain": [
       "0.003650333729580929"
      ]
     },
     "execution_count": 289,
     "metadata": {},
     "output_type": "execute_result"
    }
   ],
   "source": [
    "min(np.absolute(LR_W_Diff[LR_W_Diff!=0]))"
   ]
  },
  {
   "cell_type": "code",
   "execution_count": 290,
   "metadata": {},
   "outputs": [
    {
     "data": {
      "text/plain": [
       "0.00462867205611472"
      ]
     },
     "execution_count": 290,
     "metadata": {},
     "output_type": "execute_result"
    }
   ],
   "source": [
    "np.mean(np.absolute(LR_W_Diff[LR_W_Diff!=0]))"
   ]
  },
  {
   "cell_type": "code",
   "execution_count": null,
   "metadata": {},
   "outputs": [],
   "source": []
  },
  {
   "cell_type": "markdown",
   "metadata": {},
   "source": [
    "#### 4.2.1 C vs Sparcity"
   ]
  },
  {
   "cell_type": "code",
   "execution_count": 93,
   "metadata": {},
   "outputs": [],
   "source": [
    "z0=[]\n",
    "for i in [0.1,0.01,0.001,0.0001]:\n",
    "    lr = LogisticRegression(C=i,penalty='l1')\n",
    "    lr.fit(df_X1,y_1)\n",
    "    w=lr.coef_\n",
    "    z=np.count_nonzero(w)\n",
    "    z0.append(z)"
   ]
  },
  {
   "cell_type": "code",
   "execution_count": 94,
   "metadata": {
    "scrolled": true
   },
   "outputs": [
    {
     "data": {
      "image/png": "[encoded data removed]",
      "text/plain": [
       "<matplotlib.figure.Figure at 0x20dcd7617b8>"
      ]
     },
     "metadata": {},
     "output_type": "display_data"
    }
   ],
   "source": [
    "plt.plot([0.1,0.01,0.001,0.0001],z0)\n",
    "plt.xlabel('C values')\n",
    "plt.ylabel('Number of non zero entry in weight vector')\n",
    "plt.show()"
   ]
  },
  {
   "cell_type": "markdown",
   "metadata": {},
   "source": [
    "#### 4.2.2 C vs Error"
   ]
  },
  {
   "cell_type": "code",
   "execution_count": 96,
   "metadata": {},
   "outputs": [
    {
     "name": "stdout",
     "output_type": "stream",
     "text": [
      "0.841\n",
      "0.841\n",
      "0.841\n",
      "0.159\n"
     ]
    }
   ],
   "source": [
    "e0=[]\n",
    "for i in [0.1,0.01,0.001,0.0001]:\n",
    "    lr = LogisticRegression(C=i,penalty='l1')\n",
    "    lr.fit(df_X1,y_1)\n",
    "    y_pred=lr.predict(df_Xtest)\n",
    "    print(metrics.accuracy_score(y_test,y_pred))\n",
    "    e0.append((1-metrics.accuracy_score(y_test,y_pred)))"
   ]
  },
  {
   "cell_type": "code",
   "execution_count": 97,
   "metadata": {
    "scrolled": true
   },
   "outputs": [
    {
     "data": {
      "image/png": "[encoded data removed]",
      "text/plain": [
       "<matplotlib.figure.Figure at 0x20dcd77c978>"
      ]
     },
     "metadata": {},
     "output_type": "display_data"
    }
   ],
   "source": [
    "plt.plot([0.1,0.01,0.001,0.0001],e0)\n",
    "plt.xlabel('C values')\n",
    "plt.ylabel('Error')\n",
    "plt.show()"
   ]
  },
  {
   "cell_type": "code",
   "execution_count": null,
   "metadata": {},
   "outputs": [],
   "source": []
  },
  {
   "cell_type": "markdown",
   "metadata": {},
   "source": [
    "#### Summary\n",
    "- Dataset was loaded\n",
    "- Whole set was sorted based on time\n",
    "- Pre processing on Text data was performed\n",
    "- Whole set was splitted into two parts, 80% training set, 20% test set\n",
    "- Tried Bag of Words, Tfidf, Average Word2Vec and Tfidf Word2Vec. For each method following steps are performed\n",
    " - Column Standardization\n",
    " - GridSearchCV and RandomizedCV\n",
    " - Applied Logistic Regression with derived C values\n",
    " - Pertubation Test\n",
    " - Feature Importance\n",
    " - L1 Regularization\n",
    " - C Vs Sparcity\n",
    " - C Vs Error"
   ]
  },
  {
   "cell_type": "code",
   "execution_count": 297,
   "metadata": {},
   "outputs": [
    {
     "name": "stdout",
     "output_type": "stream",
     "text": [
      "=================================== performance_table ===================================\n"
     ]
    },
    {
     "data": {
      "text/html": [
       "<div>\n",
       "<style scoped>\n",
       "    .dataframe tbody tr th:only-of-type {\n",
       "        vertical-align: middle;\n",
       "    }\n",
       "\n",
       "    .dataframe tbody tr th {\n",
       "        vertical-align: top;\n",
       "    }\n",
       "\n",
       "    .dataframe thead th {\n",
       "        text-align: right;\n",
       "    }\n",
       "</style>\n",
       "<table border=\"1\" class=\"dataframe\">\n",
       "  <thead>\n",
       "    <tr style=\"text-align: right;\">\n",
       "      <th></th>\n",
       "      <th>Accuracy Score</th>\n",
       "      <th>Precision</th>\n",
       "      <th>Recall</th>\n",
       "      <th>F1_Score</th>\n",
       "      <th>Specificity</th>\n",
       "      <th>Negative_Predicted_Value</th>\n",
       "    </tr>\n",
       "  </thead>\n",
       "  <tbody>\n",
       "    <tr>\n",
       "      <th>BoW_GridSearch</th>\n",
       "      <td>0.800501</td>\n",
       "      <td>0.843852</td>\n",
       "      <td>0.936737</td>\n",
       "      <td>0.887872</td>\n",
       "      <td>0.166421</td>\n",
       "      <td>0.013304</td>\n",
       "    </tr>\n",
       "    <tr>\n",
       "      <th>BoW_RandomSearch</th>\n",
       "      <td>0.798258</td>\n",
       "      <td>0.843866</td>\n",
       "      <td>0.933451</td>\n",
       "      <td>0.886401</td>\n",
       "      <td>0.166106</td>\n",
       "      <td>0.014002</td>\n",
       "    </tr>\n",
       "    <tr>\n",
       "      <th>Tfidf_GridSearch</th>\n",
       "      <td>0.830094</td>\n",
       "      <td>0.843475</td>\n",
       "      <td>0.980440</td>\n",
       "      <td>0.906815</td>\n",
       "      <td>0.170616</td>\n",
       "      <td>0.004087</td>\n",
       "    </tr>\n",
       "    <tr>\n",
       "      <th>Tfidf_RandomSearch</th>\n",
       "      <td>0.802273</td>\n",
       "      <td>0.843333</td>\n",
       "      <td>0.940157</td>\n",
       "      <td>0.889117</td>\n",
       "      <td>0.158970</td>\n",
       "      <td>0.011888</td>\n",
       "    </tr>\n",
       "    <tr>\n",
       "      <th>W2V_avg</th>\n",
       "      <td>0.842855</td>\n",
       "      <td>0.843154</td>\n",
       "      <td>0.999575</td>\n",
       "      <td>0.914726</td>\n",
       "      <td>0.050000</td>\n",
       "      <td>0.000022</td>\n",
       "    </tr>\n",
       "    <tr>\n",
       "      <th>W2V_tfidf</th>\n",
       "      <td>0.836000</td>\n",
       "      <td>0.838435</td>\n",
       "      <td>0.996422</td>\n",
       "      <td>0.910627</td>\n",
       "      <td>0.142857</td>\n",
       "      <td>0.000598</td>\n",
       "    </tr>\n",
       "  </tbody>\n",
       "</table>\n",
       "</div>"
      ],
      "text/plain": [
       "                    Accuracy Score  Precision    Recall  F1_Score  \\\n",
       "BoW_GridSearch            0.800501   0.843852  0.936737  0.887872   \n",
       "BoW_RandomSearch          0.798258   0.843866  0.933451  0.886401   \n",
       "Tfidf_GridSearch          0.830094   0.843475  0.980440  0.906815   \n",
       "Tfidf_RandomSearch        0.802273   0.843333  0.940157  0.889117   \n",
       "W2V_avg                   0.842855   0.843154  0.999575  0.914726   \n",
       "W2V_tfidf                 0.836000   0.838435  0.996422  0.910627   \n",
       "\n",
       "                    Specificity  Negative_Predicted_Value  \n",
       "BoW_GridSearch         0.166421                  0.013304  \n",
       "BoW_RandomSearch       0.166106                  0.014002  \n",
       "Tfidf_GridSearch       0.170616                  0.004087  \n",
       "Tfidf_RandomSearch     0.158970                  0.011888  \n",
       "W2V_avg                0.050000                  0.000022  \n",
       "W2V_tfidf              0.142857                  0.000598  "
      ]
     },
     "metadata": {},
     "output_type": "display_data"
    },
    {
     "name": "stdout",
     "output_type": "stream",
     "text": [
      "============================================================================================\n"
     ]
    }
   ],
   "source": [
    "print(\"=\"*35,'performance_table',\"=\"*35)\n",
    "display(performance_table)\n",
    "print(\"=\"*92)"
   ]
  },
  {
   "cell_type": "code",
   "execution_count": null,
   "metadata": {},
   "outputs": [],
   "source": []
  }
 ],
 "metadata": {
  "kernelspec": {
   "display_name": "Python 3",
   "language": "python",
   "name": "python3"
  },
  "language_info": {
   "codemirror_mode": {
    "name": "ipython",
    "version": 3
   },
   "file_extension": ".py",
   "mimetype": "text/x-python",
   "name": "python",
   "nbconvert_exporter": "python",
   "pygments_lexer": "ipython3",
   "version": "3.6.4"
  }
 },
 "nbformat": 4,
 "nbformat_minor": 2
}
